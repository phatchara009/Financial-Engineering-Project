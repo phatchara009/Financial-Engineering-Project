{
 "cells": [
  {
   "cell_type": "markdown",
   "metadata": {},
   "source": [
    "# Importing Libraries\n",
    "We begin by importing the necessary libraries: numpy, pandas, datetime, yfinance, matplotlib, and scipy.stats."
   ]
  },
  {
   "cell_type": "code",
   "execution_count": 1,
   "metadata": {},
   "outputs": [],
   "source": [
    "import numpy as np\n",
    "import pandas as pd\n",
    "import datetime as dt\n",
    "import yfinance as yf\n",
    "import matplotlib.pyplot as plt\n",
    "from scipy.stats import norm"
   ]
  },
  {
   "cell_type": "markdown",
   "metadata": {},
   "source": [
    "# Setting Time Range and Ticker List\n",
    "In this section, we set the time range for our historical data to 15 years and create a list of stock tickers for our portfolio."
   ]
  },
  {
   "cell_type": "code",
   "execution_count": 2,
   "metadata": {},
   "outputs": [],
   "source": [
    "### Set time from to a certain number of years\n",
    "years = 15\n",
    "\n",
    "endDate = dt.datetime.now()\n",
    "startDate = endDate - dt.timedelta(days = 365*years)\n",
    "\n",
    "### Create a list of tickers\n",
    "tickers = ['SPY','BND','GLD','QQQ','VTI']"
   ]
  },
  {
   "cell_type": "markdown",
   "metadata": {},
   "source": [
    "# Downloading Adjusted Close Prices\n",
    "Next, we download the daily adjusted close prices for each stock ticker using the yfinance library and store the data in a DataFrame."
   ]
  },
  {
   "cell_type": "code",
   "execution_count": 3,
   "metadata": {},
   "outputs": [
    {
     "name": "stdout",
     "output_type": "stream",
     "text": [
      "[*********************100%%**********************]  1 of 1 completed\n",
      "[*********************100%%**********************]  1 of 1 completed\n",
      "[*********************100%%**********************]  1 of 1 completed\n",
      "[*********************100%%**********************]  1 of 1 completed\n",
      "[*********************100%%**********************]  1 of 1 completed\n",
      "                   SPY        BND         GLD         QQQ         VTI\n",
      "Date                                                                 \n",
      "2008-10-06   78.371605  48.870636   84.279999   30.494030   39.873894\n",
      "2008-10-07   74.861641  49.013233   87.269997   28.560816   37.439713\n",
      "2008-10-08   72.975723  48.287125   89.419998   28.333374   36.723782\n",
      "2008-10-09   67.879143  46.783024   89.900002   27.572346   34.417694\n",
      "2008-10-10   66.232712  45.356716   83.220001   27.397400   33.422920\n",
      "...                ...        ...         ...         ...         ...\n",
      "2023-09-25  432.230011  69.949997  177.699997  359.609985  214.500000\n",
      "2023-09-26  425.880005  69.879997  176.279999  354.209991  211.410004\n",
      "2023-09-27  426.049988  69.629997  174.100006  355.040009  211.630005\n",
      "2023-09-28  428.519989  69.809998  173.229996  358.010010  213.029999\n",
      "2023-09-29  427.480011  69.779999  171.449997  358.269989  212.410004\n",
      "\n",
      "[3772 rows x 5 columns]\n"
     ]
    }
   ],
   "source": [
    "### Download the daily adjusted close prices for the tickers\n",
    "adj_close_df = pd.DataFrame()\n",
    "\n",
    "for ticker in tickers:\n",
    "    data = yf.download(ticker, start = startDate, end = endDate)\n",
    "    adj_close_df[ticker] = data['Adj Close']\n",
    "\n",
    "print(adj_close_df)"
   ]
  },
  {
   "cell_type": "markdown",
   "metadata": {},
   "source": [
    "# Calculating Daily Log Returns\n",
    "We calculate the daily log returns for each stock in our portfolio and drop any missing values."
   ]
  },
  {
   "cell_type": "code",
   "execution_count": 4,
   "metadata": {},
   "outputs": [
    {
     "name": "stdout",
     "output_type": "stream",
     "text": [
      "                 SPY       BND       GLD       QQQ       VTI\n",
      "Date                                                        \n",
      "2008-10-07 -0.045820  0.002914  0.034862 -0.065495 -0.062990\n",
      "2008-10-08 -0.025515 -0.014925  0.024338 -0.007995 -0.019307\n",
      "2008-10-09 -0.072398 -0.031645  0.005354 -0.027227 -0.064854\n",
      "2008-10-10 -0.024554 -0.030962 -0.077210 -0.006365 -0.029329\n",
      "2008-10-13  0.135577  0.040754 -0.014890  0.114799  0.120710\n",
      "...              ...       ...       ...       ...       ...\n",
      "2023-09-25  0.004196 -0.007406 -0.005164  0.004739  0.004017\n",
      "2023-09-26 -0.014800 -0.001001 -0.008023 -0.015130 -0.014510\n",
      "2023-09-27  0.000399 -0.003584 -0.012444  0.002341  0.001040\n",
      "2023-09-28  0.005781  0.002582 -0.005010  0.008330  0.006594\n",
      "2023-09-29 -0.002430 -0.000430 -0.010329  0.000726 -0.002915\n",
      "\n",
      "[3771 rows x 5 columns]\n"
     ]
    }
   ],
   "source": [
    "### Calculate the daily log returns and drop any NAs\n",
    "log_returns = np.log(adj_close_df/adj_close_df.shift(1))\n",
    "log_returns  = log_returns.dropna()\n",
    "\n",
    "print(log_returns)"
   ]
  },
  {
   "cell_type": "markdown",
   "metadata": {},
   "source": [
    "# Defining Functions to Calculate Portfolio Expected Return and Standard Deviation\n",
    "We define two functions, expected_return() and standard_deviation(), which will be used to calculate the expected return and standard deviation of our portfolio, respectively."
   ]
  },
  {
   "cell_type": "code",
   "execution_count": 6,
   "metadata": {},
   "outputs": [],
   "source": [
    "### Create a function that will be used to calculate portfolio expected return\n",
    "# We are assuming that future returns are based on past returns, which is not a reliable assumption.\n",
    "def expected_return(weights, log_returns):\n",
    "    return np.sum(log_returns.mean()*weights)\n",
    "\n",
    "### Create a function that will be used to calculate portfolio standard deviation\n",
    "def standard_deviation (weights, cov_matrix):\n",
    "    variance = weights.T @ cov_matrix @ weights\n",
    "    return np.sqrt(variance)"
   ]
  },
  {
   "cell_type": "markdown",
   "metadata": {},
   "source": [
    "# Creating a Covariance Matrix\n",
    "We create a covariance matrix for all the securities in our portfolio using the daily log returns."
   ]
  },
  {
   "cell_type": "code",
   "execution_count": 7,
   "metadata": {},
   "outputs": [
    {
     "name": "stdout",
     "output_type": "stream",
     "text": [
      "              SPY           BND       GLD           QQQ           VTI\n",
      "SPY  1.614248e-04  6.340882e-07  0.000010  1.660758e-04  1.625414e-04\n",
      "BND  6.340882e-07  1.045190e-05  0.000009  3.395646e-07  5.534251e-07\n",
      "GLD  1.002762e-05  8.610329e-06  0.000111  9.373448e-06  1.066887e-05\n",
      "QQQ  1.660758e-04  3.395646e-07  0.000009  1.990061e-04  1.683314e-04\n",
      "VTI  1.625414e-04  5.534251e-07  0.000011  1.683314e-04  1.654476e-04\n"
     ]
    }
   ],
   "source": [
    "### Create a covariance matrix for all the securities\n",
    "cov_matrix = log_returns.cov()\n",
    "print(cov_matrix)"
   ]
  },
  {
   "cell_type": "markdown",
   "metadata": {},
   "source": [
    "# Calculating Portfolio Expected Return and Standard Deviation\n",
    "We create an equally weighted portfolio and calculate the portfolio’s expected return and standard deviation using the functions we defined earlier."
   ]
  },
  {
   "cell_type": "code",
   "execution_count": 8,
   "metadata": {},
   "outputs": [],
   "source": [
    "### Create an equally weighted portfolio and find total portfolio expected return and standard deviation\n",
    "portfolio_value = 1000000\n",
    "weights = np.array([1/len(tickers)]*len(tickers))\n",
    "portfolio_expected_return = expected_return(weights, log_returns)\n",
    "portfolio_std_dev = standard_deviation (weights, cov_matrix)"
   ]
  },
  {
   "cell_type": "markdown",
   "metadata": {},
   "source": [
    "# Defining Functions for Monte Carlo Simulation\n",
    "\n",
    "We define two functions: random_z_score() and scenario_gain_loss(). The first function generates a random Z-score based on a normal distribution, and the second function calculates the gain or loss for a given scenario."
   ]
  },
  {
   "cell_type": "code",
   "execution_count": 9,
   "metadata": {},
   "outputs": [],
   "source": [
    "def random_z_score():\n",
    "    return np.random.normal(0, 1)\n",
    "\n",
    "### Create a function to calculate scenarioGainLoss\n",
    "days = 20\n",
    "\n",
    "def scenario_gain_loss(portfolio_value, portfolio_std_dev, z_score, days):\n",
    "    return portfolio_value * portfolio_expected_return * days + portfolio_value * portfolio_std_dev * z_score * np.sqrt(days)"
   ]
  },
  {
   "cell_type": "markdown",
   "metadata": {},
   "source": [
    "# Running Monte Carlo Simulation\n",
    "We run 10,000 Monte Carlo simulations, calculating the scenario gain/loss for each simulation and storing the results in a list."
   ]
  },
  {
   "cell_type": "code",
   "execution_count": 10,
   "metadata": {},
   "outputs": [],
   "source": [
    "### Run 10000 simulations\n",
    "simulations = 10000\n",
    "scenarioReturn = []\n",
    "\n",
    "for i in range(simulations):\n",
    "    z_score = random_z_score()\n",
    "    scenarioReturn.append(scenario_gain_loss(portfolio_value, portfolio_std_dev, z_score, days))"
   ]
  },
  {
   "cell_type": "markdown",
   "metadata": {},
   "source": [
    "# Calculating Value at Risk (VaR)\n",
    "We specify a confidence interval of 99% and calculate Value at Risk (VaR) using the results of our simulations."
   ]
  },
  {
   "cell_type": "code",
   "execution_count": 11,
   "metadata": {},
   "outputs": [
    {
     "name": "stdout",
     "output_type": "stream",
     "text": [
      "79788.776614488\n"
     ]
    }
   ],
   "source": [
    "### Specify a confidence interval and calculate the Value at Risk (VaR)\n",
    "confidence_interval = 0.99\n",
    "VaR = -np.percentile(scenarioReturn, 100 * (1 - confidence_interval))\n",
    "print(VaR)"
   ]
  },
  {
   "cell_type": "markdown",
   "metadata": {},
   "source": [
    "# Plotting the Results\n",
    "Finally, we create a histogram to visualize the distribution of portfolio gain/loss over the specified number of days. We also add a vertical dashed line to indicate the VaR at our chosen confidence level."
   ]
  },
  {
   "cell_type": "code",
   "execution_count": 12,
   "metadata": {},
   "outputs": [
    {
     "data": {
      "image/png": "[encoded data removed]",
      "text/plain": [
       "<Figure size 640x480 with 1 Axes>"
      ]
     },
     "metadata": {},
     "output_type": "display_data"
    }
   ],
   "source": [
    "### Plot the results of all 10000 scenarios\n",
    "plt.hist(scenarioReturn, bins=50, density=True)\n",
    "plt.xlabel('Scenario Gain/Loss ($)')\n",
    "plt.ylabel('Frequency')\n",
    "plt.title(f'Distribution of Portfolio Gain/Loss Over {days} Days')\n",
    "plt.axvline(-VaR, color='r', linestyle='dashed', linewidth=2, label=f'VaR at {confidence_interval:.0%} confidence level')\n",
    "plt.legend()\n",
    "plt.show()"
   ]
  },
  {
   "cell_type": "markdown",
   "metadata": {},
   "source": [
    "# Conclusion\n",
    "This blog post has demonstrated how to calculate Value at Risk (VaR) for a portfolio of stocks using Python and its powerful libraries such as numpy, pandas, yfinance, matplotlib, and scipy. By running Monte Carlo simulations, we have estimated the potential loss in our portfolio over a specified number of days and at a given confidence level. This information can be invaluable for investors and portfolio managers when assessing the risk associated with their investment decisions. "
   ]
  }
 ],
 "metadata": {
  "kernelspec": {
   "display_name": "base",
   "language": "python",
   "name": "python3"
  },
  "language_info": {
   "codemirror_mode": {
    "name": "ipython",
    "version": 3
   },
   "file_extension": ".py",
   "mimetype": "text/x-python",
   "name": "python",
   "nbconvert_exporter": "python",
   "pygments_lexer": "ipython3",
   "version": "3.11.5"
  },
  "orig_nbformat": 4
 },
 "nbformat": 4,
 "nbformat_minor": 2
}
