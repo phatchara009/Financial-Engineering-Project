{
 "cells": [
  {
   "cell_type": "code",
   "execution_count": 1,
   "id": "07823127-2427-4e99-9424-aa6afd92b455",
   "metadata": {},
   "outputs": [],
   "source": [
    "# pip install yfinance"
   ]
  },
  {
   "cell_type": "code",
   "execution_count": 2,
   "id": "990e6cca-ecc4-4e65-bf5a-50482eb56caa",
   "metadata": {
    "tags": []
   },
   "outputs": [],
   "source": [
    "# Load Packages\n",
    "import numpy as np\n",
    "import pandas as pd\n",
    "import yfinance as yf\n",
    "import matplotlib.pyplot as plt\n",
    "from scipy.optimize import minimize\n",
    "from datetime import datetime, timedelta"
   ]
  },
  {
   "cell_type": "markdown",
   "id": "7a9857e1-f369-43b9-b1f8-6c40bc51720c",
   "metadata": {},
   "source": [
    "# Section 1: Define Tickers and Time Range"
   ]
  },
  {
   "cell_type": "code",
   "execution_count": 3,
   "id": "75f13491-6ea2-453b-b24e-e0e568369988",
   "metadata": {
    "tags": []
   },
   "outputs": [],
   "source": [
    "tickers = ['SPY','BND','GLD','QQQ','VTI']\n",
    "end_date = datetime.today()\n",
    "start_date = end_date - timedelta(days = 5*365)"
   ]
  },
  {
   "cell_type": "markdown",
   "id": "ef64dc78-0841-4e35-924e-9b7365a2fbd7",
   "metadata": {},
   "source": [
    "# Section 2: Download Adjusted Close Prices"
   ]
  },
  {
   "cell_type": "code",
   "execution_count": 4,
   "id": "42a6b217-360f-4b12-8298-e490603b0364",
   "metadata": {},
   "outputs": [
    {
     "name": "stdout",
     "output_type": "stream",
     "text": [
      "[*********************100%%**********************]  1 of 1 completed\n",
      "[*********************100%%**********************]  1 of 1 completed\n",
      "[*********************100%%**********************]  1 of 1 completed\n",
      "[*********************100%%**********************]  1 of 1 completed\n",
      "[*********************100%%**********************]  1 of 1 completed\n"
     ]
    },
    {
     "data": {
      "text/html": [
       "<div>\n",
       "<style scoped>\n",
       "    .dataframe tbody tr th:only-of-type {\n",
       "        vertical-align: middle;\n",
       "    }\n",
       "\n",
       "    .dataframe tbody tr th {\n",
       "        vertical-align: top;\n",
       "    }\n",
       "\n",
       "    .dataframe thead th {\n",
       "        text-align: right;\n",
       "    }\n",
       "</style>\n",
       "<table border=\"1\" class=\"dataframe\">\n",
       "  <thead>\n",
       "    <tr style=\"text-align: right;\">\n",
       "      <th></th>\n",
       "      <th>SPY</th>\n",
       "      <th>BND</th>\n",
       "      <th>GLD</th>\n",
       "      <th>QQQ</th>\n",
       "      <th>VTI</th>\n",
       "    </tr>\n",
       "    <tr>\n",
       "      <th>Date</th>\n",
       "      <th></th>\n",
       "      <th></th>\n",
       "      <th></th>\n",
       "      <th></th>\n",
       "      <th></th>\n",
       "    </tr>\n",
       "  </thead>\n",
       "  <tbody>\n",
       "    <tr>\n",
       "      <th>2018-10-05</th>\n",
       "      <td>264.774445</td>\n",
       "      <td>68.454674</td>\n",
       "      <td>113.800003</td>\n",
       "      <td>174.257797</td>\n",
       "      <td>135.826782</td>\n",
       "    </tr>\n",
       "    <tr>\n",
       "      <th>2018-10-08</th>\n",
       "      <td>264.774445</td>\n",
       "      <td>68.428299</td>\n",
       "      <td>112.540001</td>\n",
       "      <td>173.193802</td>\n",
       "      <td>135.725571</td>\n",
       "    </tr>\n",
       "    <tr>\n",
       "      <th>2018-10-09</th>\n",
       "      <td>264.388123</td>\n",
       "      <td>68.560349</td>\n",
       "      <td>112.599998</td>\n",
       "      <td>173.754791</td>\n",
       "      <td>135.486359</td>\n",
       "    </tr>\n",
       "    <tr>\n",
       "      <th>2018-10-10</th>\n",
       "      <td>256.016754</td>\n",
       "      <td>68.507538</td>\n",
       "      <td>112.879997</td>\n",
       "      <td>166.113190</td>\n",
       "      <td>131.171326</td>\n",
       "    </tr>\n",
       "    <tr>\n",
       "      <th>2018-10-11</th>\n",
       "      <td>250.377533</td>\n",
       "      <td>68.701202</td>\n",
       "      <td>115.779999</td>\n",
       "      <td>164.052856</td>\n",
       "      <td>128.374390</td>\n",
       "    </tr>\n",
       "    <tr>\n",
       "      <th>...</th>\n",
       "      <td>...</td>\n",
       "      <td>...</td>\n",
       "      <td>...</td>\n",
       "      <td>...</td>\n",
       "      <td>...</td>\n",
       "    </tr>\n",
       "    <tr>\n",
       "      <th>2023-09-27</th>\n",
       "      <td>426.049988</td>\n",
       "      <td>69.438408</td>\n",
       "      <td>174.100006</td>\n",
       "      <td>355.040009</td>\n",
       "      <td>211.630005</td>\n",
       "    </tr>\n",
       "    <tr>\n",
       "      <th>2023-09-28</th>\n",
       "      <td>428.519989</td>\n",
       "      <td>69.617912</td>\n",
       "      <td>173.229996</td>\n",
       "      <td>358.010010</td>\n",
       "      <td>213.029999</td>\n",
       "    </tr>\n",
       "    <tr>\n",
       "      <th>2023-09-29</th>\n",
       "      <td>427.480011</td>\n",
       "      <td>69.587997</td>\n",
       "      <td>171.449997</td>\n",
       "      <td>358.269989</td>\n",
       "      <td>212.410004</td>\n",
       "    </tr>\n",
       "    <tr>\n",
       "      <th>2023-10-02</th>\n",
       "      <td>427.309998</td>\n",
       "      <td>69.110001</td>\n",
       "      <td>169.649994</td>\n",
       "      <td>361.260010</td>\n",
       "      <td>212.130005</td>\n",
       "    </tr>\n",
       "    <tr>\n",
       "      <th>2023-10-03</th>\n",
       "      <td>421.589996</td>\n",
       "      <td>68.550003</td>\n",
       "      <td>169.160004</td>\n",
       "      <td>354.920013</td>\n",
       "      <td>209.050003</td>\n",
       "    </tr>\n",
       "  </tbody>\n",
       "</table>\n",
       "<p>1256 rows × 5 columns</p>\n",
       "</div>"
      ],
      "text/plain": [
       "                   SPY        BND         GLD         QQQ         VTI\n",
       "Date                                                                 \n",
       "2018-10-05  264.774445  68.454674  113.800003  174.257797  135.826782\n",
       "2018-10-08  264.774445  68.428299  112.540001  173.193802  135.725571\n",
       "2018-10-09  264.388123  68.560349  112.599998  173.754791  135.486359\n",
       "2018-10-10  256.016754  68.507538  112.879997  166.113190  131.171326\n",
       "2018-10-11  250.377533  68.701202  115.779999  164.052856  128.374390\n",
       "...                ...        ...         ...         ...         ...\n",
       "2023-09-27  426.049988  69.438408  174.100006  355.040009  211.630005\n",
       "2023-09-28  428.519989  69.617912  173.229996  358.010010  213.029999\n",
       "2023-09-29  427.480011  69.587997  171.449997  358.269989  212.410004\n",
       "2023-10-02  427.309998  69.110001  169.649994  361.260010  212.130005\n",
       "2023-10-03  421.589996  68.550003  169.160004  354.920013  209.050003\n",
       "\n",
       "[1256 rows x 5 columns]"
      ]
     },
     "execution_count": 4,
     "metadata": {},
     "output_type": "execute_result"
    }
   ],
   "source": [
    "adj_close_df = pd.DataFrame()\n",
    "for ticker in tickers:\n",
    "    data = yf.download(ticker, start = start_date,end = end_date)\n",
    "    adj_close_df[ticker] = data['Adj Close']\n",
    "adj_close_df"
   ]
  },
  {
   "cell_type": "code",
   "execution_count": 5,
   "id": "bef96dfc-c3fc-4921-a5ee-8a5cb298d6b4",
   "metadata": {
    "tags": []
   },
   "outputs": [],
   "source": [
    "adj_close_df[[\"SPY\", \"BND\", \"GLD\"]].to_csv('out.csv')"
   ]
  },
  {
   "cell_type": "markdown",
   "id": "cbda7234-daba-4ae2-865e-009f4d911c72",
   "metadata": {},
   "source": [
    "# Section 3: Calculate Lognormal Returns"
   ]
  },
  {
   "cell_type": "code",
   "execution_count": 6,
   "id": "474c95d2-88e9-428f-83c0-64efd3771ef9",
   "metadata": {},
   "outputs": [
    {
     "data": {
      "text/html": [
       "<div>\n",
       "<style scoped>\n",
       "    .dataframe tbody tr th:only-of-type {\n",
       "        vertical-align: middle;\n",
       "    }\n",
       "\n",
       "    .dataframe tbody tr th {\n",
       "        vertical-align: top;\n",
       "    }\n",
       "\n",
       "    .dataframe thead th {\n",
       "        text-align: right;\n",
       "    }\n",
       "</style>\n",
       "<table border=\"1\" class=\"dataframe\">\n",
       "  <thead>\n",
       "    <tr style=\"text-align: right;\">\n",
       "      <th></th>\n",
       "      <th>SPY</th>\n",
       "      <th>BND</th>\n",
       "      <th>GLD</th>\n",
       "      <th>QQQ</th>\n",
       "      <th>VTI</th>\n",
       "    </tr>\n",
       "    <tr>\n",
       "      <th>Date</th>\n",
       "      <th></th>\n",
       "      <th></th>\n",
       "      <th></th>\n",
       "      <th></th>\n",
       "      <th></th>\n",
       "    </tr>\n",
       "  </thead>\n",
       "  <tbody>\n",
       "    <tr>\n",
       "      <th>2018-10-05</th>\n",
       "      <td>NaN</td>\n",
       "      <td>NaN</td>\n",
       "      <td>NaN</td>\n",
       "      <td>NaN</td>\n",
       "      <td>NaN</td>\n",
       "    </tr>\n",
       "    <tr>\n",
       "      <th>2018-10-08</th>\n",
       "      <td>0.000000</td>\n",
       "      <td>-0.000385</td>\n",
       "      <td>-0.011134</td>\n",
       "      <td>-0.006125</td>\n",
       "      <td>-0.000745</td>\n",
       "    </tr>\n",
       "    <tr>\n",
       "      <th>2018-10-09</th>\n",
       "      <td>-0.001460</td>\n",
       "      <td>0.001928</td>\n",
       "      <td>0.000533</td>\n",
       "      <td>0.003234</td>\n",
       "      <td>-0.001764</td>\n",
       "    </tr>\n",
       "    <tr>\n",
       "      <th>2018-10-10</th>\n",
       "      <td>-0.032175</td>\n",
       "      <td>-0.000771</td>\n",
       "      <td>0.002484</td>\n",
       "      <td>-0.044976</td>\n",
       "      <td>-0.032367</td>\n",
       "    </tr>\n",
       "    <tr>\n",
       "      <th>2018-10-11</th>\n",
       "      <td>-0.022273</td>\n",
       "      <td>0.002823</td>\n",
       "      <td>0.025367</td>\n",
       "      <td>-0.012481</td>\n",
       "      <td>-0.021553</td>\n",
       "    </tr>\n",
       "  </tbody>\n",
       "</table>\n",
       "</div>"
      ],
      "text/plain": [
       "                 SPY       BND       GLD       QQQ       VTI\n",
       "Date                                                        \n",
       "2018-10-05       NaN       NaN       NaN       NaN       NaN\n",
       "2018-10-08  0.000000 -0.000385 -0.011134 -0.006125 -0.000745\n",
       "2018-10-09 -0.001460  0.001928  0.000533  0.003234 -0.001764\n",
       "2018-10-10 -0.032175 -0.000771  0.002484 -0.044976 -0.032367\n",
       "2018-10-11 -0.022273  0.002823  0.025367 -0.012481 -0.021553"
      ]
     },
     "execution_count": 6,
     "metadata": {},
     "output_type": "execute_result"
    }
   ],
   "source": [
    "log_returns = np.log(adj_close_df / adj_close_df.shift(1))\n",
    "log_returns.head()"
   ]
  },
  {
   "cell_type": "code",
   "execution_count": 7,
   "id": "39aaad60-4379-442d-ba9c-88007a0c2ffd",
   "metadata": {
    "tags": []
   },
   "outputs": [
    {
     "data": {
      "text/html": [
       "<div>\n",
       "<style scoped>\n",
       "    .dataframe tbody tr th:only-of-type {\n",
       "        vertical-align: middle;\n",
       "    }\n",
       "\n",
       "    .dataframe tbody tr th {\n",
       "        vertical-align: top;\n",
       "    }\n",
       "\n",
       "    .dataframe thead th {\n",
       "        text-align: right;\n",
       "    }\n",
       "</style>\n",
       "<table border=\"1\" class=\"dataframe\">\n",
       "  <thead>\n",
       "    <tr style=\"text-align: right;\">\n",
       "      <th></th>\n",
       "      <th>SPY</th>\n",
       "      <th>BND</th>\n",
       "      <th>GLD</th>\n",
       "      <th>QQQ</th>\n",
       "      <th>VTI</th>\n",
       "    </tr>\n",
       "    <tr>\n",
       "      <th>Date</th>\n",
       "      <th></th>\n",
       "      <th></th>\n",
       "      <th></th>\n",
       "      <th></th>\n",
       "      <th></th>\n",
       "    </tr>\n",
       "  </thead>\n",
       "  <tbody>\n",
       "    <tr>\n",
       "      <th>2018-10-08</th>\n",
       "      <td>0.000000</td>\n",
       "      <td>-0.000385</td>\n",
       "      <td>-0.011134</td>\n",
       "      <td>-0.006125</td>\n",
       "      <td>-0.000745</td>\n",
       "    </tr>\n",
       "    <tr>\n",
       "      <th>2018-10-09</th>\n",
       "      <td>-0.001460</td>\n",
       "      <td>0.001928</td>\n",
       "      <td>0.000533</td>\n",
       "      <td>0.003234</td>\n",
       "      <td>-0.001764</td>\n",
       "    </tr>\n",
       "    <tr>\n",
       "      <th>2018-10-10</th>\n",
       "      <td>-0.032175</td>\n",
       "      <td>-0.000771</td>\n",
       "      <td>0.002484</td>\n",
       "      <td>-0.044976</td>\n",
       "      <td>-0.032367</td>\n",
       "    </tr>\n",
       "    <tr>\n",
       "      <th>2018-10-11</th>\n",
       "      <td>-0.022273</td>\n",
       "      <td>0.002823</td>\n",
       "      <td>0.025367</td>\n",
       "      <td>-0.012481</td>\n",
       "      <td>-0.021553</td>\n",
       "    </tr>\n",
       "    <tr>\n",
       "      <th>2018-10-12</th>\n",
       "      <td>0.013793</td>\n",
       "      <td>-0.000257</td>\n",
       "      <td>-0.004762</td>\n",
       "      <td>0.027450</td>\n",
       "      <td>0.013101</td>\n",
       "    </tr>\n",
       "  </tbody>\n",
       "</table>\n",
       "</div>"
      ],
      "text/plain": [
       "                 SPY       BND       GLD       QQQ       VTI\n",
       "Date                                                        \n",
       "2018-10-08  0.000000 -0.000385 -0.011134 -0.006125 -0.000745\n",
       "2018-10-09 -0.001460  0.001928  0.000533  0.003234 -0.001764\n",
       "2018-10-10 -0.032175 -0.000771  0.002484 -0.044976 -0.032367\n",
       "2018-10-11 -0.022273  0.002823  0.025367 -0.012481 -0.021553\n",
       "2018-10-12  0.013793 -0.000257 -0.004762  0.027450  0.013101"
      ]
     },
     "execution_count": 7,
     "metadata": {},
     "output_type": "execute_result"
    }
   ],
   "source": [
    "log_returns = log_returns.dropna()\n",
    "log_returns.head()"
   ]
  },
  {
   "cell_type": "markdown",
   "id": "039423fc-2226-4481-ad43-0bc02499aa11",
   "metadata": {
    "tags": []
   },
   "source": [
    "# Section 4: Calculate Covariance Matrix"
   ]
  },
  {
   "cell_type": "code",
   "execution_count": 8,
   "id": "781000fb-7cbb-4ccc-bf2a-5a743610bd10",
   "metadata": {},
   "outputs": [
    {
     "data": {
      "text/html": [
       "<div>\n",
       "<style scoped>\n",
       "    .dataframe tbody tr th:only-of-type {\n",
       "        vertical-align: middle;\n",
       "    }\n",
       "\n",
       "    .dataframe tbody tr th {\n",
       "        vertical-align: top;\n",
       "    }\n",
       "\n",
       "    .dataframe thead th {\n",
       "        text-align: right;\n",
       "    }\n",
       "</style>\n",
       "<table border=\"1\" class=\"dataframe\">\n",
       "  <thead>\n",
       "    <tr style=\"text-align: right;\">\n",
       "      <th></th>\n",
       "      <th>SPY</th>\n",
       "      <th>BND</th>\n",
       "      <th>GLD</th>\n",
       "      <th>QQQ</th>\n",
       "      <th>VTI</th>\n",
       "    </tr>\n",
       "  </thead>\n",
       "  <tbody>\n",
       "    <tr>\n",
       "      <th>SPY</th>\n",
       "      <td>0.046663</td>\n",
       "      <td>0.002396</td>\n",
       "      <td>0.003097</td>\n",
       "      <td>0.053097</td>\n",
       "      <td>0.047655</td>\n",
       "    </tr>\n",
       "    <tr>\n",
       "      <th>BND</th>\n",
       "      <td>0.002396</td>\n",
       "      <td>0.004296</td>\n",
       "      <td>0.003659</td>\n",
       "      <td>0.002974</td>\n",
       "      <td>0.002536</td>\n",
       "    </tr>\n",
       "    <tr>\n",
       "      <th>GLD</th>\n",
       "      <td>0.003097</td>\n",
       "      <td>0.003659</td>\n",
       "      <td>0.021838</td>\n",
       "      <td>0.004499</td>\n",
       "      <td>0.003261</td>\n",
       "    </tr>\n",
       "    <tr>\n",
       "      <th>QQQ</th>\n",
       "      <td>0.053097</td>\n",
       "      <td>0.002974</td>\n",
       "      <td>0.004499</td>\n",
       "      <td>0.069357</td>\n",
       "      <td>0.054187</td>\n",
       "    </tr>\n",
       "    <tr>\n",
       "      <th>VTI</th>\n",
       "      <td>0.047655</td>\n",
       "      <td>0.002536</td>\n",
       "      <td>0.003261</td>\n",
       "      <td>0.054187</td>\n",
       "      <td>0.049041</td>\n",
       "    </tr>\n",
       "  </tbody>\n",
       "</table>\n",
       "</div>"
      ],
      "text/plain": [
       "          SPY       BND       GLD       QQQ       VTI\n",
       "SPY  0.046663  0.002396  0.003097  0.053097  0.047655\n",
       "BND  0.002396  0.004296  0.003659  0.002974  0.002536\n",
       "GLD  0.003097  0.003659  0.021838  0.004499  0.003261\n",
       "QQQ  0.053097  0.002974  0.004499  0.069357  0.054187\n",
       "VTI  0.047655  0.002536  0.003261  0.054187  0.049041"
      ]
     },
     "execution_count": 8,
     "metadata": {},
     "output_type": "execute_result"
    }
   ],
   "source": [
    "cov_matrix = log_returns.cov() * 252\n",
    "cov_matrix"
   ]
  },
  {
   "cell_type": "markdown",
   "id": "8f1714e6-f18f-4b9e-a550-8dc673b4fae3",
   "metadata": {},
   "source": [
    "# Section 5: Define Portfolio Performance Metrics"
   ]
  },
  {
   "cell_type": "code",
   "execution_count": 34,
   "id": "fec10222-56ef-47a2-81c9-ab18ebea3cbb",
   "metadata": {},
   "outputs": [],
   "source": [
    "def standard_deviation(weights, cov_matrix):\n",
    "    variance = weights.T @ cov_matrix @ weights\n",
    "    return np.sqrt(variance)\n",
    "\n",
    "def expected_return(weights, log_returns):\n",
    "    return np.sum(((np.exp(log_returns.mean()*252)-1))*weights)\n",
    "\n",
    "def sharpe_ratio(weights, log_returns, cov_matrix, risk_free_rate):\n",
    "    return (expected_return(weights, log_returns) - risk_free_rate) / standard_deviation(weights, cov_matrix)"
   ]
  },
  {
   "cell_type": "markdown",
   "id": "863fd85d-2511-41ae-a3d0-61458d8730e7",
   "metadata": {},
   "source": [
    "# Section 6: Portfolio Optimization"
   ]
  },
  {
   "cell_type": "code",
   "execution_count": 35,
   "id": "0a31d298-5ee6-4fdd-a9b5-aed093184b0c",
   "metadata": {},
   "outputs": [],
   "source": [
    "risk_free_rate = .02\n",
    "\n",
    "def neg_sharpe_ratio(weights, log_returns, cov_matrix, risk_free_rate):\n",
    "    return -sharpe_ratio(weights, log_returns, cov_matrix, risk_free_rate)\n",
    "\n",
    "constraints = {'type': 'eq', 'fun': lambda weights: np.sum(weights) - 1}\n",
    "bounds = [(0, 0.4) for _ in range(len(tickers))]\n",
    "initial_weights = np.array([1/len(tickers)]*len(tickers))\n",
    "\n",
    "optimized_results = minimize(neg_sharpe_ratio, \n",
    "                             initial_weights, \n",
    "                             args=(log_returns, cov_matrix, risk_free_rate), \n",
    "                             method='SLSQP', \n",
    "                             constraints=constraints, \n",
    "                             bounds=bounds)"
   ]
  },
  {
   "cell_type": "markdown",
   "id": "b7b12eb4-7f88-45d5-8c45-218bf4dbf248",
   "metadata": {},
   "source": [
    "# Section 7: Analyze the Optimal Portfolio"
   ]
  },
  {
   "cell_type": "code",
   "execution_count": 36,
   "id": "bd4fe343-4bfe-4eae-b5ac-9b946428e940",
   "metadata": {},
   "outputs": [
    {
     "name": "stdout",
     "output_type": "stream",
     "text": [
      "Optimal Weights:\n",
      "SPY: 0.1543\n",
      "BND: 0.0457\n",
      "GLD: 0.4000\n",
      "QQQ: 0.4000\n",
      "VTI: 0.0000\n",
      "Expected Annual Return: 0.1097\n",
      "Expected Volatility: 0.1561\n",
      "Sharpe Ratio: 0.5745\n"
     ]
    }
   ],
   "source": [
    "optimal_weights = optimized_results.x\n",
    "\n",
    "print(\"Optimal Weights:\")\n",
    "for ticker, weight in zip(tickers, optimal_weights):\n",
    "    print(f\"{ticker}: {weight:.4f}\")\n",
    "\n",
    "optimal_portfolio_return = expected_return(optimal_weights, log_returns)\n",
    "optimal_portfolio_volatility = standard_deviation(optimal_weights, cov_matrix)\n",
    "optimal_sharpe_ratio = sharpe_ratio(optimal_weights, log_returns, cov_matrix, risk_free_rate)\n",
    "\n",
    "print(f\"Expected Annual Return: {optimal_portfolio_return:.4f}\")\n",
    "print(f\"Expected Volatility: {optimal_portfolio_volatility:.4f}\")\n",
    "print(f\"Sharpe Ratio: {optimal_sharpe_ratio:.4f}\")"
   ]
  },
  {
   "cell_type": "markdown",
   "id": "e088ff28-8073-4e29-beec-7c9c26482b47",
   "metadata": {},
   "source": [
    "# Section 8: Display the Final Portfolio in a Plot"
   ]
  },
  {
   "cell_type": "code",
   "execution_count": 37,
   "id": "9c05ed6e-40d6-4a54-8b38-4612e31ddd36",
   "metadata": {},
   "outputs": [
    {
     "data": {
      "image/png": "[encoded data removed]",
      "text/plain": [
       "<Figure size 1000x600 with 1 Axes>"
      ]
     },
     "metadata": {},
     "output_type": "display_data"
    }
   ],
   "source": [
    "import matplotlib.pyplot as plt\n",
    "\n",
    "plt.figure(figsize=(10, 6))\n",
    "plt.bar(tickers, optimal_weights)\n",
    "\n",
    "plt.xlabel('Assets')\n",
    "plt.ylabel('Optimal Weights')\n",
    "plt.title('Optimal Portfolio Weights')\n",
    "\n",
    "plt.show()"
   ]
  }
 ],
 "metadata": {
  "kernelspec": {
   "display_name": "Python 3 (ipykernel)",
   "language": "python",
   "name": "python3"
  },
  "language_info": {
   "codemirror_mode": {
    "name": "ipython",
    "version": 3
   },
   "file_extension": ".py",
   "mimetype": "text/x-python",
   "name": "python",
   "nbconvert_exporter": "python",
   "pygments_lexer": "ipython3",
   "version": "3.11.5"
  }
 },
 "nbformat": 4,
 "nbformat_minor": 5
}
