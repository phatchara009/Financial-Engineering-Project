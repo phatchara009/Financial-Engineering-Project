{
 "cells": [
  {
   "cell_type": "markdown",
   "metadata": {},
   "source": [
    "In this blog post, we will demonstrate how to perform Value at Risk (VaR) calculations using the historical method for a portfolio of stocks. We’ll use Python and the yfinance library to download historical stock price data and then calculate VaR for an equally weighted portfolio."
   ]
  },
  {
   "cell_type": "markdown",
   "metadata": {},
   "source": [
    "# Setting Time Range and Tickers\n",
    "\n",
    "First, let’s set the time range to a certain number of years and create a list of tickers we want to analyze. In this example, we’ll analyze the past 15 years of stock data."
   ]
  },
  {
   "cell_type": "code",
   "execution_count": 18,
   "metadata": {},
   "outputs": [],
   "source": [
    "import numpy as np\n",
    "import pandas as pd\n",
    "import datetime as dt\n",
    "import yfinance as yf\n",
    "import matplotlib.pyplot as plt\n",
    "from scipy.stats import norm\n",
    "\n",
    "years = 15\n",
    "\n",
    "endDate = dt.datetime.now()\n",
    "startDate = endDate - dt.timedelta(days=365*years)\n",
    "\n",
    "tickers = ['SPY', 'BND', 'GLD', 'QQQ', 'VTI']"
   ]
  },
  {
   "cell_type": "markdown",
   "metadata": {},
   "source": [
    "# Downloading Adjusted Close Prices\n",
    "\n",
    "Next, we will download the daily adjusted close prices for each ticker in our list using the yfinance library."
   ]
  },
  {
   "cell_type": "code",
   "execution_count": 11,
   "metadata": {},
   "outputs": [
    {
     "name": "stdout",
     "output_type": "stream",
     "text": [
      "[*********************100%%**********************]  1 of 1 completed\n",
      "[*********************100%%**********************]  1 of 1 completed\n",
      "[*********************100%%**********************]  1 of 1 completed\n",
      "[*********************100%%**********************]  1 of 1 completed\n",
      "[*********************100%%**********************]  1 of 1 completed\n",
      "                   SPY        BND         GLD         QQQ         VTI\n",
      "Date                                                                 \n",
      "2008-10-06   78.371620  48.870605   84.279999   30.494034   39.873894\n",
      "2008-10-07   74.861649  49.013279   87.269997   28.560818   37.439697\n",
      "2008-10-08   72.975700  48.287144   89.419998   28.333378   36.723766\n",
      "2008-10-09   67.879158  46.783028   89.900002   27.572348   34.417683\n",
      "2008-10-10   66.232697  45.356712   83.220001   27.397390   33.422920\n",
      "...                ...        ...         ...         ...         ...\n",
      "2023-09-25  432.230011  69.949997  177.699997  359.609985  214.500000\n",
      "2023-09-26  425.880005  69.879997  176.279999  354.209991  211.410004\n",
      "2023-09-27  426.049988  69.629997  174.100006  355.040009  211.630005\n",
      "2023-09-28  428.519989  69.809998  173.229996  358.010010  213.029999\n",
      "2023-09-29  427.480011  69.779999  171.449997  358.269989  212.410004\n",
      "\n",
      "[3772 rows x 5 columns]\n"
     ]
    }
   ],
   "source": [
    "adj_close_df = pd.DataFrame()\n",
    "for ticker in tickers:\n",
    "    data = yf.download(ticker, start=startDate, end=endDate)\n",
    "    adj_close_df[ticker] = data['Adj Close']\n",
    "\n",
    "print(adj_close_df)"
   ]
  },
  {
   "cell_type": "markdown",
   "metadata": {},
   "source": [
    "# Calculating Daily Log Returns and Dropping NAs\n",
    "Once we have the adjusted close prices, we can calculate the daily log returns for each stock and drop any NAs from the resulting DataFrame."
   ]
  },
  {
   "cell_type": "code",
   "execution_count": 12,
   "metadata": {},
   "outputs": [
    {
     "name": "stdout",
     "output_type": "stream",
     "text": [
      "                 SPY       BND       GLD       QQQ       VTI\n",
      "Date                                                        \n",
      "2008-10-07 -0.045820  0.002915  0.034862 -0.065495 -0.062990\n",
      "2008-10-08 -0.025515 -0.014926  0.024338 -0.007995 -0.019307\n",
      "2008-10-09 -0.072397 -0.031645  0.005354 -0.027227 -0.064854\n",
      "2008-10-10 -0.024555 -0.030962 -0.077210 -0.006366 -0.029329\n",
      "2008-10-13  0.135578  0.040753 -0.014890  0.114799  0.120710\n",
      "...              ...       ...       ...       ...       ...\n",
      "2023-09-25  0.004196 -0.007406 -0.005164  0.004739  0.004017\n",
      "2023-09-26 -0.014800 -0.001001 -0.008023 -0.015130 -0.014510\n",
      "2023-09-27  0.000399 -0.003584 -0.012444  0.002341  0.001040\n",
      "2023-09-28  0.005781  0.002582 -0.005010  0.008330  0.006594\n",
      "2023-09-29 -0.002430 -0.000430 -0.010329  0.000726 -0.002915\n",
      "\n",
      "[3771 rows x 5 columns]\n"
     ]
    }
   ],
   "source": [
    "log_returns = np.log(adj_close_df / adj_close_df.shift(1))\n",
    "log_returns = log_returns.dropna()\n",
    "print(log_returns)"
   ]
  },
  {
   "cell_type": "markdown",
   "metadata": {},
   "source": [
    "# Creating an Equally Weighted Portfolio\n",
    "Now, we’ll create an equally weighted portfolio with a total value of $1,000,000."
   ]
  },
  {
   "cell_type": "code",
   "execution_count": 13,
   "metadata": {},
   "outputs": [
    {
     "name": "stdout",
     "output_type": "stream",
     "text": [
      "[0.2 0.2 0.2 0.2 0.2]\n"
     ]
    }
   ],
   "source": [
    "portfolio_value = 1000000\n",
    "weights = np.array([1/len(tickers)]*len(tickers))\n",
    "print(weights)"
   ]
  },
  {
   "cell_type": "markdown",
   "metadata": {},
   "source": [
    "# Calculating Historical Portfolio Returns\n",
    "With the weights defined, we can now calculate the historical portfolio returns."
   ]
  },
  {
   "cell_type": "code",
   "execution_count": 14,
   "metadata": {},
   "outputs": [
    {
     "name": "stdout",
     "output_type": "stream",
     "text": [
      "Date\n",
      "2008-10-07   -0.027306\n",
      "2008-10-08   -0.008681\n",
      "2008-10-09   -0.038154\n",
      "2008-10-10   -0.033684\n",
      "2008-10-13    0.079390\n",
      "                ...   \n",
      "2023-09-25    0.000076\n",
      "2023-09-26   -0.010693\n",
      "2023-09-27   -0.002450\n",
      "2023-09-28    0.003655\n",
      "2023-09-29   -0.003075\n",
      "Length: 3771, dtype: float64\n"
     ]
    }
   ],
   "source": [
    "historical_returns = (log_returns * weights).sum(axis =1)\n",
    "print(historical_returns)"
   ]
  },
  {
   "cell_type": "markdown",
   "metadata": {},
   "source": [
    "# Finding X-Day Historical Returns\n",
    "Next, we’ll find the X-day historical returns. In this example, we’ll use a 50-day window."
   ]
  },
  {
   "cell_type": "code",
   "execution_count": 28,
   "metadata": {},
   "outputs": [
    {
     "name": "stdout",
     "output_type": "stream",
     "text": [
      "Date\n",
      "2008-12-16   -0.076145\n",
      "2008-12-17   -0.052350\n",
      "2008-12-18   -0.056758\n",
      "2008-12-19   -0.022277\n",
      "2008-12-22    0.005315\n",
      "                ...   \n",
      "2023-09-25   -0.035603\n",
      "2023-09-26   -0.049970\n",
      "2023-09-27   -0.059642\n",
      "2023-09-28   -0.057404\n",
      "2023-09-29   -0.051084\n",
      "Length: 3722, dtype: float64\n"
     ]
    }
   ],
   "source": [
    "days = 50\n",
    "\n",
    "# Moving average 50 days\n",
    "range_returns = historical_returns.rolling(window = days).sum() \n",
    "# Drop NA 50 head rows\n",
    "range_returns = range_returns.dropna()\n",
    "print(range_returns)"
   ]
  },
  {
   "cell_type": "markdown",
   "metadata": {},
   "source": [
    "# Calculating VaR Using the Historical Method\n",
    "Now, we can specify a confidence interval and calculate the Value at Risk (VaR) using the historical method."
   ]
  },
  {
   "cell_type": "code",
   "execution_count": 29,
   "metadata": {},
   "outputs": [
    {
     "name": "stdout",
     "output_type": "stream",
     "text": [
      "VaR of the portfolio is 56745.32\n"
     ]
    }
   ],
   "source": [
    "confidence_interval = 0.95\n",
    "\n",
    "VaR = -np.percentile(range_returns, 100 - (confidence_interval * 100)) * portfolio_value # Portfolio value = $1,000,000 \n",
    "\n",
    "print(\"VaR of the portfolio is\",round(VaR,2))"
   ]
  },
  {
   "cell_type": "markdown",
   "metadata": {},
   "source": [
    "# Plotting the Results of the Historical Returns\n",
    "Finally, let’s plot the results of the historical returns to visualize the distribution of portfolio returns and the VaR at the specified confidence level."
   ]
  },
  {
   "cell_type": "code",
   "execution_count": 30,
   "metadata": {},
   "outputs": [
    {
     "data": {
      "image/png": "[encoded data removed]",
      "text/plain": [
       "<Figure size 640x480 with 1 Axes>"
      ]
     },
     "metadata": {},
     "output_type": "display_data"
    }
   ],
   "source": [
    "return_window = days\n",
    "range_returns = historical_returns.rolling(window=return_window).sum()\n",
    "range_returns = range_returns.dropna()\n",
    "\n",
    "range_returns_dollar = range_returns * portfolio_value\n",
    "\n",
    "plt.hist(range_returns_dollar.dropna(), bins=50, density=True)\n",
    "plt.xlabel(f'{return_window}-Day Portfolio Return (Dollar Value)')\n",
    "plt.ylabel('Frequency')\n",
    "plt.title(f'Distribution of Portfolio {return_window}-Day Returns (Dollar Value)')\n",
    "plt.axvline(-VaR, color='r', linestyle='dashed', linewidth=2, label=f'VaR at {confidence_interval:.0%} confidence level')\n",
    "plt.legend()\n",
    "plt.show()"
   ]
  },
  {
   "cell_type": "markdown",
   "metadata": {},
   "source": [
    "By following these steps, you can create a Python script that calculates the Value at Risk (VaR) using the historical method for your investment portfolio. Keep in mind that this approach is based on historical returns, which may not be a reliable indicator of future performance. Continuously refining your analysis and considering other factors will help you develop a more accurate understanding of the risks associated with your investments, enabling you to make more informed decisions.\n",
    "\n",
    "In conclusion, the historical method for calculating Value at Risk (VaR) provides a simple and intuitive way to estimate the potential losses in your investment portfolio. However, it is essential to remember that historical returns do not guarantee future performance, and relying solely on this method may lead to inaccurate risk assessments.\n",
    "\n",
    "To develop a more comprehensive understanding of your portfolio’s risk, consider incorporating other risk management techniques such as Monte Carlo simulations, stress testing, and scenario analysis. By combining different approaches, you can create a more well-rounded risk management strategy that accounts for various market conditions and potential events. This holistic approach will enable you to make more informed investment decisions and better manage the potential risks and rewards associated with your investments."
   ]
  },
  {
   "cell_type": "markdown",
   "metadata": {},
   "source": []
  }
 ],
 "metadata": {
  "kernelspec": {
   "display_name": "base",
   "language": "python",
   "name": "python3"
  },
  "language_info": {
   "codemirror_mode": {
    "name": "ipython",
    "version": 3
   },
   "file_extension": ".py",
   "mimetype": "text/x-python",
   "name": "python",
   "nbconvert_exporter": "python",
   "pygments_lexer": "ipython3",
   "version": "3.11.5"
  },
  "orig_nbformat": 4
 },
 "nbformat": 4,
 "nbformat_minor": 2
}
