{
 "cells": [
  {
   "cell_type": "markdown",
   "id": "bc0380a2-f0ab-4ccb-a2f0-ea47a54c4bd1",
   "metadata": {},
   "source": [
    "# 10. Functions"
   ]
  },
  {
   "cell_type": "code",
   "execution_count": null,
   "id": "03a2f38e-4a9b-4176-a54a-f6a23340b354",
   "metadata": {},
   "outputs": [],
   "source": [
    "def my_function():\n",
    "    print(\"Hello from a function\")\n",
    "my_function()"
   ]
  },
  {
   "cell_type": "code",
   "execution_count": 3,
   "id": "73ea4b70-9cd0-481a-9e05-751daa8a79a9",
   "metadata": {},
   "outputs": [
    {
     "name": "stdout",
     "output_type": "stream",
     "text": [
      "Emil Refsnes\n"
     ]
    }
   ],
   "source": [
    "def my_function(fname, lname): # ชื่อพารามิเตอร์ คือ ตัวแปรที่ฟังชันนั้นต้องการ อยู่ในวงเล็บ\n",
    "    print(fname + \" \" + lname)\n",
    "my_function(\"Emil\", \"Refsnes\")"
   ]
  },
  {
   "cell_type": "code",
   "execution_count": 4,
   "id": "8dd725ad-9cb4-418e-83ec-09493e6e4d4d",
   "metadata": {},
   "outputs": [
    {
     "name": "stdout",
     "output_type": "stream",
     "text": [
      "The youngest child is Linus\n"
     ]
    }
   ],
   "source": [
    "def my_function(*kids): # * คือ รับพารามิเตอร์แบบ list\n",
    "    print(\"The youngest child is \" + kids[2]) # ตำแหน่งที่มี index(ดัชนี) เป็น 2\n",
    "my_function(\"Emil\", \"Tobias\", \"Linus\")"
   ]
  },
  {
   "cell_type": "code",
   "execution_count": 8,
   "id": "c190a0a9-8093-47aa-aa57-847304b9002a",
   "metadata": {},
   "outputs": [
    {
     "name": "stdout",
     "output_type": "stream",
     "text": [
      "apple\n",
      "banana\n",
      "cherry\n"
     ]
    }
   ],
   "source": [
    "# ส่ง fruits เข้าไปใน ฟังชั่น แล้วทำตาลูป\n",
    "def my_function(x):\n",
    "    for i in x:\n",
    "        print(i)\n",
    "fruits = [\"apple\", \"banana\", \"cherry\"]\n",
    "my_function(fruits)"
   ]
  },
  {
   "cell_type": "code",
   "execution_count": 9,
   "id": "7de4e63e-25fa-40c2-8367-5875198091d6",
   "metadata": {},
   "outputs": [
    {
     "name": "stdout",
     "output_type": "stream",
     "text": [
      "15\n",
      "25\n",
      "45\n"
     ]
    }
   ],
   "source": [
    "def my_function(x): \n",
    "    return 5 * x       # return จะต้องอยู่ในคำสั่งสุดท้ายของฟังก์ชัน\n",
    "print(my_function(3))\n",
    "print(my_function(5))\n",
    "print(my_function(9))"
   ]
  },
  {
   "cell_type": "markdown",
   "id": "ca39de60-ce15-4412-b3e5-eb18855c87c0",
   "metadata": {},
   "source": [
    "# 11. Module"
   ]
  },
  {
   "cell_type": "markdown",
   "id": "27e8e96b-3eac-4c32-869a-58a42792c858",
   "metadata": {},
   "source": [
    "##### คือไฟล์ ที่ประกอบด้วยชุดของฟังก์ชั่น\n",
    "##### ถ้า mymodule อยู่โฟลเดอร์เดียวกัน สามารถ import mymodule ได้เลย\n",
    "##### ใช้เรียกฟังก์ชั่นที่เก็บเอาไว้"
   ]
  },
  {
   "cell_type": "code",
   "execution_count": 15,
   "id": "23cc982f-0078-4fe4-b707-d406686a38ac",
   "metadata": {},
   "outputs": [
    {
     "name": "stdout",
     "output_type": "stream",
     "text": [
      "Hello, Jonathan\n"
     ]
    }
   ],
   "source": [
    "import mymodule\n",
    "mymodule.greeting(\"Jonathan\")"
   ]
  },
  {
   "cell_type": "code",
   "execution_count": 16,
   "id": "a1532cd1-d20f-44d7-95f0-6b065e5e4715",
   "metadata": {},
   "outputs": [
    {
     "name": "stdout",
     "output_type": "stream",
     "text": [
      "Hello, Jonathan\n"
     ]
    }
   ],
   "source": [
    "import mymodule as mm  # หลัง as คือชื่อย่อเพื่อให้ใช้ง่าย\n",
    "mm.greeting(\"Jonathan\")"
   ]
  }
 ],
 "metadata": {
  "kernelspec": {
   "display_name": "Python 3",
   "language": "python",
   "name": "python3"
  },
  "language_info": {
   "codemirror_mode": {
    "name": "ipython",
    "version": 3
   },
   "file_extension": ".py",
   "mimetype": "text/x-python",
   "name": "python",
   "nbconvert_exporter": "python",
   "pygments_lexer": "ipython3",
   "version": "3.8.8"
  }
 },
 "nbformat": 4,
 "nbformat_minor": 5
}
