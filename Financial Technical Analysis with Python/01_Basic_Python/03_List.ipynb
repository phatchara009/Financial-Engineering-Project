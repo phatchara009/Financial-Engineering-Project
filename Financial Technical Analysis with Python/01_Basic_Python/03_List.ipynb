{
 "cells": [
  {
   "cell_type": "markdown",
   "id": "5d19791d-e298-4d9c-a796-62f51af74fde",
   "metadata": {},
   "source": [
    "## 12. Lists คือ array ใน python"
   ]
  },
  {
   "cell_type": "markdown",
   "id": "af39a0c3-cc8e-4ea6-a1c0-15b89c292a15",
   "metadata": {},
   "source": [
    "### - In Python lists are written with square brackets."
   ]
  },
  {
   "cell_type": "code",
   "execution_count": 3,
   "id": "1b649167-62ba-4d44-94d3-185336bf1d13",
   "metadata": {},
   "outputs": [
    {
     "name": "stdout",
     "output_type": "stream",
     "text": [
      "['apple', 'banana', 'cherry']\n"
     ]
    }
   ],
   "source": [
    "thislist = [\"apple\", \"banana\", \"cherry\"]\n",
    "print(thislist)"
   ]
  },
  {
   "cell_type": "markdown",
   "id": "af38c96e-799f-4d1c-a44b-e063e7dc8b69",
   "metadata": {},
   "source": [
    "### - Access Items"
   ]
  },
  {
   "cell_type": "code",
   "execution_count": 5,
   "id": "0b4a43a6-385b-443d-b900-913ae5c57353",
   "metadata": {
    "tags": []
   },
   "outputs": [
    {
     "name": "stdout",
     "output_type": "stream",
     "text": [
      "banana\n"
     ]
    }
   ],
   "source": [
    "thislist = [\"apple\", \"banana\", \"cherry\"]\n",
    "print(thislist[1])"
   ]
  },
  {
   "cell_type": "markdown",
   "id": "f3fed98f-428c-40f7-8bf2-304b55e37a63",
   "metadata": {},
   "source": [
    "### - Range of Indexes\n",
    "- [indetial index : end index]"
   ]
  },
  {
   "cell_type": "code",
   "execution_count": 1,
   "id": "d973d105-c436-461b-b080-1d6d99d25e04",
   "metadata": {},
   "outputs": [
    {
     "name": "stdout",
     "output_type": "stream",
     "text": [
      "['cherry', 'orange', 'kiwi']\n"
     ]
    }
   ],
   "source": [
    "thislist = [\"apple\", \"banana\", \"cherry\", \"orange\", \"kiwi\", \"melon\", \"mango\"]\n",
    "print(thislist[2:5])  # 2 หมายถึง item ที่ 3 stop value คือตัวที่ 3 ถึง 5 ถ้าความหมายก้คือ index 2 3 และ 4 ไม่นับ stop value"
   ]
  },
  {
   "cell_type": "code",
   "execution_count": 2,
   "id": "5fd0da32-7aa8-4303-8d64-94871a049c23",
   "metadata": {},
   "outputs": [
    {
     "name": "stdout",
     "output_type": "stream",
     "text": [
      "['apple', 'banana', 'cherry', 'orange']\n"
     ]
    }
   ],
   "source": [
    "thislist = [\"apple\", \"banana\", \"cherry\", \"orange\", \"kiwi\", \"melon\", \"mango\"]\n",
    "print(thislist[:4]) # ไม่กำหนด initial index คือเอาตัวแรกถึงตัวที่ 4"
   ]
  },
  {
   "cell_type": "code",
   "execution_count": 10,
   "id": "b0fe2040-d5df-4aac-9750-91f4285941b9",
   "metadata": {},
   "outputs": [
    {
     "name": "stdout",
     "output_type": "stream",
     "text": [
      "['cherry', 'orange', 'kiwi', 'melon', 'mango']\n"
     ]
    }
   ],
   "source": [
    "thislist = [\"apple\", \"banana\", \"cherry\", \"orange\", \"kiwi\", \"melon\", \"mango\"]\n",
    "print(thislist[2:]) # ไม่กำหนด end index"
   ]
  },
  {
   "cell_type": "markdown",
   "id": "40cf3a57-fe6f-4a36-bf39-b51e917e5d04",
   "metadata": {},
   "source": [
    "### - Change Item Value"
   ]
  },
  {
   "cell_type": "code",
   "execution_count": 12,
   "id": "e42ea6fa-4bf9-4fc8-b9e7-94982be8d1e4",
   "metadata": {},
   "outputs": [
    {
     "name": "stdout",
     "output_type": "stream",
     "text": [
      "['apple', 'banana', 'cherry']\n",
      "['apple', 'blackcurrant', 'cherry']\n"
     ]
    }
   ],
   "source": [
    "thislist = [\"apple\", \"banana\", \"cherry\"]\n",
    "print(thislist)\n",
    "thislist[1] = \"blackcurrant\"\n",
    "print(thislist)"
   ]
  },
  {
   "cell_type": "code",
   "execution_count": 13,
   "id": "af40cf33-2081-4b80-8367-71fb0b777a17",
   "metadata": {},
   "outputs": [
    {
     "name": "stdout",
     "output_type": "stream",
     "text": [
      "3016380913280\n",
      "['apple', 'blackcurrant', 'cherry']\n",
      "3016380913280\n"
     ]
    }
   ],
   "source": [
    "# เปลี่ยน item ใน list ไม่ทำให้ id เปลี่ยน\n",
    "thislist = [\"apple\", \"banana\", \"cherry\"]\n",
    "print(id(thislist))\n",
    "thislist[1] = \"blackcurrant\"\n",
    "print(thislist)\n",
    "print(id(thislist))"
   ]
  },
  {
   "cell_type": "markdown",
   "id": "98587a39-e840-43f6-8cce-509ed89ee635",
   "metadata": {},
   "source": [
    "### - Loop Through a List"
   ]
  },
  {
   "cell_type": "code",
   "execution_count": 14,
   "id": "ac23f5e8-9b67-48f9-8c65-0f2579cc37e9",
   "metadata": {},
   "outputs": [
    {
     "name": "stdout",
     "output_type": "stream",
     "text": [
      "apple\n",
      "banana\n",
      "cherry\n"
     ]
    }
   ],
   "source": [
    "thislist = [\"apple\", \"banana\", \"cherry\"]\n",
    "for x in thislist:\n",
    "    print(x)"
   ]
  },
  {
   "cell_type": "markdown",
   "id": "0135e690-8aab-4e74-bea7-a6195768c9b5",
   "metadata": {},
   "source": [
    "### - Check if Item Exists เช็คดูว่ามีตัวที่ถามอยู่ไหม"
   ]
  },
  {
   "cell_type": "code",
   "execution_count": 15,
   "id": "328eb793-3e1d-42c4-aeac-f2ad56996052",
   "metadata": {},
   "outputs": [
    {
     "name": "stdout",
     "output_type": "stream",
     "text": [
      "Yes, 'apple' is in the fruits list\n"
     ]
    }
   ],
   "source": [
    "thislist = [\"apple\", \"banana\", \"cherry\"]\n",
    "if \"apple\" in thislist:\n",
    "    print(\"Yes, 'apple' is in the fruits list\")"
   ]
  },
  {
   "cell_type": "markdown",
   "id": "8970b84b-f766-4312-b983-5749eb966aeb",
   "metadata": {},
   "source": [
    "### - List Length ความกว้างของ lists"
   ]
  },
  {
   "cell_type": "code",
   "execution_count": 16,
   "id": "cf133028-734e-40d5-a581-619b490ccc3a",
   "metadata": {},
   "outputs": [
    {
     "name": "stdout",
     "output_type": "stream",
     "text": [
      "3\n"
     ]
    }
   ],
   "source": [
    "# เช็คจำนวน item ใน list\n",
    "thislist = [\"apple\", \"banana\", \"cherry\"]\n",
    "print(len(thislist))"
   ]
  },
  {
   "cell_type": "markdown",
   "id": "fbdc3c7f-66cb-4781-816e-5a9b90e1609d",
   "metadata": {},
   "source": [
    "### - Add Items"
   ]
  },
  {
   "cell_type": "code",
   "execution_count": 1,
   "id": "ab3d952b-3f85-4788-a51a-559461374cd0",
   "metadata": {},
   "outputs": [
    {
     "name": "stdout",
     "output_type": "stream",
     "text": [
      "['apple', 'banana', 'cherry']\n",
      "['apple', 'banana', 'cherry', 'orange']\n"
     ]
    }
   ],
   "source": [
    "# add เข้าไปท้าย lists นี้\n",
    "# .append\n",
    "thislist = [\"apple\", \"banana\", \"cherry\"]\n",
    "print(thislist)\n",
    "thislist.append(\"orange\")\n",
    "print(thislist)"
   ]
  },
  {
   "cell_type": "code",
   "execution_count": 23,
   "id": "2599611a-0a82-41f3-8b16-8c8e71c92ebd",
   "metadata": {},
   "outputs": [
    {
     "name": "stdout",
     "output_type": "stream",
     "text": [
      "['apple', 'banana', 'cherry']\n",
      "['apple', 'orange', 'banana', 'cherry']\n"
     ]
    }
   ],
   "source": [
    "# .inset\n",
    "thislist = [\"apple\", \"banana\", \"cherry\"]\n",
    "print(thislist)\n",
    "thislist.insert(1, \"orange\")\n",
    "print(thislist)"
   ]
  },
  {
   "cell_type": "markdown",
   "id": "65776b3b-44df-4a01-b096-5e2b28a01683",
   "metadata": {},
   "source": [
    "### - Remove Item ลบได้ 4 วิธี"
   ]
  },
  {
   "cell_type": "code",
   "execution_count": 30,
   "id": "50fd8098-3adf-48fa-8865-db426e1aebbd",
   "metadata": {},
   "outputs": [
    {
     "name": "stdout",
     "output_type": "stream",
     "text": [
      "['apple', 'cherry']\n"
     ]
    }
   ],
   "source": [
    "# .remove\n",
    "thislist = [\"apple\", \"banana\", \"cherry\"]\n",
    "thislist.remove(\"banana\")\n",
    "print(thislist)"
   ]
  },
  {
   "cell_type": "code",
   "execution_count": 6,
   "id": "902ac0fd-4505-45c4-9b81-cb6967234809",
   "metadata": {},
   "outputs": [
    {
     "name": "stdout",
     "output_type": "stream",
     "text": [
      "['apple', 'banana']\n",
      "['banana', 'cherry']\n",
      "['apple', 'cherry']\n"
     ]
    }
   ],
   "source": [
    "# .pop\n",
    "# จะลบตัวสุดท้ายออกถ้าไม่ใส่ index/ตัวที่จะลบ\n",
    "thislist = [\"apple\", \"banana\", \"cherry\"]\n",
    "thislist.pop() # ลบตัวท้าย\n",
    "print(thislist)\n",
    "\n",
    "thislist = [\"apple\", \"banana\", \"cherry\"]\n",
    "thislist.pop(0) # ลบตัวแรก\n",
    "print(thislist)\n",
    "\n",
    "thislist = [\"apple\", \"banana\", \"cherry\"]\n",
    "thislist.pop(1) # ลบตัวที่สอง\n",
    "print(thislist)"
   ]
  },
  {
   "cell_type": "code",
   "execution_count": 37,
   "id": "b43cbfab-85d8-4b4b-ab5a-bba0ab96c024",
   "metadata": {},
   "outputs": [
    {
     "name": "stdout",
     "output_type": "stream",
     "text": [
      "['banana', 'cherry']\n"
     ]
    }
   ],
   "source": [
    "# del\n",
    "thislist = [\"apple\", \"banana\", \"cherry\"]\n",
    "del thislist[0]\n",
    "print(thislist)"
   ]
  },
  {
   "cell_type": "code",
   "execution_count": 40,
   "id": "46aebd91-bb28-4f87-8221-4ec906557fc2",
   "metadata": {},
   "outputs": [
    {
     "ename": "NameError",
     "evalue": "name 'thislist' is not defined",
     "output_type": "error",
     "traceback": [
      "\u001b[1;31m---------------------------------------------------------------------------\u001b[0m",
      "\u001b[1;31mNameError\u001b[0m                                 Traceback (most recent call last)",
      "\u001b[1;32m<ipython-input-40-91659cc9524b>\u001b[0m in \u001b[0;36m<module>\u001b[1;34m\u001b[0m\n\u001b[0;32m      2\u001b[0m \u001b[0mthislist\u001b[0m \u001b[1;33m=\u001b[0m \u001b[1;33m[\u001b[0m\u001b[1;34m\"apple\"\u001b[0m\u001b[1;33m,\u001b[0m \u001b[1;34m\"banana\"\u001b[0m\u001b[1;33m,\u001b[0m \u001b[1;34m\"cherry\"\u001b[0m\u001b[1;33m]\u001b[0m\u001b[1;33m\u001b[0m\u001b[1;33m\u001b[0m\u001b[0m\n\u001b[0;32m      3\u001b[0m \u001b[1;32mdel\u001b[0m \u001b[0mthislist\u001b[0m\u001b[1;33m\u001b[0m\u001b[1;33m\u001b[0m\u001b[0m\n\u001b[1;32m----> 4\u001b[1;33m \u001b[0mprint\u001b[0m\u001b[1;33m(\u001b[0m\u001b[0mthislist\u001b[0m\u001b[1;33m)\u001b[0m \u001b[1;31m# ถ้า run ก็จะ error เพราะว่าเราลบ thislist ออกไปแล้ว\u001b[0m\u001b[1;33m\u001b[0m\u001b[1;33m\u001b[0m\u001b[0m\n\u001b[0m",
      "\u001b[1;31mNameError\u001b[0m: name 'thislist' is not defined"
     ]
    }
   ],
   "source": [
    "# del แต่ไม่กำหนดว่าจะลบตัวไหน\n",
    "thislist = [\"apple\", \"banana\", \"cherry\"]\n",
    "del thislist\n",
    "print(thislist) # ถ้า run ก็จะ error เพราะว่าเราลบ thislist ออกไปแล้ว"
   ]
  },
  {
   "cell_type": "code",
   "execution_count": 43,
   "id": "7a862058-b1d0-4a49-9f54-e91f209e7a1e",
   "metadata": {},
   "outputs": [
    {
     "ename": "NameError",
     "evalue": "name 'x' is not defined",
     "output_type": "error",
     "traceback": [
      "\u001b[1;31m---------------------------------------------------------------------------\u001b[0m",
      "\u001b[1;31mNameError\u001b[0m                                 Traceback (most recent call last)",
      "\u001b[1;32m<ipython-input-43-4fd11fccf5ca>\u001b[0m in \u001b[0;36m<module>\u001b[1;34m\u001b[0m\n\u001b[0;32m      1\u001b[0m \u001b[0mx\u001b[0m \u001b[1;33m=\u001b[0m \u001b[1;34m\"EEE\"\u001b[0m\u001b[1;33m\u001b[0m\u001b[1;33m\u001b[0m\u001b[0m\n\u001b[0;32m      2\u001b[0m \u001b[1;32mdel\u001b[0m \u001b[0mx\u001b[0m\u001b[1;33m\u001b[0m\u001b[1;33m\u001b[0m\u001b[0m\n\u001b[1;32m----> 3\u001b[1;33m \u001b[0mprint\u001b[0m\u001b[1;33m(\u001b[0m\u001b[0mx\u001b[0m\u001b[1;33m)\u001b[0m\u001b[1;33m\u001b[0m\u001b[1;33m\u001b[0m\u001b[0m\n\u001b[0m",
      "\u001b[1;31mNameError\u001b[0m: name 'x' is not defined"
     ]
    }
   ],
   "source": [
    "x = \"EEE\"\n",
    "del x\n",
    "print(x)"
   ]
  },
  {
   "cell_type": "code",
   "execution_count": 2,
   "id": "d029c714-70bf-442b-9cf9-65e9ef1ef779",
   "metadata": {},
   "outputs": [
    {
     "name": "stdout",
     "output_type": "stream",
     "text": [
      "['apple', 'banana', 'cherry']\n",
      "[]\n"
     ]
    }
   ],
   "source": [
    "# .clear\n",
    "# ไม่ลบไปทั้ง list เหมือน del แต่ว่าลบแค่ item ข้างใน\n",
    "thislist = [\"apple\", \"banana\", \"cherry\"]\n",
    "print(thislist)\n",
    "thislist.clear()  # หลังจากเคลีย item แล้ว\n",
    "print(thislist)"
   ]
  },
  {
   "cell_type": "markdown",
   "id": "60d7a4c3-a758-483b-9ca3-335f1911ac4e",
   "metadata": {},
   "source": [
    "### - Copy a List\n",
    "- เป็น mutable type หมายความว่าสามารถ เปลี่ยน item ข้างไหนได้"
   ]
  },
  {
   "cell_type": "code",
   "execution_count": 7,
   "id": "0f49b5ef-1025-46f6-ac55-68ba18798550",
   "metadata": {},
   "outputs": [
    {
     "name": "stdout",
     "output_type": "stream",
     "text": [
      "['apple', 'banana', 'cherry']\n"
     ]
    }
   ],
   "source": [
    "thislist = [\"apple\", \"banana\", \"cherry\"]\n",
    "mylist = thislist.copy() # ต่างกับ mylist = thislist\n",
    "print(mylist)"
   ]
  },
  {
   "cell_type": "code",
   "execution_count": 17,
   "id": "829df29a-b6eb-490d-b5a6-a897cc34ad7d",
   "metadata": {},
   "outputs": [
    {
     "name": "stdout",
     "output_type": "stream",
     "text": [
      "['apple', 'cherry']\n"
     ]
    }
   ],
   "source": [
    "thislist = [\"apple\", \"banana\", \"cherry\"]\n",
    "mylist = thislist   # ยังอ้าง thislist อยู่เพราะฉะนั้น ตอนลบอะไรใน thislist จะส่งผลต่อ mylist\n",
    "del thislist[1]\n",
    "print(mylist)"
   ]
  },
  {
   "cell_type": "code",
   "execution_count": 19,
   "id": "5913e6b6-71d0-48a4-812e-23910fc7dd8d",
   "metadata": {},
   "outputs": [
    {
     "name": "stdout",
     "output_type": "stream",
     "text": [
      "['apple', 'banana', 'cherry']\n"
     ]
    }
   ],
   "source": [
    "thislist = [\"apple\", \"banana\", \"cherry\"]\n",
    "mylist = thislist.copy() # เหมือนกับการ duplicate เพราะฉะนั้นจะไม่เกี่ยวกับ thislist แล้ว\n",
    "del thislist[1]\n",
    "print(mylist)"
   ]
  },
  {
   "cell_type": "code",
   "execution_count": 11,
   "id": "c02eb47b-6a49-4004-a644-29c66f6a525f",
   "metadata": {},
   "outputs": [
    {
     "name": "stdout",
     "output_type": "stream",
     "text": [
      "['apple', 'cherry']\n"
     ]
    }
   ],
   "source": [
    "thislist = [\"apple\", \"banana\", \"cherry\"]\n",
    "del thislist[1]          # อยู่ที่การเรียงคำสั่ง\n",
    "mylist = thislist.copy()\n",
    "print(mylist)"
   ]
  },
  {
   "cell_type": "markdown",
   "id": "f921c628-6dea-442d-81fd-4fdf1a07a6ca",
   "metadata": {},
   "source": [
    "### - Sort a List"
   ]
  },
  {
   "cell_type": "code",
   "execution_count": 14,
   "id": "b3af8eed-a977-4e26-b66c-d6be74fc4997",
   "metadata": {},
   "outputs": [
    {
     "name": "stdout",
     "output_type": "stream",
     "text": [
      "['apple', 'banana', 'cherry']\n"
     ]
    }
   ],
   "source": [
    "strlist = [\"banana\", \"cherry\", \"apple\"]\n",
    "strlist.sort()\n",
    "print(strlist) # เรียงจาก a ไป b ไป c"
   ]
  },
  {
   "cell_type": "code",
   "execution_count": 16,
   "id": "06ce381e-fa78-4aef-9f5d-d410b602b0c8",
   "metadata": {},
   "outputs": [
    {
     "name": "stdout",
     "output_type": "stream",
     "text": [
      "[-1, 1, 2.58, 5.6, 7.5, 9]\n"
     ]
    }
   ],
   "source": [
    "numlist = [5.6, 9, 2.58, 1, 7.5, -1]\n",
    "numlist.sort()\n",
    "print(numlist) # เรียงเลขจากน้อยไปมาก"
   ]
  }
 ],
 "metadata": {
  "kernelspec": {
   "display_name": "Python 3",
   "language": "python",
   "name": "python3"
  },
  "language_info": {
   "codemirror_mode": {
    "name": "ipython",
    "version": 3
   },
   "file_extension": ".py",
   "mimetype": "text/x-python",
   "name": "python",
   "nbconvert_exporter": "python",
   "pygments_lexer": "ipython3",
   "version": "3.8.8"
  }
 },
 "nbformat": 4,
 "nbformat_minor": 5
}
