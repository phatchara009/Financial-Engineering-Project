{
 "cells": [
  {
   "cell_type": "markdown",
   "id": "30a41124-be4b-411e-a2bd-737e462cee48",
   "metadata": {},
   "source": [
    "# Basic Syntax to Get Started"
   ]
  },
  {
   "cell_type": "markdown",
   "id": "b86290b3-25c9-41b4-91fa-673b4949a46a",
   "metadata": {},
   "source": [
    "### Dispaly message on the screen"
   ]
  },
  {
   "cell_type": "code",
   "execution_count": 1,
   "id": "6c106b8d-06e0-47b4-923c-56de35eeb29e",
   "metadata": {},
   "outputs": [
    {
     "name": "stdout",
     "output_type": "stream",
     "text": [
      "Hello World!\n"
     ]
    }
   ],
   "source": [
    "print(\"Hello World!\")"
   ]
  },
  {
   "cell_type": "markdown",
   "id": "7411cbae-9841-4cce-8050-695877cbab66",
   "metadata": {},
   "source": [
    "### Indentation"
   ]
  },
  {
   "cell_type": "code",
   "execution_count": 2,
   "id": "c806021d-13e5-4e60-8009-e52b995774d6",
   "metadata": {},
   "outputs": [
    {
     "name": "stdout",
     "output_type": "stream",
     "text": [
      "Five is greater than two!\n",
      "Second instruction\n"
     ]
    }
   ],
   "source": [
    "if 5 > 2:\n",
    "    print(\"Five is greater than two!\")\n",
    "    print(\"Second instruction\")"
   ]
  },
  {
   "cell_type": "markdown",
   "id": "7ab9ddb9-c90b-4e3d-b68a-c7e49721d273",
   "metadata": {},
   "source": [
    "### Variables"
   ]
  },
  {
   "cell_type": "code",
   "execution_count": 3,
   "id": "3a9a4c65-d143-46b1-b31a-30984ad5fb58",
   "metadata": {},
   "outputs": [],
   "source": [
    "x = 5"
   ]
  },
  {
   "cell_type": "code",
   "execution_count": 4,
   "id": "8511f252-efc1-4549-8ab3-c57c028764d6",
   "metadata": {},
   "outputs": [],
   "source": [
    "y = \"Hello World!\""
   ]
  },
  {
   "cell_type": "code",
   "execution_count": 5,
   "id": "71ca513a-d25a-4339-801c-8af74db5462a",
   "metadata": {},
   "outputs": [
    {
     "name": "stdout",
     "output_type": "stream",
     "text": [
      "5\n",
      "Hello World!\n"
     ]
    }
   ],
   "source": [
    "print(x)\n",
    "print(y)"
   ]
  },
  {
   "cell_type": "code",
   "execution_count": 6,
   "id": "50b8ce55-ab49-44f9-b11f-bd2e870c153b",
   "metadata": {},
   "outputs": [
    {
     "name": "stdout",
     "output_type": "stream",
     "text": [
      "Test\n"
     ]
    }
   ],
   "source": [
    "x = \"Test\"\n",
    "print(x)"
   ]
  },
  {
   "cell_type": "code",
   "execution_count": 7,
   "id": "6e6d24f4-011d-41ba-85a1-381f84f3652d",
   "metadata": {},
   "outputs": [
    {
     "name": "stdout",
     "output_type": "stream",
     "text": [
      "3\n",
      "5\n"
     ]
    }
   ],
   "source": [
    "a = 3\n",
    "A = 5\n",
    "print(a)\n",
    "print(A)"
   ]
  },
  {
   "cell_type": "markdown",
   "id": "1e53ef52-4315-46d8-9790-82fc6a943334",
   "metadata": {},
   "source": [
    "### Comments"
   ]
  },
  {
   "cell_type": "markdown",
   "id": "ea09d33c-bc34-4478-b2b8-59c11ada2f40",
   "metadata": {},
   "source": [
    "#### In-line comment with '#'"
   ]
  },
  {
   "cell_type": "code",
   "execution_count": 8,
   "id": "3dfa7ca6-95e8-4d3b-b32d-6a691f9221a0",
   "metadata": {},
   "outputs": [
    {
     "name": "stdout",
     "output_type": "stream",
     "text": [
      "3\n"
     ]
    }
   ],
   "source": [
    "# Test Comment1\n",
    "x = 4-1 # Test Comment2\n",
    "print(x)"
   ]
  },
  {
   "cell_type": "markdown",
   "id": "a85922f9-1ae9-4571-b56a-eff83d181647",
   "metadata": {},
   "source": [
    "#### Block comment with three quotes (sing or double quotes)"
   ]
  },
  {
   "cell_type": "code",
   "execution_count": 2,
   "id": "9793e27a-4233-4050-aa81-1d9e5c4d56cf",
   "metadata": {},
   "outputs": [
    {
     "data": {
      "text/plain": [
       "' Line1\\nLine2 asdsadasdasda\\nLine3 12131213131321\\n    Line4\\n'"
      ]
     },
     "execution_count": 2,
     "metadata": {},
     "output_type": "execute_result"
    }
   ],
   "source": [
    "''' Line1\n",
    "Line2 asdsadasdasda\n",
    "Line3 12131213131321\n",
    "    Line4\n",
    "'''"
   ]
  },
  {
   "cell_type": "markdown",
   "id": "015c99c9-be05-407a-93f2-7e76a7c42796",
   "metadata": {},
   "source": [
    "# 2. Variables"
   ]
  },
  {
   "cell_type": "code",
   "execution_count": 10,
   "id": "b5bb71a8-0d41-4e73-a581-695a40d366d4",
   "metadata": {},
   "outputs": [
    {
     "data": {
      "text/plain": [
       "True"
      ]
     },
     "execution_count": 10,
     "metadata": {},
     "output_type": "execute_result"
    }
   ],
   "source": [
    "x = 5\n",
    "y = 5\n",
    "y is x"
   ]
  },
  {
   "cell_type": "code",
   "execution_count": 11,
   "id": "34f15818-bcd1-4b7a-8f1c-b11c383a5075",
   "metadata": {},
   "outputs": [
    {
     "data": {
      "text/plain": [
       "140718984341424"
      ]
     },
     "execution_count": 11,
     "metadata": {},
     "output_type": "execute_result"
    }
   ],
   "source": [
    "id(x)"
   ]
  },
  {
   "cell_type": "code",
   "execution_count": 12,
   "id": "991b78ea-76d6-4eb0-b0d9-d3f15e34bc99",
   "metadata": {},
   "outputs": [
    {
     "data": {
      "text/plain": [
       "140718984341424"
      ]
     },
     "execution_count": 12,
     "metadata": {},
     "output_type": "execute_result"
    }
   ],
   "source": [
    "id(y)"
   ]
  },
  {
   "cell_type": "code",
   "execution_count": 13,
   "id": "61dc6356-bf07-4074-9a2e-a9aab44ed217",
   "metadata": {},
   "outputs": [],
   "source": [
    "x = 4"
   ]
  },
  {
   "cell_type": "code",
   "execution_count": 14,
   "id": "0b35e8a8-099a-4fe3-9c74-fc1967b3adfb",
   "metadata": {},
   "outputs": [
    {
     "data": {
      "text/plain": [
       "140718984341392"
      ]
     },
     "execution_count": 14,
     "metadata": {},
     "output_type": "execute_result"
    }
   ],
   "source": [
    "id(x)"
   ]
  },
  {
   "cell_type": "code",
   "execution_count": 15,
   "id": "84eb788d-a2ae-4d4d-b799-7c6167f87770",
   "metadata": {},
   "outputs": [],
   "source": [
    "x = \"Sally\""
   ]
  },
  {
   "cell_type": "code",
   "execution_count": 16,
   "id": "4e8cd84e-44c7-4019-912a-93334588699f",
   "metadata": {},
   "outputs": [
    {
     "data": {
      "text/plain": [
       "1597219587888"
      ]
     },
     "execution_count": 16,
     "metadata": {},
     "output_type": "execute_result"
    }
   ],
   "source": [
    "id(x)"
   ]
  },
  {
   "cell_type": "code",
   "execution_count": 17,
   "id": "a6feab40-ac55-411e-b974-3a722086ff1d",
   "metadata": {},
   "outputs": [
    {
     "name": "stdout",
     "output_type": "stream",
     "text": [
      "Python is awesome\n",
      "Python is awesome\n"
     ]
    }
   ],
   "source": [
    "x = \"awesome\"\n",
    "print(\"Python is \" + x) # ถ้าใส่ + จะไม่ space ให้\n",
    "print(\"Python is\" , x) # ถ้าใส่ , จะ space ให้เอง"
   ]
  },
  {
   "cell_type": "code",
   "execution_count": 18,
   "id": "37452604-4850-4b9e-bd3d-051008f87234",
   "metadata": {},
   "outputs": [
    {
     "name": "stdout",
     "output_type": "stream",
     "text": [
      "15\n"
     ]
    }
   ],
   "source": [
    "x = 5\n",
    "y = 10\n",
    "print(x + y)"
   ]
  },
  {
   "cell_type": "code",
   "execution_count": 19,
   "id": "0c7bc248-f38b-41e9-88c3-238ee5723cc6",
   "metadata": {},
   "outputs": [
    {
     "ename": "TypeError",
     "evalue": "unsupported operand type(s) for +: 'int' and 'str'",
     "output_type": "error",
     "traceback": [
      "\u001b[1;31m---------------------------------------------------------------------------\u001b[0m",
      "\u001b[1;31mTypeError\u001b[0m                                 Traceback (most recent call last)",
      "\u001b[1;32m<ipython-input-19-bcf0a14e57b7>\u001b[0m in \u001b[0;36m<module>\u001b[1;34m\u001b[0m\n\u001b[0;32m      1\u001b[0m \u001b[0mx\u001b[0m \u001b[1;33m=\u001b[0m \u001b[1;36m5\u001b[0m\u001b[1;33m\u001b[0m\u001b[1;33m\u001b[0m\u001b[0m\n\u001b[0;32m      2\u001b[0m \u001b[0my\u001b[0m \u001b[1;33m=\u001b[0m \u001b[1;34m\"Baht\"\u001b[0m\u001b[1;33m\u001b[0m\u001b[1;33m\u001b[0m\u001b[0m\n\u001b[1;32m----> 3\u001b[1;33m \u001b[0mprint\u001b[0m\u001b[1;33m(\u001b[0m\u001b[0mx\u001b[0m \u001b[1;33m+\u001b[0m \u001b[0my\u001b[0m\u001b[1;33m)\u001b[0m \u001b[1;31m# error\u001b[0m\u001b[1;33m\u001b[0m\u001b[1;33m\u001b[0m\u001b[0m\n\u001b[0m",
      "\u001b[1;31mTypeError\u001b[0m: unsupported operand type(s) for +: 'int' and 'str'"
     ]
    }
   ],
   "source": [
    "x = 5\n",
    "y = \"Baht\"\n",
    "print(x + y) # error"
   ]
  },
  {
   "cell_type": "code",
   "execution_count": null,
   "id": "40b4fae1-d288-40ec-8449-4fb8c8458e52",
   "metadata": {},
   "outputs": [],
   "source": [
    "x = 5\n",
    "y = \"Baht\"\n",
    "print(\"The price is\", x , y)"
   ]
  },
  {
   "cell_type": "code",
   "execution_count": null,
   "id": "5e911f34-9ce7-460c-b369-7c777012ad32",
   "metadata": {},
   "outputs": [],
   "source": [
    "x = 5\n",
    "y = \"Baht\"\n",
    "print(x , y)"
   ]
  },
  {
   "cell_type": "code",
   "execution_count": null,
   "id": "8ed4a198-c8b3-495f-b6ec-45ac34d86991",
   "metadata": {},
   "outputs": [],
   "source": [
    "x = \"awesome\" # เป็น Global Variables"
   ]
  },
  {
   "cell_type": "code",
   "execution_count": null,
   "id": "22a720af-79b9-472d-be80-c355ce1660ad",
   "metadata": {},
   "outputs": [],
   "source": [
    "def myfunc():\n",
    "    print(\"Python is \" + x)\n",
    "myfunc()\n",
    "print(\"Python is \" + x)"
   ]
  },
  {
   "cell_type": "code",
   "execution_count": 1,
   "id": "9e550717-4a20-40f8-90a8-2ad063fd285a",
   "metadata": {},
   "outputs": [
    {
     "name": "stdout",
     "output_type": "stream",
     "text": [
      "Python is fantastic\n",
      "Python is awesome\n"
     ]
    }
   ],
   "source": [
    "x = \"awesome\" # ตัวแปรระดับ Global(ระดับโลก) คนละตัวกับ x ใน def ที่กล่าวในบรรทัดต่อไป\n",
    "def myfunc():\n",
    "    x = \"fantastic\" # ตัวแปรระดับ Local(ท้องถิ่น)\n",
    "    print(\"Python is \" + x)\n",
    "myfunc()\n",
    "print(\"Python is \" + x)"
   ]
  },
  {
   "cell_type": "code",
   "execution_count": 9,
   "id": "493e876b-cdc1-469e-9f4e-2dc071b04a40",
   "metadata": {},
   "outputs": [
    {
     "name": "stdout",
     "output_type": "stream",
     "text": [
      "Python is fantastic\n"
     ]
    }
   ],
   "source": [
    "x = \"awesome\"\n",
    "def myfunc():\n",
    "    global x\n",
    "    x = \"fantastic\"\n",
    "myfunc()\n",
    "print(\"Python is \" + x)"
   ]
  },
  {
   "cell_type": "code",
   "execution_count": 7,
   "id": "e0f78433-c20b-45c9-aff7-bbc718b67463",
   "metadata": {},
   "outputs": [
    {
     "name": "stdout",
     "output_type": "stream",
     "text": [
      "Python is awesome\n"
     ]
    }
   ],
   "source": [
    "x = \"awesome\"\n",
    "def myfunc():\n",
    "    global x\n",
    "myfunc()\n",
    "print(\"Python is \" + x)"
   ]
  },
  {
   "cell_type": "markdown",
   "id": "a6cce3c1-ff0f-4eb6-a1ef-9baddb4fdb82",
   "metadata": {},
   "source": [
    "# 3. Data Types"
   ]
  },
  {
   "cell_type": "code",
   "execution_count": 10,
   "id": "eb019412-1f30-4cf4-b442-795503c7c264",
   "metadata": {},
   "outputs": [
    {
     "name": "stdout",
     "output_type": "stream",
     "text": [
      "<class 'int'>\n"
     ]
    }
   ],
   "source": [
    "x = 5\n",
    "print(type(x))"
   ]
  },
  {
   "cell_type": "code",
   "execution_count": 11,
   "id": "432d8a29-b2bf-47e5-9036-7d70c8903885",
   "metadata": {},
   "outputs": [
    {
     "name": "stdout",
     "output_type": "stream",
     "text": [
      "<class 'str'>\n"
     ]
    }
   ],
   "source": [
    "x = \"Sally\"\n",
    "print(type(x))"
   ]
  },
  {
   "cell_type": "code",
   "execution_count": 13,
   "id": "25a30096-45a3-429a-b007-7251ec105d31",
   "metadata": {},
   "outputs": [
    {
     "name": "stdout",
     "output_type": "stream",
     "text": [
      "('Hello', ' World')\n"
     ]
    }
   ],
   "source": [
    "a = \"Hello\"\n",
    "b = \" World\"\n",
    "c = a + b\n",
    "print(c)"
   ]
  },
  {
   "cell_type": "code",
   "execution_count": 14,
   "id": "81b85df7-f302-4046-a0b9-fb41b6004215",
   "metadata": {},
   "outputs": [
    {
     "name": "stdout",
     "output_type": "stream",
     "text": [
      "True\n",
      "True\n",
      "False\n",
      "False\n"
     ]
    }
   ],
   "source": [
    "print(10 > 9)\n",
    "print(10 >= 9)\n",
    "print(10 == 9)\n",
    "print(10 < 9)"
   ]
  },
  {
   "cell_type": "code",
   "execution_count": null,
   "id": "14aa69fe-f0ca-4fdf-bf00-6dbefc03bca3",
   "metadata": {},
   "outputs": [],
   "source": [
    "a = 200\n",
    "b = 33\n",
    "if b > a:\n",
    "    print(\"b is greater than a\")\n",
    "else:\n",
    "    print(\"b is not greater than a\")"
   ]
  },
  {
   "cell_type": "code",
   "execution_count": null,
   "id": "b1ce3ecb-f43a-4372-b18e-a24202ab0707",
   "metadata": {},
   "outputs": [],
   "source": [
    "x = int(1)   # x will be 1\n",
    "y = int(2.8) # y will be 2\n",
    "z = int(\"3\") # z will be 3\n",
    "print(z)"
   ]
  },
  {
   "cell_type": "code",
   "execution_count": 16,
   "id": "58931730-f7eb-419f-a689-8656cad10e61",
   "metadata": {},
   "outputs": [
    {
     "name": "stdout",
     "output_type": "stream",
     "text": [
      "1.0\n"
     ]
    }
   ],
   "source": [
    "x = float(1) # x will be 1.0\n",
    "y = float(2.8) # y will be 2.8\n",
    "z = float(\"3\") # z will be 3.0\n",
    "w = float(\"4.2\") # w will be 4.2\n",
    "print(x)"
   ]
  },
  {
   "cell_type": "code",
   "execution_count": 19,
   "id": "f5edee36-6333-4b69-b50a-e6208d1b4759",
   "metadata": {},
   "outputs": [
    {
     "name": "stdout",
     "output_type": "stream",
     "text": [
      "s1\n",
      "2\n",
      "s12\n"
     ]
    }
   ],
   "source": [
    "x = str(\"s1\") # x will be 's1'\n",
    "y = str(2) # y will be '2'\n",
    "z = str(3.0) # z will be '3.0'\n",
    "print(x)\n",
    "print(y)\n",
    "print(x+y) # มันจะบวกกันได้โดยปกติ str + int ไม่ได้ แต่อันนี้เป็น str + str"
   ]
  },
  {
   "cell_type": "markdown",
   "id": "30fc5264-86f3-4f0a-a201-327f635cad0a",
   "metadata": {},
   "source": [
    "# 4. Python Operators"
   ]
  },
  {
   "cell_type": "markdown",
   "id": "aebecbfa-6060-4bb6-9bdd-e3e195a73d1f",
   "metadata": {},
   "source": [
    "## Piority ลำดับความสำคัญของสัญลักษณ์ (**) >> (*), (/), (%), (//) >> (+). (-)\n",
    "##### ก็คือการคำนวณของคอมพิวเตอร์ ให้เรียงจาก piority ก่อน แล้วถ้าอยู่ในลำดับเดียวกันไล่จากซ้ายไปขวา"
   ]
  },
  {
   "cell_type": "code",
   "execution_count": null,
   "id": "62b95be3-3b87-4a63-8b59-de3cba1458ce",
   "metadata": {},
   "outputs": [],
   "source": [
    "15%3 # ได้เศษ"
   ]
  },
  {
   "cell_type": "code",
   "execution_count": null,
   "id": "11672e5c-b516-4c30-af1e-bc9719cc4cd6",
   "metadata": {},
   "outputs": [],
   "source": [
    "16//5 # หารไม่สนทศนิยม"
   ]
  },
  {
   "cell_type": "code",
   "execution_count": null,
   "id": "3a4bb726-9af8-4b87-8c6c-7803b371fc72",
   "metadata": {},
   "outputs": [],
   "source": [
    "4**2 # ยกกำลัง"
   ]
  },
  {
   "cell_type": "code",
   "execution_count": null,
   "id": "2205249a-398f-4e4d-be08-8f7213fd8311",
   "metadata": {},
   "outputs": [],
   "source": [
    "2+8/2**2-4"
   ]
  },
  {
   "cell_type": "code",
   "execution_count": null,
   "id": "710d768b-1f17-4295-b973-02bfb8e27f41",
   "metadata": {},
   "outputs": [],
   "source": [
    "(2+8)/(2**2)-4"
   ]
  },
  {
   "cell_type": "code",
   "execution_count": null,
   "id": "74208369-bb91-4e83-831f-e5640f3bb516",
   "metadata": {},
   "outputs": [],
   "source": [
    "3 = x # ชื่อตัวแปรต้องอยู่ด้านซ้ายเสมอ"
   ]
  },
  {
   "cell_type": "code",
   "execution_count": null,
   "id": "16c3defd-f984-4987-875f-b84640308d52",
   "metadata": {},
   "outputs": [],
   "source": [
    "x = 3\n",
    "y = 3*x+2\n",
    "x = y"
   ]
  },
  {
   "cell_type": "markdown",
   "id": "f18639a9-3e8c-42d1-850e-9de302577308",
   "metadata": {},
   "source": [
    "### Python Comparison Operators\n",
    "##### Operator Name Example\n",
    "##### == Equal x == y\n",
    "##### != Not equal x != y\n",
    "##### > Greater than x > y\n",
    "##### < Less than x < y\n",
    "##### >= Greater than or equal to x >= y\n",
    "##### <= Less than or equal to x <= y"
   ]
  },
  {
   "cell_type": "markdown",
   "id": "992c5bf3-3e10-4be8-ae2f-5ea7579dbcf2",
   "metadata": {},
   "source": [
    "# 5. User Input"
   ]
  },
  {
   "cell_type": "code",
   "execution_count": 20,
   "id": "285c243c-7f60-453a-a9c4-cead1c3b7f84",
   "metadata": {},
   "outputs": [
    {
     "name": "stdin",
     "output_type": "stream",
     "text": [
      "Enter username: หฟกฟกห\n"
     ]
    },
    {
     "name": "stdout",
     "output_type": "stream",
     "text": [
      "Username is: หฟกฟกห\n"
     ]
    }
   ],
   "source": [
    "username = input(\"Enter username:\")\n",
    "print(\"Username is: \" + username)"
   ]
  },
  {
   "cell_type": "code",
   "execution_count": null,
   "id": "957c753a-b120-4842-9ff3-92ba745c9016",
   "metadata": {},
   "outputs": [],
   "source": [
    "# เปลี่ยน String ให้กลายเป็น Float ไม่งั้นจะ error ตรง l*w \n",
    "l = float(input(\"Enter length: \"))\n",
    "w = float(input(\"Enter width: \"))\n",
    "print(\"Area of the regtangle is\",l*w,\".\")"
   ]
  },
  {
   "cell_type": "code",
   "execution_count": null,
   "id": "3fc9d2d9-76ed-495d-b9f0-770ef7aecb2e",
   "metadata": {},
   "outputs": [],
   "source": [
    "l = float(input(\"Enter length: \"))\n",
    "w = float(input(\"Enter width: \"))\n",
    "print(\"Area of the regtangle is\",int(l*w),\".\")"
   ]
  },
  {
   "cell_type": "markdown",
   "id": "44065f7c-0ef0-4871-bfc6-8940579f25c0",
   "metadata": {},
   "source": [
    "# 6. String Formatting"
   ]
  },
  {
   "cell_type": "code",
   "execution_count": 21,
   "id": "b2fcc071-e8ef-4719-b481-c0c3f1c7650a",
   "metadata": {},
   "outputs": [
    {
     "name": "stdout",
     "output_type": "stream",
     "text": [
      "The price is 49 dollars\n"
     ]
    }
   ],
   "source": [
    "price = 49\n",
    "print(\"The price is {} dollars\".format(price))"
   ]
  },
  {
   "cell_type": "code",
   "execution_count": null,
   "id": "b54fa5bd-4f53-4d0b-82b3-039bf1d1d954",
   "metadata": {},
   "outputs": [],
   "source": [
    "# ใช้วิธีนี้\n",
    "price = 49\n",
    "txt = \"The price is {} dollars\" # {} ปีกกาตัวนี้เรียกว่า placeholders\n",
    "print(txt.format(price))"
   ]
  },
  {
   "cell_type": "code",
   "execution_count": null,
   "id": "52a1aaf7-14b8-4c60-9739-bdd683a9c8c7",
   "metadata": {},
   "outputs": [],
   "source": [
    "quantity = 3\n",
    "itemno = 567\n",
    "price = 49\n",
    "myorder = \"I want {} pieces of item number {} for {:.2f} dollars.\" # {:.2f} เพื่อแสดงทศนิยม 2 ตำแหน่ง\n",
    "print(myorder.format(quantity, itemno, price)) # จะเรียงตาม placeholders"
   ]
  },
  {
   "cell_type": "code",
   "execution_count": null,
   "id": "0a4b13c1-11c1-4497-a237-ff029201f90c",
   "metadata": {},
   "outputs": [],
   "source": [
    "# เริ่มนับตัวเลขตั้งแต่ 0 เรียกว่า Argument หมายเลข 0\n",
    "quantity = 3\n",
    "itemno = 567\n",
    "price = 49\n",
    "myorder = \"I want {0} pieces of item number {1} for {2:.2f} dollars.\"\n",
    "print(myorder.format(quantity, itemno, price)) # argument0คือตัวแรก 1คือตัวที่2 2คือตัวที่3"
   ]
  },
  {
   "cell_type": "code",
   "execution_count": null,
   "id": "1bfd0e07-4faa-4712-8b54-c7fd219bd2f7",
   "metadata": {},
   "outputs": [],
   "source": [
    "age = 36\n",
    "name = \"John\"\n",
    "txt = \"His name is {1}. {1} is {0} years old.\"\n",
    "print(txt.format(age, name))"
   ]
  },
  {
   "cell_type": "markdown",
   "id": "2c500f73-126a-4c28-a8ba-3fc36d681796",
   "metadata": {},
   "source": [
    "### Assignment 01 ทำเองเล่นเอง"
   ]
  },
  {
   "cell_type": "markdown",
   "id": "bd9c3f40-f98f-4664-9fc5-f040be251f79",
   "metadata": {},
   "source": [
    "#### ข้อที่ 1 จงเขียนสคริปต์เพือ3 ถามปีเกิด (birth year) จากผู้ใช้ เมือ3 ผู้ใช้ป้อนคำตอบและเคาะ enter แล้วให้แสดงข้อความแจ้งอายุของผู้ใช้บนจอภาพ"
   ]
  },
  {
   "cell_type": "code",
   "execution_count": null,
   "id": "bf9f518b-f5d1-42f6-bb35-dde68d5d0b75",
   "metadata": {},
   "outputs": [],
   "source": [
    "birth_years = input(\"Years (EX: 2002) :\")\n",
    "print(\"Your birth year is : \"+birth_years)"
   ]
  },
  {
   "cell_type": "code",
   "execution_count": null,
   "id": "ba0a9edf-3dd2-4ba4-862d-2aa94e2af81b",
   "metadata": {},
   "outputs": [],
   "source": [
    "birth_years = input(\"Years (EX: 2002) :\")\n",
    "output = \"Your birth year is {}\"\n",
    "print(output.format(birth_years))"
   ]
  },
  {
   "cell_type": "code",
   "execution_count": null,
   "id": "08d94468-292e-463b-abe2-39c5fff0ce6b",
   "metadata": {},
   "outputs": [],
   "source": [
    "day = str(input(\"Your birthday : Day (EX: 01)\"))\n",
    "months = str(input(\"Your birthday : Month (EX: 12)\"))\n",
    "years = str(input(\"Your birthday : Years (EX: 2002)\"))\n",
    "print(\"Your birthday is : \"+day+\"/\"+months+\"/\"+years)"
   ]
  },
  {
   "cell_type": "markdown",
   "id": "65ab0b09-95f0-4778-99d2-4f50952aaa6d",
   "metadata": {},
   "source": [
    "#### ข้อที่ 2 จงเขียนสคริปต์เพื่อถามเงินต้น (principle) และ อัตราดอกเบี้ย (interest rate) แบบร้อยละจากผู้ใช้ แล้วให้แสดงข้อความบนจอภาพว่าเมื่อฝากเงินครบ 1 ปี ผู้ใช้จะมียอดเงินฝาก (balance) เท่าใด"
   ]
  },
  {
   "cell_type": "code",
   "execution_count": null,
   "id": "b3c7f78e-f462-4b5c-ba81-672b649e1a7d",
   "metadata": {},
   "outputs": [],
   "source": [
    "PV = float(input(\"Principal (Baht)) : (Ex: 1000)\"))\n",
    "r = float(input(\"Interest rate (Percentage) : (Ex: 2.5)\"))\n",
    "print(\"Your account balance after a one-year deposit :\",float((PV*(r/100))+PV),\"Baht\")"
   ]
  },
  {
   "cell_type": "markdown",
   "id": "829d6668-8ac0-450d-a7a3-cb8ef9703a52",
   "metadata": {},
   "source": [
    "# 7. Conditions and If statements"
   ]
  },
  {
   "cell_type": "code",
   "execution_count": null,
   "id": "a5d8e2c9-cc8c-4d6f-8207-4bac8a355eb4",
   "metadata": {},
   "outputs": [],
   "source": [
    "a = 200\n",
    "b = 33\n",
    "if b > a:                           \n",
    "    print(\"b is greater than a\")\n",
    "elif a == b:\n",
    "    print(\"a and b are equal\")\n",
    "else:\n",
    "    print(\"a is greater than b\")"
   ]
  },
  {
   "cell_type": "code",
   "execution_count": null,
   "id": "15dece01-58e5-44cc-b0c7-dc467a51290e",
   "metadata": {},
   "outputs": [],
   "source": [
    "x = 41\n",
    "if x > 10:\n",
    "    print(\"Above ten,\")\n",
    "    if x > 20:\n",
    "        print(\"and also above 20!\")\n",
    "    else:\n",
    "        print(\"but not above 20.\")"
   ]
  },
  {
   "cell_type": "markdown",
   "id": "ab85fe60-1e61-4fc3-9f50-75120e1ef962",
   "metadata": {},
   "source": [
    "## 8. For loops\n",
    "### เรารู้รอบที่แน่นอนจึงใช้ for loop"
   ]
  },
  {
   "cell_type": "code",
   "execution_count": 21,
   "id": "ae47ad60-6a1a-4186-bded-6449e1613643",
   "metadata": {},
   "outputs": [
    {
     "name": "stdout",
     "output_type": "stream",
     "text": [
      "['apple', 'banana', 'cherry']\n",
      "apple\n",
      "banana\n",
      "cherry\n"
     ]
    }
   ],
   "source": [
    "fruits = [\"apple\",\"banana\",\"cherry\"]\n",
    "print(fruits)\n",
    "for x in fruits:\n",
    "    print(x)"
   ]
  },
  {
   "cell_type": "code",
   "execution_count": 22,
   "id": "c0d9b3ae-e380-49b2-adac-e560a1243153",
   "metadata": {},
   "outputs": [
    {
     "name": "stdout",
     "output_type": "stream",
     "text": [
      "b\n",
      "a\n",
      "n\n",
      "a\n",
      "n\n",
      "a\n"
     ]
    }
   ],
   "source": [
    "for x in \"banana\":\n",
    "    print(x)"
   ]
  },
  {
   "cell_type": "code",
   "execution_count": 23,
   "id": "5ac59f2c-51a6-4540-8ccc-bdce3cdfe8e5",
   "metadata": {},
   "outputs": [
    {
     "name": "stdout",
     "output_type": "stream",
     "text": [
      "0\n",
      "1\n",
      "2\n",
      "3\n",
      "4\n",
      "5\n"
     ]
    }
   ],
   "source": [
    "for x in range(6): # 6 คือ stop value จะไม่แสดง 6\n",
    "    print(x)"
   ]
  },
  {
   "cell_type": "code",
   "execution_count": 24,
   "id": "aef1e5db-9bfa-463e-a820-d562f5f14fc7",
   "metadata": {},
   "outputs": [
    {
     "name": "stdout",
     "output_type": "stream",
     "text": [
      "2\n",
      "5\n",
      "8\n",
      "11\n",
      "14\n",
      "17\n",
      "20\n",
      "23\n",
      "26\n",
      "29\n"
     ]
    }
   ],
   "source": [
    "for x in range(2, 30, 3): # 2 คือ start value/inditial value, 30 คือ stop value แปลว่าจะไม่แสดง 30\n",
    "    print(x)"
   ]
  },
  {
   "cell_type": "code",
   "execution_count": 26,
   "id": "a4655bb5-2374-4362-a7a8-f993b4fcda24",
   "metadata": {},
   "outputs": [
    {
     "name": "stdout",
     "output_type": "stream",
     "text": [
      "red apple\n",
      "red banana\n",
      "red cherry\n",
      "big apple\n",
      "big banana\n",
      "big cherry\n",
      "tasty apple\n",
      "tasty banana\n",
      "tasty cherry\n"
     ]
    }
   ],
   "source": [
    "adj = [\"red\", \"big\", \"tasty\"]\n",
    "fruits = [\"apple\", \"banana\", \"cherry\"]\n",
    "for x in adj:\n",
    "    for y in fruits:\n",
    "        print(x, y)"
   ]
  },
  {
   "cell_type": "markdown",
   "id": "018cd429-ecfa-47a6-a640-cb18f3ee91dc",
   "metadata": {},
   "source": [
    " ## 9. While Loops\n",
    " ### เราไม่รู้รอบที่แน่นอน ใช้จนกว่าเงื่อนไขจะไม่ถูก"
   ]
  },
  {
   "cell_type": "code",
   "execution_count": 27,
   "id": "29db16fd-6c06-404d-8786-1743145b60e2",
   "metadata": {},
   "outputs": [
    {
     "name": "stdout",
     "output_type": "stream",
     "text": [
      "1\n",
      "2\n",
      "3\n",
      "4\n",
      "5\n"
     ]
    }
   ],
   "source": [
    "i = 1\n",
    "while i < 6:    # 1 เป็นจริงก็ + i ไปเรื่อยๆจนกว่าจะเป็นเท็จ ก็คือน้อยกว่า 6\n",
    "    print(i)    # จะทำจนกว่าจะเงื่อนไขจะเป็นเท็จ\n",
    "    i += 1      #  += เพิ่มค่า i ไปอีก 1 หรือก้คือ i = i+1"
   ]
  }
 ],
 "metadata": {
  "kernelspec": {
   "display_name": "Python 3 (ipykernel)",
   "language": "python",
   "name": "python3"
  },
  "language_info": {
   "codemirror_mode": {
    "name": "ipython",
    "version": 3
   },
   "file_extension": ".py",
   "mimetype": "text/x-python",
   "name": "python",
   "nbconvert_exporter": "python",
   "pygments_lexer": "ipython3",
   "version": "3.11.3"
  }
 },
 "nbformat": 4,
 "nbformat_minor": 5
}
