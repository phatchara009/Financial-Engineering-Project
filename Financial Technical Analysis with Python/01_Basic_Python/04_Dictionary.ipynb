{
 "cells": [
  {
   "cell_type": "markdown",
   "id": "7d0dcf6d-de60-4e16-a64d-1feebf7cb751",
   "metadata": {},
   "source": [
    "## 13. Dictionary"
   ]
  },
  {
   "cell_type": "markdown",
   "id": "2d340783-c7c3-4053-8ec1-7258bbefa955",
   "metadata": {},
   "source": [
    "- Immutable Data Types\n",
    "\n",
    "- Mutable Data Types\n",
    "เราสามารถแก้ไขหรือเปลี่ยนแปลง item ได้\n",
    "\n",
    "list สามารถ อ้างอิงลำดับของ item ได้ด้วย index number\n",
    "\n",
    "dict มีการเก็บข้อมูลเป็นชุด มีได้หลาย item ต่างกับ list คือจะไม่มีการเรียงลำดับ\n",
    "วิธีการอ้างอิง เราอ้างอิงด้วย key ที่คู่กับ value หรือว่า index ที่อ้างด้วย key"
   ]
  },
  {
   "cell_type": "code",
   "execution_count": 7,
   "id": "6677fa87-579a-4a66-abfb-35c04240a2e0",
   "metadata": {},
   "outputs": [
    {
     "name": "stdout",
     "output_type": "stream",
     "text": [
      "{'brand': 'Ford', 'model': 'Mustang', 'year': 1964}\n"
     ]
    }
   ],
   "source": [
    "# มี 3 item ไม่เรียงลำดับ สามารถอ้างอิงได้จาก key\n",
    "thisdict = {\n",
    "    \"brand\": \"Ford\",       # brand คือ key,  Ford คือ value\n",
    "    \"model\": \"Mustang\",    # key และ value คั่นด้วย colon \n",
    "    \"year\": 1964           # key ทุกตัวต้องเป็น str เสมอ\n",
    "}\n",
    "print(thisdict)"
   ]
  },
  {
   "cell_type": "code",
   "execution_count": 2,
   "id": "05eff917-65ef-440a-9453-59a9a4ca5ddd",
   "metadata": {},
   "outputs": [
    {
     "ename": "NameError",
     "evalue": "name 'thisdict' is not defined",
     "output_type": "error",
     "traceback": [
      "\u001b[1;31m---------------------------------------------------------------------------\u001b[0m",
      "\u001b[1;31mNameError\u001b[0m                                 Traceback (most recent call last)",
      "\u001b[1;32m<ipython-input-2-93929068a66d>\u001b[0m in \u001b[0;36m<module>\u001b[1;34m\u001b[0m\n\u001b[1;32m----> 1\u001b[1;33m \u001b[0mx\u001b[0m \u001b[1;33m=\u001b[0m \u001b[0mthisdict\u001b[0m\u001b[1;33m[\u001b[0m\u001b[1;34m\"Mustang\"\u001b[0m\u001b[1;33m]\u001b[0m\u001b[1;33m\u001b[0m\u001b[1;33m\u001b[0m\u001b[0m\n\u001b[0m\u001b[0;32m      2\u001b[0m \u001b[0mprint\u001b[0m\u001b[1;33m(\u001b[0m\u001b[0mx\u001b[0m\u001b[1;33m)\u001b[0m\u001b[1;33m\u001b[0m\u001b[1;33m\u001b[0m\u001b[0m\n",
      "\u001b[1;31mNameError\u001b[0m: name 'thisdict' is not defined"
     ]
    }
   ],
   "source": [
    "x = thisdict[\"model\"]\n",
    "print(x)"
   ]
  },
  {
   "cell_type": "code",
   "execution_count": 4,
   "id": "8a3c9276-960e-4ab4-b983-75e4737cb058",
   "metadata": {},
   "outputs": [
    {
     "name": "stdout",
     "output_type": "stream",
     "text": [
      "{'brand': 'Ford', 'model': 'Mustang', 'year': 1964}\n",
      "1964\n",
      "{'brand': 'Ford', 'model': 'Mustang', 'year': 2018}\n"
     ]
    }
   ],
   "source": [
    "thisdict = {\n",
    "\"brand\": \"Ford\",\n",
    "\"model\": \"Mustang\",\n",
    "\"year\": 1964\n",
    "}"
   ]
  },
  {
   "cell_type": "code",
   "execution_count": 17,
   "id": "2ff7287b-9609-482b-b7d3-7d7a6c0883cd",
   "metadata": {},
   "outputs": [
    {
     "name": "stdout",
     "output_type": "stream",
     "text": [
      "brand\n",
      "model\n",
      "year\n"
     ]
    }
   ],
   "source": [
    "for x in thisdict:   # ตัวแปรที่อยู่ใน this dict คือ key ไม่ได้แสดงทั้ง item\n",
    "    print(x)"
   ]
  },
  {
   "cell_type": "code",
   "execution_count": 18,
   "id": "89d38745-95b9-4d37-a3ee-dc401258fd7a",
   "metadata": {},
   "outputs": [
    {
     "name": "stdout",
     "output_type": "stream",
     "text": [
      "Ford\n",
      "Mustang\n",
      "2018\n"
     ]
    }
   ],
   "source": [
    "for x in thisdict:\n",
    "    print(thisdict[x])   # แปลว่าในแต่ละรอบ จะปริ้น value ของ item ซึ่งมี indexคือ x"
   ]
  },
  {
   "cell_type": "code",
   "execution_count": 5,
   "id": "7f8e1fc8-d169-476f-98a4-2458e30b2aed",
   "metadata": {},
   "outputs": [
    {
     "name": "stdout",
     "output_type": "stream",
     "text": [
      "brand Ford\n",
      "model Mustang\n",
      "year 2018\n"
     ]
    }
   ],
   "source": [
    "for x, y in thisdict.items():   # ใช้ method ที่ชื่อว่า item ของ dict\n",
    "    print(x, y)                 # ตัวที่ 1 เป็น key, ตัวที่ 2 เป็น value"
   ]
  },
  {
   "cell_type": "code",
   "execution_count": 23,
   "id": "7b6b8c0e-7b41-4254-978c-0b66e052bb09",
   "metadata": {},
   "outputs": [
    {
     "name": "stdout",
     "output_type": "stream",
     "text": [
      "Yes, 'model' is one of the keys in the thisdict dictionary\n"
     ]
    }
   ],
   "source": [
    "# เช็คว่ามี key ที่กล่าวถึงหรือไม่\n",
    "thisdict = {\n",
    "\"brand\": \"Ford\",\n",
    "\"model\": \"Mustang\",\n",
    "\"year\": 1964\n",
    "}\n",
    "if \"model\" in thisdict:\n",
    "    print(\"Yes, 'model' is one of the keys in the thisdict dictionary\")"
   ]
  },
  {
   "cell_type": "code",
   "execution_count": 25,
   "id": "cbad832d-0302-4751-9ebe-9325ad537382",
   "metadata": {},
   "outputs": [
    {
     "name": "stdout",
     "output_type": "stream",
     "text": [
      "3\n"
     ]
    }
   ],
   "source": [
    "# นับจำนวน item ของ dict\n",
    "print(len(thisdict))"
   ]
  },
  {
   "cell_type": "code",
   "execution_count": 28,
   "id": "706f9c67-6a10-4069-a835-13700f5fe579",
   "metadata": {},
   "outputs": [
    {
     "name": "stdout",
     "output_type": "stream",
     "text": [
      "{'brand': 'Ford', 'model': 'Mustang', 'year': 1964, 'color': 'red'}\n"
     ]
    }
   ],
   "source": [
    "# การเพิ่ม item ใน dict\n",
    "# เป็น list จะมีลำดับในการแทรก\n",
    "# dict จำสร้างตัวแปลและคีย์ใหม่ขึ้นมา\n",
    "thisdict = {\n",
    "\"brand\": \"Ford\",\n",
    "\"model\": \"Mustang\",\n",
    "\"year\": 1964\n",
    "}\n",
    "thisdict[\"color\"] = \"red\"\n",
    "print(thisdict)"
   ]
  },
  {
   "cell_type": "code",
   "execution_count": 29,
   "id": "9105623b-6a48-4cc4-b050-f0a02a1a3ab2",
   "metadata": {},
   "outputs": [
    {
     "name": "stdout",
     "output_type": "stream",
     "text": [
      "{'brand': 'Ford', 'year': 1964}\n"
     ]
    }
   ],
   "source": [
    "# ลบ item โดยกำหนด key ของ value นั้นที่จะลบ\n",
    "thisdict = {\n",
    "    \"brand\": \"Ford\",\n",
    "    \"model\": \"Mustang\",\n",
    "    \"year\": 1964\n",
    "}\n",
    "thisdict.pop(\"model\")\n",
    "print(thisdict)"
   ]
  },
  {
   "cell_type": "code",
   "execution_count": 32,
   "id": "b312d717-6071-487c-93de-4720475f76d3",
   "metadata": {},
   "outputs": [
    {
     "name": "stdout",
     "output_type": "stream",
     "text": [
      "{'brand': 'Ford', 'model': 'Mustang', 'year': 2021}\n",
      "{'brand': 'Ford', 'model': 'Mustang', 'year': 1964}\n"
     ]
    }
   ],
   "source": [
    "thisdict = {\n",
    "    \"brand\": \"Ford\",\n",
    "    \"model\": \"Mustang\",\n",
    "    \"year\": 1964\n",
    "}\n",
    "mydict = thisdict.copy()  # สร้าง opject ใหม่ ถ้าใส่ .copy จะเป็นคนละ dict กันแล้ว หมายความว่ามี 2 dict\n",
    "mydict[\"year\"] = 2021\n",
    "print(mydict)             # แต่ถ้าไม่ใส่มันจะเหมือนเอาป้ายของ mydict ไปแปะ thisdict ก็คือจะมี dict เดียว\n",
    "print(thisdict)"
   ]
  },
  {
   "cell_type": "code",
   "execution_count": 10,
   "id": "dec2ba98-780b-4591-aec9-c1f6f1050e1e",
   "metadata": {},
   "outputs": [
    {
     "name": "stdout",
     "output_type": "stream",
     "text": [
      "{'brand': 'Ford', 'model': 'Mustang', 'year': 2021}\n",
      "{'brand': 'Ford', 'model': 'Mustang', 'year': 2021}\n"
     ]
    }
   ],
   "source": [
    "thisdict = {\n",
    "    \"brand\": \"Ford\",\n",
    "    \"model\": \"Mustang\",\n",
    "    \"year\": 1964\n",
    "}\n",
    "mydict = thisdict\n",
    "mydict[\"year\"] = 2021\n",
    "print(mydict)\n",
    "print(thisdict)\n",
    "# การเปลี่ยนค่าอะไรใน mydict จะเปลี่ยนค่าใน thisdict ด้วยเป็นเป็น object เดียวกัน\n",
    "# หมายถึง แก้ thisdict ส่งผลต่อ mydict\n",
    "# แก้ mydict ก็ส่งผลต่อ thisdict เช่นกัน\n",
    "# ส่งผลทั้ง ลบ เพิ่ม หรือ แก้ key และ value"
   ]
  },
  {
   "cell_type": "code",
   "execution_count": 35,
   "id": "88f8e2ce-1b25-46db-8813-fe2e1f669d4d",
   "metadata": {},
   "outputs": [
    {
     "name": "stdout",
     "output_type": "stream",
     "text": [
      "{'child1': {'name': 'Emil', 'year': 2004}, 'child2': {'name': 'Tobias', 'year': 2007}, 'child3': {'name': 'Linus', 'year': 2011}}\n"
     ]
    }
   ],
   "source": [
    "# dict ซ้อน dict\n",
    "child1 = {\n",
    "    \"name\" : \"Emil\",\n",
    "    \"year\" : 2004\n",
    "}\n",
    "child2 = {\n",
    "    \"name\" : \"Tobias\",\n",
    "    \"year\" : 2007\n",
    "}\n",
    "child3 = {\n",
    "    \"name\" : \"Linus\",\n",
    "    \"year\" : 2011\n",
    "}\n",
    "myfamily = {\n",
    "    \"child1\" : child1,\n",
    "    \"child2\" : child2,\n",
    "    \"child3\" : child3\n",
    "}\n",
    "print(myfamily)"
   ]
  },
  {
   "cell_type": "code",
   "execution_count": 5,
   "id": "01b3dd35-b8ed-40e8-9a1a-df2c6feefb0a",
   "metadata": {},
   "outputs": [
    {
     "name": "stdout",
     "output_type": "stream",
     "text": [
      "{'Group1': ['Folk', 'Frame', 'Guy'], 'Group2': ['Jame', 'Tony', 'Rome'], 'Group3': ['Daeng', 'Dum', 'Kaew']}\n"
     ]
    }
   ],
   "source": [
    "# dict ซ้อน list\n",
    "child1 = [\"Folk\", \"Frame\", \"Guy\"]\n",
    "child2 = [\"Jame\", \"Tony\", \"Rome\"]\n",
    "child3 = [\"Daeng\", \"Dum\", \"Kaew\"]\n",
    "\n",
    "myclassroom = {\n",
    "    \"Group1\" : child1,\n",
    "    \"Group2\" : child2,\n",
    "    \"Group3\" : child3\n",
    "}\n",
    "print(myclassroom) # Check"
   ]
  },
  {
   "cell_type": "code",
   "execution_count": 11,
   "id": "0aac5037-3387-4d86-96c0-4676047178f5",
   "metadata": {},
   "outputs": [
    {
     "name": "stdout",
     "output_type": "stream",
     "text": [
      "{'Name': 'John', 'Spouse': 'Mary', 'MarriageYear': 2008, 'Children': [{'Name': 'Francis', 'Year': 2010, 'Gender': 'Male'}, {'Name': 'Piony', 'Year': 2012, 'Gender': 'Female'}, {'Name': 'Leo', 'Year': 2015, 'Gender': 'Male'}]}\n",
      "4\n"
     ]
    }
   ],
   "source": [
    "# โคตรซ้อน dict ซ้อน list ที่มี dict\n",
    "familydict = {\n",
    "    \"Name\": \"John\",\n",
    "    \"Spouse\": \"Mary\",\n",
    "    \"MarriageYear\": 2008\n",
    "}\n",
    "child1 = {\n",
    "    \"Name\": \"Francis\",\n",
    "    \"Year\": 2010,\n",
    "    \"Gender\": \"Male\"\n",
    "}\n",
    "child2 = {\n",
    "    \"Name\": \"Piony\",\n",
    "    \"Year\": 2012,\n",
    "    \"Gender\": \"Female\"\n",
    "}\n",
    "child3 = {\n",
    "    \"Name\": \"Leo\",\n",
    "    \"Year\": 2015,\n",
    "    \"Gender\": \"Male\"\n",
    "}\n",
    "familydict[\"Children\"] = [child1, child2, child3] # เพิ่ม item ใน dict \n",
    "print(familydict)\n",
    "print(len(familydict)) # มี 4 dict นะดูดีๆ"
   ]
  },
  {
   "cell_type": "code",
   "execution_count": null,
   "id": "d5dc8586-f89c-4584-9baa-297f9b1ec54c",
   "metadata": {},
   "outputs": [],
   "source": []
  }
 ],
 "metadata": {
  "kernelspec": {
   "display_name": "Python 3 (ipykernel)",
   "language": "python",
   "name": "python3"
  },
  "language_info": {
   "codemirror_mode": {
    "name": "ipython",
    "version": 3
   },
   "file_extension": ".py",
   "mimetype": "text/x-python",
   "name": "python",
   "nbconvert_exporter": "python",
   "pygments_lexer": "ipython3",
   "version": "3.11.3"
  }
 },
 "nbformat": 4,
 "nbformat_minor": 5
}
