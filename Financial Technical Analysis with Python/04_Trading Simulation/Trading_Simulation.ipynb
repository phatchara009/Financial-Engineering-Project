{
 "cells": [
  {
   "cell_type": "code",
   "execution_count": 1,
   "id": "6ba2ef64-4e12-4fdc-a1bd-8eebc43d35d8",
   "metadata": {},
   "outputs": [
    {
     "name": "stdout",
     "output_type": "stream",
     "text": [
      "ADVANC.csv\n",
      "BDMS.csv\n",
      "CK.csv\n",
      "CPN.csv\n",
      "HMPRO.csv\n",
      "IVL.csv\n",
      "JAS.csv\n",
      "SCB.csv\n",
      "SCC.csv\n",
      "TRUE.csv\n",
      "-5.471854383333356\n"
     ]
    }
   ],
   "source": [
    "run TradeSim_EMACO"
   ]
  },
  {
   "cell_type": "code",
   "execution_count": 2,
   "id": "0bbedb39-f5a8-4129-82b5-5ba62ec1510b",
   "metadata": {},
   "outputs": [
    {
     "name": "stdout",
     "output_type": "stream",
     "text": [
      "ADVANC.csv\n",
      "BDMS.csv\n",
      "CK.csv\n",
      "CPN.csv\n",
      "HMPRO.csv\n",
      "IVL.csv\n",
      "JAS.csv\n",
      "SCB.csv\n",
      "SCC.csv\n",
      "TRUE.csv\n",
      "-2.4549771766667225\n"
     ]
    }
   ],
   "source": [
    "run TradeSim_MACD2"
   ]
  },
  {
   "cell_type": "code",
   "execution_count": 3,
   "id": "33ae09d3-7aad-4cbb-a365-a4ad8750fdec",
   "metadata": {},
   "outputs": [
    {
     "name": "stdout",
     "output_type": "stream",
     "text": [
      "ADVANC.csv\n",
      "BDMS.csv\n",
      "CK.csv\n",
      "CPN.csv\n",
      "HMPRO.csv\n",
      "IVL.csv\n",
      "JAS.csv\n",
      "SCB.csv\n",
      "SCC.csv\n",
      "TRUE.csv\n",
      "-4.054574100000027\n"
     ]
    }
   ],
   "source": [
    "run TradeSim_MACD1"
   ]
  },
  {
   "cell_type": "code",
   "execution_count": 4,
   "id": "d4f54605-e31c-4488-8d8d-a41ac65c7552",
   "metadata": {},
   "outputs": [
    {
     "name": "stdout",
     "output_type": "stream",
     "text": [
      "ADVANC.csv\n",
      "BDMS.csv\n",
      "CK.csv\n",
      "CPN.csv\n",
      "HMPRO.csv\n",
      "IVL.csv\n",
      "JAS.csv\n",
      "SCB.csv\n",
      "SCC.csv\n",
      "TRUE.csv\n",
      "2.1278370766666526\n"
     ]
    }
   ],
   "source": [
    "run TradeSim_BB"
   ]
  },
  {
   "cell_type": "code",
   "execution_count": 5,
   "id": "7352d9b8-7209-4b51-adee-428cc858977d",
   "metadata": {},
   "outputs": [
    {
     "name": "stdout",
     "output_type": "stream",
     "text": [
      "ADVANC.csv\n",
      "BDMS.csv\n",
      "CK.csv\n",
      "CPN.csv\n",
      "HMPRO.csv\n",
      "IVL.csv\n",
      "JAS.csv\n",
      "SCB.csv\n",
      "SCC.csv\n",
      "TRUE.csv\n",
      "4.667800286666662\n"
     ]
    }
   ],
   "source": [
    "run TradeSim_RSI"
   ]
  },
  {
   "cell_type": "code",
   "execution_count": 6,
   "id": "f32b3394-5e00-438b-974f-0c7306df4529",
   "metadata": {},
   "outputs": [
    {
     "name": "stdout",
     "output_type": "stream",
     "text": [
      "ADVANC.csv\n",
      "BDMS.csv\n",
      "CK.csv\n",
      "CPN.csv\n",
      "HMPRO.csv\n",
      "IVL.csv\n",
      "JAS.csv\n",
      "SCB.csv\n",
      "SCC.csv\n",
      "TRUE.csv\n",
      "-1.448924130000039\n"
     ]
    }
   ],
   "source": [
    "run TradeSim_SO1"
   ]
  },
  {
   "cell_type": "code",
   "execution_count": 7,
   "id": "3a54b07e-c518-4750-ab3a-96f2b36bf552",
   "metadata": {},
   "outputs": [
    {
     "name": "stdout",
     "output_type": "stream",
     "text": [
      "ADVANC.csv\n",
      "BDMS.csv\n",
      "CK.csv\n",
      "CPN.csv\n",
      "HMPRO.csv\n",
      "IVL.csv\n",
      "JAS.csv\n",
      "SCB.csv\n",
      "SCC.csv\n",
      "TRUE.csv\n",
      "-4.287154883333545\n"
     ]
    }
   ],
   "source": [
    "run TradeSim_SO2"
   ]
  },
  {
   "cell_type": "code",
   "execution_count": null,
   "id": "b1a71e36-8852-4b99-9af1-7b0639a52bae",
   "metadata": {},
   "outputs": [],
   "source": []
  }
 ],
 "metadata": {
  "kernelspec": {
   "display_name": "Python 3 (ipykernel)",
   "language": "python",
   "name": "python3"
  },
  "language_info": {
   "codemirror_mode": {
    "name": "ipython",
    "version": 3
   },
   "file_extension": ".py",
   "mimetype": "text/x-python",
   "name": "python",
   "nbconvert_exporter": "python",
   "pygments_lexer": "ipython3",
   "version": "3.11.3"
  }
 },
 "nbformat": 4,
 "nbformat_minor": 5
}
