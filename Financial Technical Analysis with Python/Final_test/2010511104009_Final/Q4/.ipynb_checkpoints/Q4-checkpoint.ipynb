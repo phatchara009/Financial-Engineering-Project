{
 "cells": [
  {
   "cell_type": "code",
   "execution_count": 1,
   "id": "af2f458e-952a-419e-9d9d-f5ea1d2d8b2c",
   "metadata": {},
   "outputs": [
    {
     "name": "stdout",
     "output_type": "stream",
     "text": [
      "ADVANC.csv\n",
      "BDMS.csv\n",
      "CK.csv\n",
      "CPN.csv\n",
      "HMPRO.csv\n",
      "IVL.csv\n",
      "JAS.csv\n",
      "SCB.csv\n",
      "SCC.csv\n",
      "TRUE.csv\n",
      "-3.016102399999978\n"
     ]
    }
   ],
   "source": [
    "run TradeSim_EMACO.py"
   ]
  },
  {
   "cell_type": "code",
   "execution_count": null,
   "id": "1ed901e1-1a5d-4333-8b2c-99dc5c937896",
   "metadata": {},
   "outputs": [],
   "source": []
  }
 ],
 "metadata": {
  "kernelspec": {
   "display_name": "Python 3",
   "language": "python",
   "name": "python3"
  },
  "language_info": {
   "codemirror_mode": {
    "name": "ipython",
    "version": 3
   },
   "file_extension": ".py",
   "mimetype": "text/x-python",
   "name": "python",
   "nbconvert_exporter": "python",
   "pygments_lexer": "ipython3",
   "version": "3.8.8"
  }
 },
 "nbformat": 4,
 "nbformat_minor": 5
}
