{
 "cells": [
  {
   "cell_type": "code",
   "execution_count": 3,
   "id": "b9698210-80a0-4a9a-8abc-6630d3a3ddbc",
   "metadata": {},
   "outputs": [
    {
     "name": "stdout",
     "output_type": "stream",
     "text": [
      "4 5 25\n",
      "4 5 50\n",
      "4 5 75\n",
      "4 5 100\n",
      "4 10 25\n",
      "4 10 50\n",
      "4 10 75\n",
      "4 10 100\n",
      "4 15 25\n",
      "4 15 50\n",
      "4 15 75\n",
      "4 15 100\n",
      "4 20 25\n",
      "4 20 50\n",
      "4 20 75\n",
      "4 20 100\n",
      "9 5 25\n",
      "9 5 50\n",
      "9 5 75\n",
      "9 5 100\n",
      "9 10 25\n",
      "9 10 50\n",
      "9 10 75\n",
      "9 10 100\n",
      "9 15 25\n",
      "9 15 50\n",
      "9 15 75\n",
      "9 15 100\n",
      "9 20 25\n",
      "9 20 50\n",
      "9 20 75\n",
      "9 20 100\n",
      "14 5 25\n",
      "14 5 50\n",
      "14 5 75\n",
      "14 5 100\n",
      "14 10 25\n",
      "14 10 50\n",
      "14 10 75\n",
      "14 10 100\n",
      "14 15 25\n",
      "14 15 50\n",
      "14 15 75\n",
      "14 15 100\n",
      "14 20 25\n",
      "14 20 50\n",
      "14 20 75\n",
      "14 20 100\n",
      "Run เสร็จสมบูรณ์!!\n"
     ]
    }
   ],
   "source": [
    "run Q5.py"
   ]
  },
  {
   "cell_type": "code",
   "execution_count": null,
   "id": "7b5a3580-c6dd-4609-934c-44344ef34224",
   "metadata": {},
   "outputs": [],
   "source": []
  }
 ],
 "metadata": {
  "kernelspec": {
   "display_name": "Python 3",
   "language": "python",
   "name": "python3"
  },
  "language_info": {
   "codemirror_mode": {
    "name": "ipython",
    "version": 3
   },
   "file_extension": ".py",
   "mimetype": "text/x-python",
   "name": "python",
   "nbconvert_exporter": "python",
   "pygments_lexer": "ipython3",
   "version": "3.8.8"
  }
 },
 "nbformat": 4,
 "nbformat_minor": 5
}
