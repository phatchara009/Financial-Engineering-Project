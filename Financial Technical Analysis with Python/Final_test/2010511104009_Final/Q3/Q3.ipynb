{
 "cells": [
  {
   "cell_type": "code",
   "execution_count": 2,
   "id": "de834371-1720-48f9-aecd-cfe607349e37",
   "metadata": {},
   "outputs": [
    {
     "name": "stdout",
     "output_type": "stream",
     "text": [
      "Run ได้แล้วจ้า\n"
     ]
    }
   ],
   "source": [
    "run Q3.py"
   ]
  },
  {
   "cell_type": "code",
   "execution_count": null,
   "id": "c899c7d0-b878-44ba-a234-e5c46da47e1c",
   "metadata": {},
   "outputs": [],
   "source": []
  }
 ],
 "metadata": {
  "kernelspec": {
   "display_name": "Python 3",
   "language": "python",
   "name": "python3"
  },
  "language_info": {
   "codemirror_mode": {
    "name": "ipython",
    "version": 3
   },
   "file_extension": ".py",
   "mimetype": "text/x-python",
   "name": "python",
   "nbconvert_exporter": "python",
   "pygments_lexer": "ipython3",
   "version": "3.8.8"
  }
 },
 "nbformat": 4,
 "nbformat_minor": 5
}
