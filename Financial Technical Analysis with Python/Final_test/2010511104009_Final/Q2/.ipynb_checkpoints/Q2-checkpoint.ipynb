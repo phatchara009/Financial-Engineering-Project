{
 "cells": [
  {
   "cell_type": "code",
   "execution_count": 4,
   "id": "a295c8d8-13b9-40d9-a1e7-ca2580a9e4f9",
   "metadata": {},
   "outputs": [],
   "source": [
    "run Q2.py"
   ]
  }
 ],
 "metadata": {
  "kernelspec": {
   "display_name": "Python 3",
   "language": "python",
   "name": "python3"
  },
  "language_info": {
   "codemirror_mode": {
    "name": "ipython",
    "version": 3
   },
   "file_extension": ".py",
   "mimetype": "text/x-python",
   "name": "python",
   "nbconvert_exporter": "python",
   "pygments_lexer": "ipython3",
   "version": "3.8.8"
  }
 },
 "nbformat": 4,
 "nbformat_minor": 5
}
