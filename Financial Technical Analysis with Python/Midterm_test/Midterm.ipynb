{
 "cells": [
  {
   "cell_type": "markdown",
   "id": "45c28cd7-4420-4c67-9e5a-14483536f702",
   "metadata": {},
   "source": [
    "# ข้อสอบ Midterm วิชา (SC253) การโปรแกรมทางการเงิน"
   ]
  },
  {
   "cell_type": "markdown",
   "id": "7e293b96-fa3a-4119-b850-9bc4b4f3453e",
   "metadata": {},
   "source": [
    "## 1."
   ]
  },
  {
   "cell_type": "code",
   "execution_count": 28,
   "id": "cef010fe-d5f0-41fd-90c1-0a6ee78a9af1",
   "metadata": {},
   "outputs": [
    {
     "name": "stdin",
     "output_type": "stream",
     "text": [
      "โปรดกรอกชื่อของคุณ : Folk\n",
      "โปรดกรอกเงินเดือนของคุณ (สกุลเงิน:บาท) : 10000\n"
     ]
    },
    {
     "name": "stdout",
     "output_type": "stream",
     "text": [
      "Folk get 10000.00 Baht a month, you should find a new job.\n"
     ]
    }
   ],
   "source": [
    "name = str(input(\"โปรดกรอกชื่อของคุณ (เป็นภาษาอังกฤษ):\"))\n",
    "income = float(input(\"โปรดกรอกเงินเดือนของคุณ (สกุลเงิน:บาท) :\"))\n",
    "if income >= 30000:\n",
    "    output = \"{} get {:.2f} Baht a month, you got a nice job.\"\n",
    "    print(output.format(name.title, income))\n",
    "elif income >= 15000 and income < 30000:\n",
    "    output = \"{} get {:.2f} Baht a month, you should be fine.\"\n",
    "    print(output.format(name.title, income))\n",
    "elif income < 15000:\n",
    "    output = \"{} get {:.2f} Baht a month, you should find a new job.\"\n",
    "    print(output.format(name.title, income))"
   ]
  },
  {
   "cell_type": "markdown",
   "id": "39573d85-4266-4f44-a2b5-19a57e8936a2",
   "metadata": {},
   "source": [
    "## 2."
   ]
  },
  {
   "cell_type": "code",
   "execution_count": 23,
   "id": "f80a8d89-883a-409a-976c-2eb58feede54",
   "metadata": {},
   "outputs": [
    {
     "name": "stdin",
     "output_type": "stream",
     "text": [
      "โปรดกรอกตัวเลขที่เป็นจำนวนเต็ม : 10\n"
     ]
    },
    {
     "name": "stdout",
     "output_type": "stream",
     "text": [
      "ผลรวมของจำนวนเต็มตั้งแต่ 1 ถึง 10 คือ 55\n"
     ]
    }
   ],
   "source": [
    "n = int(input(\"โปรดกรอกตัวเลขที่เป็นจำนวนเต็ม :\"))\n",
    "result = 0\n",
    "for i in range(1,n+1):\n",
    "    result += i\n",
    "output = \"ผลรวมของจำนวนเต็มตั้งแต่ 1 ถึง {} คือ {}\"\n",
    "print(output.format(n,result))"
   ]
  },
  {
   "cell_type": "markdown",
   "id": "dabe4785-f92a-4c11-90d3-16f5e0e0c784",
   "metadata": {},
   "source": [
    "## 3."
   ]
  },
  {
   "cell_type": "code",
   "execution_count": 5,
   "id": "5cd84495-9aa5-440e-a198-2ad02afe934d",
   "metadata": {},
   "outputs": [
    {
     "name": "stdin",
     "output_type": "stream",
     "text": [
      "โปรดกรอกตัวเลขที่เป็นจำนวนเต็มครั้งที่ 1 9\n",
      "โปรดกรอกตัวเลขที่เป็นจำนวนเต็มครั้งที่ 2 10\n",
      "โปรดกรอกตัวเลขที่เป็นจำนวนเต็มครั้งที่ 3 11\n",
      "โปรดกรอกตัวเลขที่เป็นจำนวนเต็มครั้งที่ 4 12\n",
      "โปรดกรอกตัวเลขที่เป็นจำนวนเต็มครั้งที่ 5 13\n"
     ]
    },
    {
     "name": "stdout",
     "output_type": "stream",
     "text": [
      "ค่าเฉลี่ยจากจำนวนเต็มทั้งหมดที่คุณกรอก คือ 11.00\n"
     ]
    }
   ],
   "source": [
    "X = []\n",
    "# วนลูปเพื่อรับค่าเข้าไปใน list X\n",
    "for i in range(5):\n",
    "    I = int(input(\"โปรดกรอกตัวเลขที่เป็นจำนวนเต็มครั้งที่ \"+str(i+1)))\n",
    "    X.append(I)\n",
    "\n",
    "# วนลูปใหม่โดยนำ item ใน list X มารวมกันเพื่อหา sum\n",
    "sum = 0\n",
    "for a in X:\n",
    "    sum = sum + a\n",
    "mean = float(sum / 5)\n",
    "output = \"ค่าเฉลี่ยจากจำนวนเต็มทั้งหมดที่คุณกรอก คือ {:.2f}\"\n",
    "print(output.format(mean))"
   ]
  },
  {
   "cell_type": "markdown",
   "id": "82e54183-5b46-4914-ae97-9e76abe55c88",
   "metadata": {},
   "source": [
    "## 4."
   ]
  },
  {
   "cell_type": "code",
   "execution_count": 12,
   "id": "b1edc451-50a6-4107-8992-c76822f1330e",
   "metadata": {},
   "outputs": [
    {
     "name": "stdin",
     "output_type": "stream",
     "text": [
      "โปรดกรอกรัศมีของวงกลม : 90\n"
     ]
    },
    {
     "name": "stdout",
     "output_type": "stream",
     "text": [
      "เมื่อรัศมี = 90.0, พื้นที่วงกลมของคุณคือ 25446.90 และ เส้นรอบวงกลมของคุณคือ 565.49\n"
     ]
    }
   ],
   "source": [
    "import circle as cc\n",
    "r = float(input(\"โปรดกรอกรัศมีวงกลมของคุณ :\"))\n",
    "output = \"เมื่อรัศมี = {:.2f} หน่วย, พื้นที่วงกลมของคุณคือ {:.2f} หน่วย และ เส้นรอบวงกลมของคุณคือ {:.2f} หน่วย\"\n",
    "print(output.format(r,cc.area(r),cc.circumference(r)))"
   ]
  },
  {
   "cell_type": "markdown",
   "id": "d1d6bc73-69c9-4a0e-8908-a22bea2f45cf",
   "metadata": {},
   "source": [
    "## 5."
   ]
  },
  {
   "cell_type": "code",
   "execution_count": 6,
   "id": "ca8a9ed7-f5c1-415d-a971-b18cc6dfedf1",
   "metadata": {},
   "outputs": [
    {
     "name": "stdin",
     "output_type": "stream",
     "text": [
      "โปรดกรอกชื่อจริงของนักศึกษา(เป็นภาษาอังกฤษ) คนที่ #1 : A\n",
      "โปรดกรอกคะแนนเก็บของนักศึกษา คนที่ #1 : 10\n",
      "โปรดกรอกคะแนนกลางภาคของนักศึกษา คนที่ #1 : 9\n",
      "โปรดกรอกคะแนนปลายภาคของนักศึกษา คนที่ #1 : 9\n",
      "โปรดกรอกชื่อจริงของนักศึกษา(เป็นภาษาอังกฤษ) คนที่ #2 : B\n",
      "โปรดกรอกคะแนนเก็บของนักศึกษา คนที่ #2 : 9\n",
      "โปรดกรอกคะแนนกลางภาคของนักศึกษา คนที่ #2 : 9\n",
      "โปรดกรอกคะแนนปลายภาคของนักศึกษา คนที่ #2 : 25\n",
      "โปรดกรอกชื่อจริงของนักศึกษา(เป็นภาษาอังกฤษ) คนที่ #3 : C\n",
      "โปรดกรอกคะแนนเก็บของนักศึกษา คนที่ #3 : 10\n",
      "โปรดกรอกคะแนนกลางภาคของนักศึกษา คนที่ #3 : 20\n",
      "โปรดกรอกคะแนนปลายภาคของนักศึกษา คนที่ #3 : 30\n",
      "โปรดกรอกชื่อจริงของนักศึกษา(เป็นภาษาอังกฤษ) คนที่ #4 : D\n",
      "โปรดกรอกคะแนนเก็บของนักศึกษา คนที่ #4 : 9\n",
      "โปรดกรอกคะแนนกลางภาคของนักศึกษา คนที่ #4 : 10\n",
      "โปรดกรอกคะแนนปลายภาคของนักศึกษา คนที่ #4 : 11\n",
      "โปรดกรอกชื่อจริงของนักศึกษา(เป็นภาษาอังกฤษ) คนที่ #5 : S\n",
      "โปรดกรอกคะแนนเก็บของนักศึกษา คนที่ #5 : 10\n",
      "โปรดกรอกคะแนนกลางภาคของนักศึกษา คนที่ #5 : 10\n",
      "โปรดกรอกคะแนนปลายภาคของนักศึกษา คนที่ #5 : 9\n"
     ]
    },
    {
     "name": "stdout",
     "output_type": "stream",
     "text": [
      "นักศึกษาคนที่ 1!! {'Name': 'A', 'Quiz': 10.0, 'Midterm': 9.0, 'Final': 9.0, 'Total': 28.0}\n",
      "นักศึกษาคนที่ 2!! {'Name': 'B', 'Quiz': 9.0, 'Midterm': 9.0, 'Final': 25.0, 'Total': 43.0}\n",
      "นักศึกษาคนที่ 3!! {'Name': 'C', 'Quiz': 10.0, 'Midterm': 20.0, 'Final': 30.0, 'Total': 60.0}\n",
      "นักศึกษาคนที่ 4!! {'Name': 'D', 'Quiz': 9.0, 'Midterm': 10.0, 'Final': 11.0, 'Total': 30.0}\n",
      "นักศึกษาคนที่ 5!! {'Name': 'S', 'Quiz': 10.0, 'Midterm': 10.0, 'Final': 9.0, 'Total': 29.0}\n",
      "คะแนนรวมสูงสุดของห้อง คือ คุณ C !!! นั่นเอง\n"
     ]
    }
   ],
   "source": [
    "score_list = []\n",
    "max = 0\n",
    "for i in range(1,6): # ไม่นับ stop value คือ ไม่มี 6\n",
    "    name = str(input(\"โปรดกรอกชื่อจริงของนักศึกษา(เป็นภาษาอังกฤษ) คนที่ #\" + str(i) + \" :\"))\n",
    "    quiz = float(input(\"โปรดกรอกคะแนนเก็บของนักศึกษา คนที่ #\" + str(i) + \" :\"))\n",
    "    midterm = float(input(\"โปรดกรอกคะแนนกลางภาคของนักศึกษา คนที่ #\" + str(i) + \" :\"))\n",
    "    final = float(input(\"โปรดกรอกคะแนนปลายภาคของนักศึกษา คนที่ #\" + str(i) + \" :\"))\n",
    "    total = float(quiz + midterm + final)\n",
    "    if total > max:\n",
    "        max = total\n",
    "        max_name = name\n",
    "    student = {\n",
    "        \"Name\" : name.title(),\n",
    "        \"Quiz\" : quiz,\n",
    "        \"Midterm\" : midterm,\n",
    "        \"Final\" : final,\n",
    "        \"Total\" : total\n",
    "    }\n",
    "    score_list.append(student)\n",
    "\n",
    "print(\"นักศึกษาคนที่ 1!!\",score_list[0])\n",
    "print(\"นักศึกษาคนที่ 2!!\",score_list[1])\n",
    "print(\"นักศึกษาคนที่ 3!!\",score_list[2])\n",
    "print(\"นักศึกษาคนที่ 4!!\",score_list[3])\n",
    "print(\"นักศึกษาคนที่ 5!!\",score_list[4])\n",
    "top_score = \"คะแนนรวมสูงสุดของห้อง คือ คุณ {} !!! นั่นเอง\"\n",
    "print(top_score.format(max_name))"
   ]
  }
 ],
 "metadata": {
  "kernelspec": {
   "display_name": "Python 3",
   "language": "python",
   "name": "python3"
  },
  "language_info": {
   "codemirror_mode": {
    "name": "ipython",
    "version": 3
   },
   "file_extension": ".py",
   "mimetype": "text/x-python",
   "name": "python",
   "nbconvert_exporter": "python",
   "pygments_lexer": "ipython3",
   "version": "3.8.8"
  }
 },
 "nbformat": 4,
 "nbformat_minor": 5
}
