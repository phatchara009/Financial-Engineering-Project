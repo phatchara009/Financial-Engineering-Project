{
 "cells": [
  {
   "cell_type": "markdown",
   "id": "2ed9cfa1-c7cc-436e-8566-54dd4ec995aa",
   "metadata": {},
   "source": [
    "### ตัวอย่างการคำนวณ SMA และ EMA"
   ]
  },
  {
   "cell_type": "code",
   "execution_count": 1,
   "id": "d82d1e4e-8bdf-49c0-a937-a376c15de024",
   "metadata": {},
   "outputs": [
    {
     "name": "stdout",
     "output_type": "stream",
     "text": [
      "            Open   High    Low  Close  Volume  SMA10      EMA10\n",
      "Date                                                           \n",
      "1/4/2000   45.50  46.00  45.25  45.75   37461    NaN        NaN\n",
      "1/5/2000   43.50  44.25  43.00  43.50   27363    NaN        NaN\n",
      "1/6/2000   43.75  43.75  42.25  42.50   11591    NaN        NaN\n",
      "1/7/2000   43.00  44.00  42.50  43.75    9750    NaN        NaN\n",
      "1/10/2000  44.50  45.25  43.75  43.75   17305    NaN        NaN\n",
      "1/11/2000  44.25  44.50  43.00  43.00   10539    NaN        NaN\n",
      "1/12/2000  42.75  43.75  42.75  43.75    5430    NaN        NaN\n",
      "1/13/2000  43.50  44.00  43.25  43.50    4684    NaN        NaN\n",
      "1/14/2000  44.00  44.50  43.75  44.50    8893    NaN        NaN\n",
      "1/17/2000  45.25  45.75  45.00  45.00   24458   43.9  44.261005\n"
     ]
    }
   ],
   "source": [
    "import pandas as pd\n",
    "import numpy as np\n",
    "\n",
    "df = pd.read_csv('data/SCB.csv', index_col=0)\n",
    "close = df['Close'] # อ้างถึง columns close จาก dataflame ชื่อ df\n",
    "#calculate SMA โค้ดการคำนวณ SMA\n",
    "sma10 = close.rolling(window=10).mean() # .mean หาค่าเฉลี่ยเคลื่อนที่อย่างง่าย 10วัน  โดยใช้ Method rolling และกำหนด windowsize เป็น 10 \n",
    "# 9 วันแรกออกมาเป็น NAN อัตโนมัติ เพราะข้อมูลไม่ครบ 10\n",
    "\n",
    "#calculate EMA\n",
    "# span ก็เหมือน window, side adjust คือ\n",
    "ema10 = close.ewm(span=10, adjust=False).mean() # .mean หาค่าเฉลี่ยเคลื่อนที่แบบ exponantial 10วัน \n",
    "ema10[0:9] = np.nan # 9 วันแรกออกมาเป็น NAN ตราบใดข้อมูลยังไม่ครบไม่ต้องหาค่าเฉลี่ย\n",
    "\n",
    "df['SMA10'] = sma10 # เพิ่ม SMA10 ทีเ่ป็นคอลัมน์เข้าไปใน df\n",
    "df['EMA10'] = ema10 # เพิ่ม EMA10 ทีเ่ป็นคอลัมน์เข้าไปใน df\n",
    "print(df.head(10)) # เพื่อให้เห็นข้อมูล 9 วันแรกว่าเป็น NAN ไหม\n",
    "df.to_csv('data/newSCB.csv')"
   ]
  },
  {
   "cell_type": "markdown",
   "id": "9ec64a7b-bb03-4670-8b1f-e041efcf066d",
   "metadata": {},
   "source": [
    "### การหาสัญญาณซื้อขายแบบ EMA crossover (EMACO)"
   ]
  },
  {
   "cell_type": "code",
   "execution_count": 2,
   "id": "30f1f6fd-be36-4f54-8f33-52a581438f20",
   "metadata": {},
   "outputs": [],
   "source": [
    "import pandas as pd\n",
    "import numpy as np\n",
    "def EMACO_Sig(close,sp,lp):\n",
    "    rows = len(close) # ให้ค่าจำนวนแถว ต้องรู้เพราะ จะสร้างสัญญาณซื้อขาย(signal line) จะต้องมีจำนวนวัน/จำนวนแถวที่มี \n",
    "    signal = [0] * rows # จำนวนวัน * จำนวนแถวที่มีอยู่ สร้างเป็น vector ที่ทุกแถวมีค่าเป็น 0 หมด 0 คือไม่มีสัญญาณ แปลว่าตอนนี้ column signalเป็น 0 ทั้งหมด\n",
    "    # ต้องคำนวณค่าเฉลี่ยเคลื่อนที่ 2 เส้น คือ EMA Short period และ EMA Long period\n",
    "    ema_short = close.ewm(span=sp, adjust=False).mean() # sp ที่กำหนดข้างล่างไว้คือ 10 และส่งค่าให้ sp\n",
    "    ema_short[0:sp-1] = np.nan # แถวแรกจนถึงแถวที่ sp-1 คือ 9 จะต้องเป็น NAN\n",
    "    ema_long = close.ewm(span=lp, adjust=False).mean() # lp ที่กำหนดไว้ข้างล่างคือ 50 และส่งค่าให้ lp\n",
    "    ema_long[0:lp-1] = np.nan # แถวแรกจนถึงแถวที่ lp-1 คือ 49 จะต้องเป็น NAN\n",
    "    # คำนวนไล่่ไปทีละแถวตั้งแต่ 1 ถึง rows ที่เรา len(close) ไว้\n",
    "    # แต่ละรอบ/แถวของการลูปจะทำการเปรียบเทียบเงื่อนไข\n",
    "    # ซื้อเมื่อเส้นระยะสั้นตัดเส้นระยะยาวขึ้น และ ขายเมื่อเส้นระยะสั้นตัดเส้นระยะยาวลง\n",
    "    for i in range(1,rows):\n",
    "        # เส้นระยะสั้นเคยอยู่ต่ำกว่าเส้นระยะยาว *ema_short[i-1]<=ema_long[i-1]*\n",
    "        # และเมื่อเส้นระยะสั้นตัดเส้นระยะยาวขึ้นหรือเส้นระยะสั้นสูงกว่าเส้นระยะยาวในปัจจุบันคือ i *ema_short[i]>ema_long[i]*\n",
    "        # ทำให้เกิดสัญญาณซื้อ\n",
    "        if (ema_short[i-1]<=ema_long[i-1]) and (ema_short[i]>ema_long[i]):\n",
    "            signal[i] = 1\n",
    "        # เส้นระยะสั้นตัดเส้นระยะยาวลง    \n",
    "        # แปลว่าเส้นระยะสั้นเคยสูงกว่าหรือเท่ากับ/มากกว่าหรือเท่ากับ period ที่แล้ว แต่ปัจจุบันเส้นระยะสั้นต่ำกว่าหรือน้อยกกว่าเส้นระยะยาวแล้ว\n",
    "        # ทำให้เกิดสัญญาณขาย\n",
    "        elif (ema_short[i-1]>=ema_long[i-1]) and (ema_short[i]<ema_long[i]):\n",
    "            signal[i] = -1\n",
    "    # ดังนั้น signal(สัญญาณซื้อขาย) ถ้าไม่มีการซื้อการขาย signal[i] = 0\n",
    "    # signal[i] = 1 เป็นสัญญาณซื้อ\n",
    "    # signal[i] = -1 เป็นสัญญาณขาย\n",
    "    return [ema_short,ema_long,signal] # return ไปเป็นรูปแบบของ list\n",
    "    \n",
    "df = pd.read_csv('data/SCB.csv') # เรียกมาจาก SCB excel จาก pandas\n",
    "close = df['Close'] # กำหนดตัวแปร clos จาก df\n",
    "#Set short period as 10, and set long period as 50\n",
    "[ema_short, ema_long, signal] = EMACO_Sig(close,10,50) # ส่งราคาปิดไป, ส่ง short period คือ 10วัน, ส่ง long period คือ 50 วัน\n",
    "df['EMA_10'] = ema_short\n",
    "df['EMA_50'] = ema_long\n",
    "df['Signal'] = signal\n",
    "df.to_csv('data/SCB_EMACO.csv')"
   ]
  },
  {
   "cell_type": "code",
   "execution_count": 3,
   "id": "9a0fbfcf-8b98-43a9-a694-97cbb322f5c4",
   "metadata": {},
   "outputs": [],
   "source": [
    "# ไม่ตั้ง sp กับ lp\n",
    "import pandas as pd\n",
    "import numpy as np\n",
    "def EMACO_Sig(close):\n",
    "    rows = len(close)\n",
    "    signal = [0] * rows\n",
    "    ema_short = close.ewm(span=10, adjust=False).mean()\n",
    "    ema_short[0:10-1] = np.nan\n",
    "    ema_long = close.ewm(span=50, adjust=False).mean()\n",
    "    ema_long[0:50-1] = np.nan    \n",
    "    for i in range(1,rows):\n",
    "        if (ema_short[i-1]<=ema_long[i-1]) and (ema_short[i]>ema_long[i]):\n",
    "            signal[i] = 1\n",
    "        elif (ema_short[i-1]>=ema_long[i-1]) and (ema_short[i]<ema_long[i]):\n",
    "            signal[i] = -1\n",
    "    return [ema_short,ema_long,signal]\n",
    "    \n",
    "df = pd.read_csv('data/SCB.csv')\n",
    "close = df['Close']\n",
    "#Set short period as 10, and set long period as 50\n",
    "[ema_short, ema_long, signal] = EMACO_Sig(close)\n",
    "df['EMA_10'] = ema_short\n",
    "df['EMA_50'] = ema_long\n",
    "df['Signal'] = signal\n",
    "df.to_csv('data/SCB_EMACO123.csv')"
   ]
  },
  {
   "cell_type": "markdown",
   "id": "d9013667-bfd1-4f01-820b-3321f4db70fc",
   "metadata": {},
   "source": [
    "### การหาสัญญาณซื้อขายแบบ MACD กลยุทธ์ที่ 1 (เส้น MACD ตัดเส้น 0)"
   ]
  },
  {
   "cell_type": "code",
   "execution_count": 4,
   "id": "29741d57-e3da-48ea-a2d7-f5e8ae9f66b7",
   "metadata": {},
   "outputs": [],
   "source": [
    "# ลักษณะเดียวกันกับ EMACO แต่แค่ตัดตรงเส้น 0\n",
    "import pandas as pd\n",
    "import numpy as np\n",
    "def MACD1_Sig(close):\n",
    "    rows = len(close)\n",
    "    signal = [0] * rows\n",
    "    ema_12 = close.ewm(span=12, adjust=False).mean() # ค่าเฉลี่ยเคลื่อนที่ 12 วัน\n",
    "    ema_12[0:11] = np.nan\n",
    "    ema_26 = close.ewm(span=26, adjust=False).mean() # ค่าเฉลี่ยเคลื่อนที่ 26 วัน\n",
    "    ema_26[0:25] = np.nan\n",
    "    macd = ema_12-ema_26  # เอาเส้นสั้นema12 - เส้นยาวema26 จะได้เส้น macd\n",
    "    for i in range(1,rows):  # ไม่เริ่มจากแถวแรกเพราะ การตัดการตั้งพิจารณาจาก period ก่อนหน้า แต่ถ้าเริ่มจากแถวแรกจะไม่มีตัวเปรียบเทียบ\n",
    "        if (macd[i-1]<=0) and (macd[i]>0): # macd ตัดเส้น 0 ขึ้น สัญญาณซื้อ\n",
    "            signal[i] = 1\n",
    "        elif (macd[i-1]>=0) and (macd[i]<0): # macd ตัดเส้น 0 ลง สัญญาณขาย\n",
    "            signal[i] = -1\n",
    "    return [macd,signal]\n",
    "\n",
    "df = pd.read_csv('data/SCB.csv')\n",
    "close = df['Close']\n",
    "[macd, signal] = MACD1_Sig(close)\n",
    "df['MACD'] = macd # เอา series macd ไปเพิ่มใน df และตั้งชื่อ column ว่า MACD\n",
    "df['Signal'] = signal # เอา series signal ไปเพิ่มใน df และตั้งชื่อ column ว่า Signal\n",
    "df.to_csv('data/SCB_MACD1.csv')"
   ]
  },
  {
   "cell_type": "markdown",
   "id": "60560472-4bf4-4f85-a3c2-6aeb663a75a3",
   "metadata": {},
   "source": [
    "### การหาสัญญาณซื้อขายแบบ MACD กลยุทธ์ที่ 2 (MACD ตัด Signal Line (SL))"
   ]
  },
  {
   "cell_type": "code",
   "execution_count": 5,
   "id": "6dc85d2b-16aa-4a85-b00a-bb8ee6109f6d",
   "metadata": {},
   "outputs": [],
   "source": [
    "import pandas as pd\n",
    "import numpy as np\n",
    "def MACD2_Sig(close):\n",
    "    rows = len(close)\n",
    "    signal = [0] * rows\n",
    "    ema_12 = close.ewm(span=12, adjust=False).mean() # เริ่มคำนวณแถวที่ 12 ก่อนหน้านั้นเป็น nan\n",
    "    ema_12[0:11] = np.nan\n",
    "    ema_26 = close.ewm(span=26, adjust=False).mean() # เริ่มคำนวณแถวที่ 26 ก่อนหน้านั้นเป็น nan\n",
    "    ema_26[0:25] = np.nan\n",
    "    macd = ema_12-ema_26\n",
    "    sl = macd.ewm(span=9, adjust=False).mean() # คำนวณเส้น sl จาก macd เรา macd มาหาค่าเฉลี่ยเคลื่อนที่แบบ expo 9 วัน\n",
    "    sl[0:25+9-1] = np.nan # ตั้งแต่แถวแรกจนถึงแถวที่ 33 ที่เริ่มจากแถวที่ 34 เพราะ macd เริ่ม 26 แถวดังนั้นเริ่มคำนวน sl จากแถวที่26 ดังนั้นค่าเฉลี่ยเคลื่อนที่จะเริ่มในอีก 9วันต่อไป\n",
    "    for i in range(1,rows): # ไม่ได้เริ่มจากแถวแรก เริ่มจากแถวที่ 0 \n",
    "        if (macd[i-1]<=sl[i-1]) and (macd[i]>sl[i]):\n",
    "            signal[i] = 1\n",
    "        elif (macd[i-1]>=sl[i-1]) and (macd[i]<sl[i]):\n",
    "            signal[i] = -1\n",
    "    return [macd,sl,signal]\n",
    "\n",
    "df = pd.read_csv('data/SCB.csv')\n",
    "close = df['Close']\n",
    "[macd, sl, signal] = MACD2_Sig(close)\n",
    "df['MACD'] = macd\n",
    "df['SL'] = sl\n",
    "df['Signal'] = signal\n",
    "df.to_csv('data/SCB_MACD2.csv')"
   ]
  }
 ],
 "metadata": {
  "kernelspec": {
   "display_name": "Python 3 (ipykernel)",
   "language": "python",
   "name": "python3"
  },
  "language_info": {
   "codemirror_mode": {
    "name": "ipython",
    "version": 3
   },
   "file_extension": ".py",
   "mimetype": "text/x-python",
   "name": "python",
   "nbconvert_exporter": "python",
   "pygments_lexer": "ipython3",
   "version": "3.11.3"
  }
 },
 "nbformat": 4,
 "nbformat_minor": 5
}
