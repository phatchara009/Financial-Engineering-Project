{
 "cells": [
  {
   "cell_type": "markdown",
   "id": "d500a11b-f119-4179-9159-e796577ef80e",
   "metadata": {},
   "source": [
    "# Assignment 4"
   ]
  },
  {
   "cell_type": "markdown",
   "id": "5ecf8496-ecb0-44cf-bfd6-6408e471293c",
   "metadata": {},
   "source": [
    "### 1."
   ]
  },
  {
   "cell_type": "code",
   "execution_count": 8,
   "id": "50b8e282-58cd-4640-b67b-0776a3da4d1c",
   "metadata": {},
   "outputs": [
    {
     "name": "stdout",
     "output_type": "stream",
     "text": [
      "['Tony', 'Marium', 'Sean', 'Robert']\n",
      "['Marium', 'Robert', 'Sean', 'Tony']\n"
     ]
    }
   ],
   "source": [
    "stdlist = [\"Marium\", \"Sean\", \"Robert\"] \n",
    "stdlist.insert(0,\"Tony\")\n",
    "stdlist2 = stdlist.copy()\n",
    "stdlist2.sort()\n",
    "print(stdlist)\n",
    "print(stdlist2)"
   ]
  },
  {
   "cell_type": "markdown",
   "id": "5883a94a-be5b-4c21-a6fe-108aaa765cfe",
   "metadata": {},
   "source": [
    "### 2."
   ]
  },
  {
   "cell_type": "code",
   "execution_count": 1,
   "id": "15bbdc22-aa68-44be-9e36-dbe485874dbf",
   "metadata": {},
   "outputs": [
    {
     "name": "stdout",
     "output_type": "stream",
     "text": [
      "{'Name': 'John', 'Spouse': 'Mary', 'MarriageYear': 2008, 'Children': [{'Name': 'Francis', 'Year': 2010, 'Gender': 'Male'}, {'Name': 'Piony', 'Year': 2012, 'Gender': 'Female'}, {'Name': 'Leo', 'Year': 2015, 'Gender': 'Male'}]}\n",
      "Piony\n",
      "Piony\n",
      "2012\n"
     ]
    }
   ],
   "source": [
    "familydict = {\n",
    "    \"Name\": \"John\",\n",
    "    \"Spouse\": \"Mary\",\n",
    "    \"MarriageYear\": 2008\n",
    "}\n",
    "child1 = {\n",
    "    \"Name\": \"Francis\",\n",
    "    \"Year\": 2010,\n",
    "    \"Gender\": \"Male\"\n",
    "}\n",
    "child2 = {\n",
    "    \"Name\": \"Piony\",\n",
    "    \"Year\": 2012,\n",
    "    \"Gender\": \"Female\"\n",
    "}\n",
    "child3 = {\n",
    "    \"Name\": \"Leo\",\n",
    "    \"Year\": 2015,\n",
    "    \"Gender\": \"Male\"\n",
    "}\n",
    "familydict[\"Children\"] = [child1,child2,child3] # เพิ่ม item ใน dict โดย\n",
    "print(familydict)\n",
    "print(familydict[\"Children\"][1][\"Name\"])"
   ]
  },
  {
   "cell_type": "code",
   "execution_count": 1,
   "id": "081e4b4c-55fc-4bda-9566-e6a76924f2fc",
   "metadata": {},
   "outputs": [
    {
     "name": "stdout",
     "output_type": "stream",
     "text": [
      "Piony\n",
      "2012\n"
     ]
    }
   ],
   "source": [
    "familydict = {\n",
    "    \"Name\": \"John\",\n",
    "    \"Spouse\": \"Mary\",\n",
    "    \"MarriageYear\": 2008\n",
    "}\n",
    "child1 = {\n",
    "    \"Name\": \"Francis\",\n",
    "    \"Year\": 2010,\n",
    "    \"Gender\": \"Male\"\n",
    "}\n",
    "child2 = {\n",
    "    \"Name\": \"Piony\",\n",
    "    \"Year\": 2012,\n",
    "    \"Gender\": \"Female\"\n",
    "}\n",
    "child3 = {\n",
    "    \"Name\": \"Leo\",\n",
    "    \"Year\": 2015,\n",
    "    \"Gender\": \"Male\"\n",
    "}\n",
    "familydict[\"Children\"] = [child1, child2, child3] # เพิ่ม item ใน dict \n",
    "print(familydict[\"Children\"][1][\"Name\"])  # ตอนแรกใน family เราก็อ้าง children ก่อนแล้วก็อ้างลำดับของ childeren ว่าเอาลำดับไหน\n",
    "print(familydict[\"Children\"][1][\"Year\"])  # เสดแล้วพออ้างลำดับ 1 ก็เป็น dict ชื่อ child2 แล้วเราก็อ้าง key แบบตอนแรกก้คือ Name/Year"
   ]
  },
  {
   "cell_type": "code",
   "execution_count": 6,
   "id": "75b1d381-393d-44c8-9f46-09bd336086c8",
   "metadata": {},
   "outputs": [
    {
     "name": "stdout",
     "output_type": "stream",
     "text": [
      "[{'Name': 'Francis', 'Year': 2010, 'Gender': 'Male'}, {'Name': 'Piony', 'Year': 2012, 'Gender': 'Female'}, {'Name': 'Leo', 'Year': 2015, 'Gender': 'Male'}]\n",
      "{'Name': 'Piony', 'Year': 2012, 'Gender': 'Female'}\n"
     ]
    }
   ],
   "source": [
    "familydict = {\n",
    "    \"Name\": \"John\",\n",
    "    \"Spouse\": \"Mary\",\n",
    "    \"MarriageYear\": 2008\n",
    "}\n",
    "child1 = {\n",
    "    \"Name\": \"Francis\",\n",
    "    \"Year\": 2010,\n",
    "    \"Gender\": \"Male\"\n",
    "}\n",
    "child2 = {\n",
    "    \"Name\": \"Piony\",\n",
    "    \"Year\": 2012,\n",
    "    \"Gender\": \"Female\"\n",
    "}\n",
    "child3 = {\n",
    "    \"Name\": \"Leo\",\n",
    "    \"Year\": 2015,\n",
    "    \"Gender\": \"Male\"\n",
    "}\n",
    "familydict[\"Children\"] = [child1, child2, child3] # เพิ่ม item ใน dict \n",
    "print(familydict[\"Children\"]) # dict ทั้งหมดที่อยู่ใน list \"Children\"\n",
    "print(familydict[\"Children\"][1]) # แสดงของ child2"
   ]
  },
  {
   "cell_type": "markdown",
   "id": "9fa0f19a-e5d4-4a71-a6a9-d44a89829e92",
   "metadata": {},
   "source": [
    "### 3."
   ]
  },
  {
   "cell_type": "code",
   "execution_count": 2,
   "id": "876d4345-ad25-46b4-b6f7-0c62320dcde4",
   "metadata": {},
   "outputs": [
    {
     "name": "stdin",
     "output_type": "stream",
     "text": [
      "Please enter the name of student #1 KAIWA\n",
      "Please enter the score of student #1 90\n",
      "Please enter the name of student #2 GUJA\n",
      "Please enter the score of student #2 100\n",
      "Please enter the name of student #3 SUS\n",
      "Please enter the score of student #3 70\n",
      "Please enter the name of student #4 HIGUAENG\n",
      "Please enter the score of student #4 10\n",
      "Please enter the name of student #5 GENG\n",
      "Please enter the score of student #5 55\n"
     ]
    },
    {
     "name": "stdout",
     "output_type": "stream",
     "text": [
      "[{'Name': 'KAIWA', 'Score': 90.0, 'Grade': 'A'}, {'Name': 'GUJA', 'Score': 100.0, 'Grade': 'A'}, {'Name': 'SUS', 'Score': 70.0, 'Grade': 'B'}, {'Name': 'HIGUAENG', 'Score': 10.0, 'Grade': 'F'}, {'Name': 'GENG', 'Score': 55.0, 'Grade': 'D'}]\n"
     ]
    }
   ],
   "source": [
    "def grading(score):\n",
    "    if score >= 80:\n",
    "        grade = \"A\"\n",
    "    elif score >= 70:\n",
    "        grade = \"B\"\n",
    "    elif score >= 60:\n",
    "        grade = \"C\"\n",
    "    elif score >= 50:\n",
    "        grade = \"D\"\n",
    "    else:\n",
    "        grade = \"F\"\n",
    "    return grade # ส่งเกรดกลับมาเป็นผลลัพธ์\n",
    "\n",
    "stdlist = []\n",
    "for i in range(1,6): # รับคะแนนของคน 5 คน\n",
    "    name = input(\"Please enter the name of student #\"+str(i))\n",
    "    score = float(input(\"Please enter the score of student #\"+str(i)))\n",
    "    grade = grading(score)\n",
    "    student = {\n",
    "        \"Name\" : name,\n",
    "        \"Score\" : score,\n",
    "        \"Grade\" : grade,\n",
    "    }\n",
    "    stdlist.append(student)\n",
    "print(stdlist)"
   ]
  },
  {
   "cell_type": "code",
   "execution_count": 1,
   "id": "0780be01-d93e-4b17-a3e9-4581472f1da3",
   "metadata": {},
   "outputs": [
    {
     "name": "stdin",
     "output_type": "stream",
     "text": [
      "Please enter the name of student #1 กหฟกหฟกหฟ\n",
      "Please enter the score of student #1 1\n",
      "Please enter the name of student #2 กหฟกหฟกหฟ\n",
      "Please enter the score of student #2 900\n",
      "Please enter the name of student #3 กหฟหกฟหกฟกหฟกหฟกฟหฟหก\n",
      "Please enter the score of student #3 21311321\n",
      "Please enter the name of student #4 กฟหกหฟกหฟ\n",
      "Please enter the score of student #4 99999\n",
      "Please enter the name of student #5 กหฟกหฟหฟกฟกฟกฟหกหฟก\n",
      "Please enter the score of student #5 421313435\n"
     ]
    },
    {
     "name": "stdout",
     "output_type": "stream",
     "text": [
      "[{'Name': 'กหฟกหฟกหฟ', 'Score': 1.0, 'Grade': 'F'}, {'Name': 'กหฟกหฟกหฟ', 'Score': 900.0, 'Grade': 'A'}, {'Name': 'กหฟหกฟหกฟกหฟกหฟกฟหฟหก', 'Score': 21311321.0, 'Grade': 'A'}, {'Name': 'กฟหกหฟกหฟ', 'Score': 99999.0, 'Grade': 'A'}, {'Name': 'กหฟกหฟหฟกฟกฟกฟหกหฟก', 'Score': 421313435.0, 'Grade': 'A'}]\n"
     ]
    }
   ],
   "source": [
    "def grading(score):\n",
    "    if score >= 80:\n",
    "        grade = \"A\"\n",
    "    elif score >= 70:\n",
    "        grade = \"B\"\n",
    "    elif score >= 60:\n",
    "        grade = \"C\"\n",
    "    elif score >= 50:\n",
    "        grade = \"D\"\n",
    "    else:\n",
    "        grade = \"F\"\n",
    "    return grade # ส่งเกรดกลับมาเป็นผลลัพธ์\n",
    "\n",
    "stdlist = []\n",
    "for i in range(5): # รับคะแนนของคน 5 คน\n",
    "    name = input(\"Please enter the name of student #\"+str(i+1))\n",
    "    score = float(input(\"Please enter the score of student #\"+str(i+1)))\n",
    "    grade = grading(score)\n",
    "    student = {\n",
    "        \"Name\" : name,\n",
    "        \"Score\" : score,\n",
    "        \"Grade\" : grade,\n",
    "    }\n",
    "    stdlist.append(student)\n",
    "print(stdlist)"
   ]
  },
  {
   "cell_type": "code",
   "execution_count": null,
   "id": "17e06a9c-f24c-4a38-89d6-c58671b56644",
   "metadata": {},
   "outputs": [],
   "source": [
    "def grading(score):\n",
    "    if score >= 80:\n",
    "        grade = \"A\"\n",
    "    elif score >= 70:\n",
    "        grade = \"B\"\n",
    "    elif score >= 60:\n",
    "        grade = \"C\"\n",
    "    elif score >= 50:\n",
    "        grade = \"D\"\n",
    "    else:\n",
    "        grade = \"F\"\n",
    "    return grade # ส่งเกรดกลับมาาเป็นผลลัพธ์\n",
    "\n",
    "stdlist = []\n",
    "for i in range(1,6): # รับคะแนนของคน 5 คน\n",
    "    name = input(\"Please enter the name of student #\"+str(i))\n",
    "    score = float(input(\"Please enter the score of student #\"+str(i)))\n",
    "    grade = grading(score)\n",
    "    student = {\n",
    "        \"Name\" : name.title(),\n",
    "        \"Score\" : score,\n",
    "        \"Grade\" : grade,\n",
    "    }\n",
    "    stdlist.append(student)\n",
    "print(stdlist)"
   ]
  },
  {
   "cell_type": "code",
   "execution_count": 4,
   "id": "93063267-f222-42a7-a5b6-9f44e1a868ed",
   "metadata": {},
   "outputs": [
    {
     "name": "stdout",
     "output_type": "stream",
     "text": [
      "['Tony', 'Marium', 'Sean', 'Robert']\n",
      "['Marium', 'Robert', 'Sean', 'Tony']\n"
     ]
    }
   ],
   "source": [
    "stdlist = [\"Marium\", \"Sean\", \"Robert\"]\n",
    "stdlist.insert(0,\"Tony\")\n",
    "stdlist2 = stdlist.copy()\n",
    "stdlist2.sort()\n",
    "print(stdlist)\n",
    "print(stdlist2)"
   ]
  },
  {
   "cell_type": "code",
   "execution_count": 10,
   "id": "18bad38c-b432-4729-9f5c-cf028dc25112",
   "metadata": {},
   "outputs": [
    {
     "name": "stdout",
     "output_type": "stream",
     "text": [
      "ลูกคนกลางชื่อ Piony เกิดปี 2012\n"
     ]
    }
   ],
   "source": [
    "familydict = {\n",
    "    \"Name\" : \"John\",\n",
    "    \"Spouse\" : \"Marry\",\n",
    "    \"Marriage\" : 2008\n",
    "}\n",
    "\n",
    "child1 = {\n",
    "    \"Name\" : \"Francis\",\n",
    "    \"Year\" : 2010,\n",
    "    \"Gender\" : \"Male\"\n",
    "}\n",
    "child2 = {\n",
    "    \"Name\" : \"Piony\",\n",
    "    \"Year\" : 2012,\n",
    "    \"Gender\" : \"Female\"\n",
    "}\n",
    "child3 = {\n",
    "    \"Name\" : \"Leo\",\n",
    "    \"Year\" : 2015,\n",
    "    \"Gender\" : \"Male\"\n",
    "}\n",
    "\n",
    "familydict[\"Children\"] = [child1, child2, child3]\n",
    "print(\"ลูกคนกลางชื่อ\",familydict[\"Children\"][1][\"Name\"],\"เกิดปี\",familydict[\"Children\"][1][\"Year\"])"
   ]
  },
  {
   "cell_type": "code",
   "execution_count": 1,
   "id": "8d5861fa-c74e-498b-b327-9006dd4b7da9",
   "metadata": {},
   "outputs": [
    {
     "name": "stdin",
     "output_type": "stream",
     "text": [
      "โปรดกรอกชื่อของนักเรียน #1 dsadsa\n",
      "โปรดกรอกคะแนนของนักเรียน #1 10\n",
      "โปรดกรอกชื่อของนักเรียน #2 saddadassda\n",
      "โปรดกรอกคะแนนของนักเรียน #2 15\n",
      "โปรดกรอกชื่อของนักเรียน #3 dsadsadsa\n",
      "โปรดกรอกคะแนนของนักเรียน #3 20\n",
      "โปรดกรอกชื่อของนักเรียน #4 dsadsadsada\n",
      "โปรดกรอกคะแนนของนักเรียน #4 90\n",
      "โปรดกรอกชื่อของนักเรียน #5 dsadsadasdasdsa\n",
      "โปรดกรอกคะแนนของนักเรียน #5 52\n"
     ]
    },
    {
     "name": "stdout",
     "output_type": "stream",
     "text": [
      "[{'Name': 'dsadsa', 'Score': 10, 'Grade': 'F'}, {'Name': 'saddadassda', 'Score': 15, 'Grade': 'F'}, {'Name': 'dsadsadsa', 'Score': 20, 'Grade': 'F'}, {'Name': 'dsadsadsada', 'Score': 90, 'Grade': 'A'}, {'Name': 'dsadsadasdasdsa', 'Score': 52, 'Grade': 'D'}]\n"
     ]
    }
   ],
   "source": [
    "def grading(score):\n",
    "    if score >= 80:\n",
    "        grade = \"A\"\n",
    "    elif score >= 70:\n",
    "        grade = \"B\"\n",
    "    elif score >= 60:\n",
    "        grade = \"C\"\n",
    "    elif score >= 50:\n",
    "        grade = \"D\"\n",
    "    else:\n",
    "        grade = \"F\"\n",
    "    return grade\n",
    "\n",
    "stdlist = []\n",
    "for i in range(1,6):\n",
    "    name = str(input(\"โปรดกรอกชื่อของนักเรียน #\"+str(i)))\n",
    "    score = int(input(\"โปรดกรอกคะแนนของนักเรียน #\"+str(i)))\n",
    "    grade = grading(score)\n",
    "    student = {\n",
    "        \"Name\" : name,\n",
    "        \"Score\" : score,\n",
    "        \"Grade\" : grade\n",
    "    }\n",
    "    stdlist.append(student)\n",
    "print(stdlist)"
   ]
  },
  {
   "cell_type": "code",
   "execution_count": null,
   "id": "289fed36-a641-474f-b541-9e661b987b99",
   "metadata": {},
   "outputs": [],
   "source": []
  }
 ],
 "metadata": {
  "kernelspec": {
   "display_name": "Python 3",
   "language": "python",
   "name": "python3"
  },
  "language_info": {
   "codemirror_mode": {
    "name": "ipython",
    "version": 3
   },
   "file_extension": ".py",
   "mimetype": "text/x-python",
   "name": "python",
   "nbconvert_exporter": "python",
   "pygments_lexer": "ipython3",
   "version": "3.8.8"
  }
 },
 "nbformat": 4,
 "nbformat_minor": 5
}
