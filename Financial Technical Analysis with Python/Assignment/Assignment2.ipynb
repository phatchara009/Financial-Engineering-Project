{
 "cells": [
  {
   "cell_type": "markdown",
   "id": "2d0f0aa9-77a6-4772-9fa1-ba59684aa151",
   "metadata": {},
   "source": [
    "## Assignment 2"
   ]
  },
  {
   "cell_type": "markdown",
   "id": "a29b2eff-8c56-4b77-b3b1-634010762531",
   "metadata": {},
   "source": [
    "### 1."
   ]
  },
  {
   "cell_type": "code",
   "execution_count": 1,
   "id": "150c95d3-10b0-44eb-bfef-b886f6b68b48",
   "metadata": {},
   "outputs": [
    {
     "name": "stdin",
     "output_type": "stream",
     "text": [
      "Please enter the principle : 10000\n",
      "Please enter the number of years 10\n"
     ]
    },
    {
     "name": "stdout",
     "output_type": "stream",
     "text": [
      "The final balance after 10 years saving will be 11605.41 Baht\n"
     ]
    }
   ],
   "source": [
    "balance = float(input(\"Please enter the principle :\"))\n",
    "years = int(input(\"Please enter the number of years\"))\n",
    "for i in range(years):\n",
    "    balance = balance * (1+(1.5/100))\n",
    "output = \"The final balance after {} years saving will be {:.2f} Baht\"\n",
    "print(output.format(years, balance))"
   ]
  },
  {
   "cell_type": "markdown",
   "id": "48971b79-dd3d-46b5-b62a-aef2e664322c",
   "metadata": {},
   "source": [
    "### 2."
   ]
  },
  {
   "cell_type": "code",
   "execution_count": 5,
   "id": "8186d936-29e8-4255-91a2-101f8b02b360",
   "metadata": {},
   "outputs": [
    {
     "name": "stdin",
     "output_type": "stream",
     "text": [
      "Please enter the principle : 10000\n",
      "Please enter the number of years 5\n"
     ]
    },
    {
     "name": "stdout",
     "output_type": "stream",
     "text": [
      "The final balance after 5 years saving will be 10457.81 Baht\n"
     ]
    }
   ],
   "source": [
    "balance = float(input(\"Please enter the principle :\"))\n",
    "years = int(input(\"Please enter the number of years\"))\n",
    "for i in range(years):\n",
    "    if i < 2:\n",
    "        balance = balance * (1+(0.5/100))\n",
    "    elif i < 4:\n",
    "        balance = balance * (1+(1.0/100))\n",
    "    elif i >= 4:\n",
    "        balance = balance * (1+(1.5/100))\n",
    "output = \"The final balance after {} years saving will be {:.2f} Baht\"\n",
    "print(output.format(years, balance))"
   ]
  },
  {
   "cell_type": "code",
   "execution_count": 1,
   "id": "d9ef0abc-0d50-484b-8846-4390575bfae2",
   "metadata": {},
   "outputs": [
    {
     "name": "stdin",
     "output_type": "stream",
     "text": [
      "Please enter the principle : 5\n",
      "Please enter the number of years 5\n"
     ]
    },
    {
     "name": "stdout",
     "output_type": "stream",
     "text": [
      "The final balance after 5 years saving will be 5.23 Baht\n"
     ]
    }
   ],
   "source": [
    "balance = float(input(\"Please enter the principle :\"))\n",
    "years = int(input(\"Please enter the number of years\"))\n",
    "for i in range(1,years+1):\n",
    "    if i < 3:\n",
    "        balance = balance * (1+(0.5/100))\n",
    "    elif i < 5:\n",
    "        balance = balance * (1+(1.0/100))\n",
    "    elif i >= 5:\n",
    "        balance = balance * (1+(1.5/100))\n",
    "output = \"The final balance after {} years saving will be {:.2f} Baht\"\n",
    "print(output.format(years, balance))"
   ]
  },
  {
   "cell_type": "code",
   "execution_count": 1,
   "id": "d8ad6dfe-3eb3-48cf-902e-01035d24d44d",
   "metadata": {},
   "outputs": [
    {
     "name": "stdin",
     "output_type": "stream",
     "text": [
      "Please enter the principle : 10\n",
      "Please enter the number of years 20\n"
     ]
    },
    {
     "name": "stdout",
     "output_type": "stream",
     "text": [
      "The final balance after 20 years saving will be 13.07 Baht\n"
     ]
    }
   ],
   "source": [
    "balance = float(input(\"Please enter the principle :\"))\n",
    "years = int(input(\"Please enter the number of years\"))\n",
    "for i in range(years):\n",
    "    if i == 0 or i == 1:\n",
    "        balance = balance * (1+(0.5/100))\n",
    "    elif i == 2 or i == 3:\n",
    "        balance = balance * (1+(1.0/100))\n",
    "    elif i >= 4:\n",
    "        balance = balance * (1+(1.5/100))\n",
    "output = \"The final balance after {} years saving will be {:.2f} Baht\"\n",
    "print(output.format(years, balance))"
   ]
  },
  {
   "cell_type": "code",
   "execution_count": null,
   "id": "9c8424a8-28fb-4b3f-b781-3caf8e8ffb10",
   "metadata": {},
   "outputs": [],
   "source": [
    "balance = float(input(\"Please enter the principle :\"))\n",
    "years = int(input(\"Please enter the number of years\"))\n",
    "for i in range(1,years+1):\n",
    "    if i == 1 or i == 2:\n",
    "        balance = balance * (1+(0.5/100))\n",
    "    elif i == 3 or i == 4:\n",
    "        balance = balance * (1+(1.0/100))\n",
    "    elif i >= 5:\n",
    "        balance = balance * (1+(1.5/100))\n",
    "output = \"The final balance after {} years saving will be {:.2f} Baht\"\n",
    "print(output.format(years, balance))"
   ]
  },
  {
   "cell_type": "markdown",
   "id": "21af530c-c3f4-4a33-9f90-dd1de71b99a8",
   "metadata": {},
   "source": [
    "### 3."
   ]
  },
  {
   "cell_type": "code",
   "execution_count": 2,
   "id": "fd6fd2a3-3d69-4b00-a212-63c1cdc0a7dd",
   "metadata": {},
   "outputs": [
    {
     "name": "stdin",
     "output_type": "stream",
     "text": [
      "Please enter a number : 1\n",
      "Please enter a number : 2\n",
      "Please enter a number : -3\n",
      "Please enter a number : 5\n",
      "Please enter a number : 0\n"
     ]
    },
    {
     "name": "stdout",
     "output_type": "stream",
     "text": [
      "The minimum number is -3\n",
      "The average number is 1.25\n",
      "The maximum number is 5\n"
     ]
    }
   ],
   "source": [
    "number = int(input(\"Please enter a number :\"))\n",
    "min = number\n",
    "max = number\n",
    "sum = 0\n",
    "n = 0\n",
    "while number != 0:\n",
    "    if number < min:\n",
    "        min = number\n",
    "    elif number > max:\n",
    "        max = number\n",
    "    sum = sum + number\n",
    "    n = n + 1\n",
    "    number = int(input(\"Please enter a number :\"))\n",
    "avg = sum / n\n",
    "print(\"The minimum number is\", min)\n",
    "print(\"The average number is\", \"%.2f\" % avg)\n",
    "print(\"The maximum number is\", max)"
   ]
  },
  {
   "cell_type": "markdown",
   "id": "e64fa42b-ef5b-471c-a0bf-078b82e7c198",
   "metadata": {},
   "source": [
    "### 4."
   ]
  },
  {
   "cell_type": "code",
   "execution_count": 4,
   "id": "9e120ff3-08c3-4924-a554-018864212087",
   "metadata": {},
   "outputs": [
    {
     "name": "stdout",
     "output_type": "stream",
     "text": [
      "The minimum number is 7\n",
      "The average number is 25.00\n",
      "The maximum number is 49\n"
     ]
    }
   ],
   "source": [
    "A = [21, 15, 7, 33, 49]\n",
    "min = A[0]\n",
    "max = A[0]\n",
    "sum = 0\n",
    "n = 0\n",
    "for x in A:\n",
    "    if x < min:\n",
    "        min = x\n",
    "    elif x > max:\n",
    "        max = x\n",
    "    sum = sum + x\n",
    "    n = n + 1\n",
    "avg = sum / n\n",
    "print(\"The minimum number is\", min)\n",
    "print(\"The average number is\", \"%.2f\" % avg)\n",
    "print(\"The maximum number is\", max)      "
   ]
  },
  {
   "cell_type": "code",
   "execution_count": 11,
   "id": "ae3b17b2-a235-4981-8521-d2c63f1e8523",
   "metadata": {},
   "outputs": [
    {
     "name": "stdout",
     "output_type": "stream",
     "text": [
      "The minimum number is 7\n",
      "The average number is 25.00\n",
      "The maximum number is 49\n"
     ]
    }
   ],
   "source": [
    "# ลองให้เป็น dict ดู\n",
    "A = {\"a\":21, \"b\":15, \"c\":7, \"d\":33, \"e\":49}\n",
    "min = A[\"a\"]\n",
    "max = A[\"b\"]\n",
    "sum = 0\n",
    "n = 0\n",
    "for x in A:\n",
    "    if A[x] < min:\n",
    "        min = A[x]\n",
    "    elif A[x] > max:\n",
    "        max = A[x]\n",
    "    sum = sum + A[x]\n",
    "    n = n + 1\n",
    "avg = sum / n\n",
    "print(\"The minimum number is\", min)\n",
    "print(\"The average number is\", \"%.2f\" % avg)\n",
    "print(\"The maximum number is\", max)  "
   ]
  },
  {
   "cell_type": "code",
   "execution_count": null,
   "id": "9f131435-8537-433b-8771-dc41a3d328b3",
   "metadata": {},
   "outputs": [],
   "source": []
  }
 ],
 "metadata": {
  "kernelspec": {
   "display_name": "Python 3",
   "language": "python",
   "name": "python3"
  },
  "language_info": {
   "codemirror_mode": {
    "name": "ipython",
    "version": 3
   },
   "file_extension": ".py",
   "mimetype": "text/x-python",
   "name": "python",
   "nbconvert_exporter": "python",
   "pygments_lexer": "ipython3",
   "version": "3.8.8"
  }
 },
 "nbformat": 4,
 "nbformat_minor": 5
}
