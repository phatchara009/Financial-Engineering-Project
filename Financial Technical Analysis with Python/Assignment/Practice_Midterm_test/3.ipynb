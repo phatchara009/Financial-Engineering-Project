{
 "cells": [
  {
   "cell_type": "code",
   "execution_count": 8,
   "id": "142ce8c2-43f9-42ae-a511-377d17695a19",
   "metadata": {},
   "outputs": [
    {
     "name": "stdout",
     "output_type": "stream",
     "text": [
      "สูตรคูณแม่ 3\n",
      "3 x 1 = 3\n",
      "3 x 2 = 6\n",
      "3 x 3 = 9\n",
      "3 x 4 = 12\n",
      "3 x 5 = 15\n",
      "3 x 6 = 18\n",
      "3 x 7 = 21\n",
      "3 x 8 = 24\n",
      "3 x 9 = 27\n",
      "3 x 10 = 30\n",
      "3 x 11 = 33\n",
      "3 x 12 = 36\n"
     ]
    }
   ],
   "source": [
    "# 1.\n",
    "\n",
    "def multiply(x,y):\n",
    "    return x*y\n",
    "print(\"สูตรคูณแม่ 3\")\n",
    "for y in range(1,13):\n",
    "    output = \"3 x {} = {}\"\n",
    "    print(output.format(y,multiply(3,y)))"
   ]
  },
  {
   "cell_type": "code",
   "execution_count": 7,
   "id": "9e00d4fb-7c6f-4bf5-8cac-9b31b9b4ac4a",
   "metadata": {},
   "outputs": [
    {
     "name": "stdout",
     "output_type": "stream",
     "text": [
      "สูตรคูณแม่ 3\n",
      "3 x 1 = 3\n",
      "3 x 2 = 6\n",
      "3 x 3 = 9\n",
      "3 x 4 = 12\n",
      "3 x 5 = 15\n",
      "3 x 6 = 18\n",
      "3 x 7 = 21\n",
      "3 x 8 = 24\n",
      "3 x 9 = 27\n",
      "3 x 10 = 30\n",
      "3 x 11 = 33\n",
      "3 x 12 = 36\n",
      "สูตรคูณแม่ 4\n",
      "4 x 1 = 4\n",
      "4 x 2 = 8\n",
      "4 x 3 = 12\n",
      "4 x 4 = 16\n",
      "4 x 5 = 20\n",
      "4 x 6 = 24\n",
      "4 x 7 = 28\n",
      "4 x 8 = 32\n",
      "4 x 9 = 36\n",
      "4 x 10 = 40\n",
      "4 x 11 = 44\n",
      "4 x 12 = 48\n",
      "สูตรคูณแม่ 5\n",
      "5 x 1 = 5\n",
      "5 x 2 = 10\n",
      "5 x 3 = 15\n",
      "5 x 4 = 20\n",
      "5 x 5 = 25\n",
      "5 x 6 = 30\n",
      "5 x 7 = 35\n",
      "5 x 8 = 40\n",
      "5 x 9 = 45\n",
      "5 x 10 = 50\n",
      "5 x 11 = 55\n",
      "5 x 12 = 60\n"
     ]
    }
   ],
   "source": [
    "# 2.\n",
    "\n",
    "def multiply(x,y):\n",
    "    return x*y\n",
    "for x in range(3,6):\n",
    "    a = \"สูตรคูณแม่ {}\"\n",
    "    print(a.format(x))\n",
    "    for y in range(1,13):\n",
    "        output = \"{} x {} = {}\"\n",
    "        print(output.format(x,y,multiply(x,y)))"
   ]
  },
  {
   "cell_type": "code",
   "execution_count": 13,
   "id": "a2a5b385-6bed-4154-8674-27825164b418",
   "metadata": {},
   "outputs": [
    {
     "data": {
      "text/plain": [
       "120"
      ]
     },
     "execution_count": 13,
     "metadata": {},
     "output_type": "execute_result"
    }
   ],
   "source": [
    "# 3.\n",
    "\n",
    "def factorial(n):\n",
    "    fac = 1\n",
    "    for i in range(1,n+1):\n",
    "        fac = fac * i\n",
    "    return fac\n",
    "factorial(5)"
   ]
  },
  {
   "cell_type": "code",
   "execution_count": 3,
   "id": "c6b75b23-afa0-47d9-b660-19d4908fe585",
   "metadata": {},
   "outputs": [
    {
     "name": "stdin",
     "output_type": "stream",
     "text": [
      "เลือกการคำนวนพื้นที่ 1 ถึง 3 ได้แก่ 1(พท.สี่เหลี่ยม), 2(พท.วงกลม), 3(พท.สามเหลี่ยม) : 3\n",
      "โปรดใส่ฐานของสามเหลี่ยม : 2\n",
      "โปรดใส่ความสูงของสามเหลี่ยม : 3\n"
     ]
    },
    {
     "name": "stdout",
     "output_type": "stream",
     "text": [
      "พื้นที่ของคุณคือ 3.00 หน่วย\n"
     ]
    }
   ],
   "source": [
    "import math as m\n",
    "def rectangleArea(w,l):\n",
    "    return w*l\n",
    "def circleArea(r):\n",
    "    return m.pi*(r**2)\n",
    "def triangleArea(b,h):\n",
    "    return 0.5*b*h\n",
    "\n",
    "x = str(input(\"เลือกการคำนวนพื้นที่ 1 ถึง 3 ได้แก่ 1(พท.สี่เหลี่ยม), 2(พท.วงกลม), 3(พท.สามเหลี่ยม) :\"))\n",
    "if x == \"1\":\n",
    "    w = float(input(\"โปรดใส่ความกว้างของสี่เหลี่ยม :\"))\n",
    "    l = float(input(\"โปรดใส่ความยาวของสี่เหลี่ยม :\"))\n",
    "    area = rectangleArea(w,l)\n",
    "elif x == \"2\":\n",
    "    r = float(input(\"โปรดใส่รัศมีของวงกลม :\"))\n",
    "    area = circleArea(r)\n",
    "elif x == \"3\":\n",
    "    b = float(input(\"โปรดใส่ฐานของสามเหลี่ยม :\"))\n",
    "    h = float(input(\"โปรดใส่ความสูงของสามเหลี่ยม :\"))\n",
    "    area = triangleArea(b,h)\n",
    "\n",
    "print(\"พื้นที่ของคุณคือ\",\"%.2f\" %area,\"หน่วย\")"
   ]
  },
  {
   "cell_type": "code",
   "execution_count": null,
   "id": "4d8998f1-0807-452c-aed3-a1f95cef14b8",
   "metadata": {},
   "outputs": [],
   "source": [
    "import Area\n",
    "\n",
    "x = str(input(\"เลือกการคำนวนพื้นที่ 1 ถึง 3 ได้แก่ 1(พท.สี่เหลี่ยม), 2(พท.วงกลม), 3(พท.สามเหลี่ยม) :\"))\n",
    "if x == \"1\":\n",
    "    w = float(input(\"โปรดใส่ความกว้างของสี่เหลี่ยม :\"))\n",
    "    l = float(input(\"โปรดใส่ความยาวของสี่เหลี่ยม :\"))\n",
    "    area = Area.rectangleArea(w,l)\n",
    "elif x == \"2\":\n",
    "    r = float(input(\"โปรดใส่รัศมีของวงกลม :\"))\n",
    "    area = Area.circleArea(r)\n",
    "elif x == \"3\":\n",
    "    b = float(input(\"โปรดใส่ฐานของสามเหลี่ยม :\"))\n",
    "    h = float(input(\"โปรดใส่ความสูงของสามเหลี่ยม :\"))\n",
    "    area = Area.triangleArea(b,h)\n",
    "\n",
    "print(\"พื้นที่ของคุณคือ\",\"%.2f\" %area,\"หน่วย\")"
   ]
  },
  {
   "cell_type": "code",
   "execution_count": null,
   "id": "e2ebc02f-4abb-4bed-a0c5-dde3645bc659",
   "metadata": {},
   "outputs": [],
   "source": [
    "import Area\n",
    "\n",
    "x = str(input(\"เลือกการคำนวนพื้นที่ 1 ถึง 3 ได้แก่ 1(พท.สี่เหลี่ยม), 2(พท.วงกลม), 3(พท.สามเหลี่ยม) :\"))\n",
    "if x == \"1\":\n",
    "    w = float(input(\"โปรดใส่ความกว้างของสี่เหลี่ยม :\"))\n",
    "    l = float(input(\"โปรดใส่ความยาวของสี่เหลี่ยม :\"))\n",
    "    area = Area.rectangleArea(w,l)\n",
    "    print(\"พื้นที่ของคุณคือ\",\"%.2f\" %area,\"หน่วย\")\n",
    "elif x == \"2\":\n",
    "    r = float(input(\"โปรดใส่รัศมีของวงกลม :\"))\n",
    "    area = Area.circleArea(r)\n",
    "    print(\"พื้นที่ของคุณคือ\",\"%.2f\" %area,\"หน่วย\")\n",
    "elif x == \"3\":\n",
    "    b = float(input(\"โปรดใส่ฐานของสามเหลี่ยม :\"))\n",
    "    h = float(input(\"โปรดใส่ความสูงของสามเหลี่ยม :\"))\n",
    "    area = Area.triangleArea(b,h)\n",
    "    print(\"พื้นที่ของคุณคือ\",\"%.2f\" %area,\"หน่วย\")"
   ]
  },
  {
   "cell_type": "code",
   "execution_count": null,
   "id": "38e914ff-873e-4607-9307-9057340a14fe",
   "metadata": {},
   "outputs": [],
   "source": []
  }
 ],
 "metadata": {
  "kernelspec": {
   "display_name": "Python 3",
   "language": "python",
   "name": "python3"
  },
  "language_info": {
   "codemirror_mode": {
    "name": "ipython",
    "version": 3
   },
   "file_extension": ".py",
   "mimetype": "text/x-python",
   "name": "python",
   "nbconvert_exporter": "python",
   "pygments_lexer": "ipython3",
   "version": "3.8.8"
  }
 },
 "nbformat": 4,
 "nbformat_minor": 5
}
