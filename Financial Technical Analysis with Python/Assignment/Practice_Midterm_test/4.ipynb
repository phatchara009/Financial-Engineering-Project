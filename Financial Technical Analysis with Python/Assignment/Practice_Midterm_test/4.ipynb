{
 "cells": [
  {
   "cell_type": "code",
   "execution_count": 2,
   "id": "6cb72cba-9083-4a24-ac03-b3e152fa999e",
   "metadata": {},
   "outputs": [
    {
     "name": "stdout",
     "output_type": "stream",
     "text": [
      "['Tony', 'Marium', 'Sean', 'Robert']\n",
      "['Marium', 'Robert', 'Sean', 'Tony']\n"
     ]
    }
   ],
   "source": [
    "# 1.\n",
    "\n",
    "stdlist = [\"Marium\", \"Sean\", \"Robert\"]\n",
    "stdlist.insert(0,\"Tony\")\n",
    "stdlist2 = stdlist.copy()\n",
    "stdlist2.sort()\n",
    "print(stdlist)\n",
    "print(stdlist2)"
   ]
  },
  {
   "cell_type": "code",
   "execution_count": 8,
   "id": "7ee28442-908a-415f-b446-208ab2d140c3",
   "metadata": {},
   "outputs": [
    {
     "name": "stdout",
     "output_type": "stream",
     "text": [
      "ชื่อของเขาคือ Piony เกิดในปี ค.ศ. 2012\n"
     ]
    }
   ],
   "source": [
    "# 2.\n",
    "\n",
    "familydict = {\n",
    "    \"Name\" : \"John\",\n",
    "    \"Spouse\" : \"Marry\",\n",
    "    \"MarriageYear\" : 2008\n",
    "}\n",
    "\n",
    "child1 = {\n",
    "    \"Name\" : \"Francis\",\n",
    "    \"Year\" : 2010,\n",
    "    \"Gender\" : \"Male\"\n",
    "}\n",
    "\n",
    "child2 = {\n",
    "    \"Name\" : \"Piony\",\n",
    "    \"Year\" : 2012,\n",
    "    \"Gender\" : \"Female\"\n",
    "}\n",
    "\n",
    "child3 = {\n",
    "    \"Name\" : \"Leo\",\n",
    "    \"Year\" : 2015,\n",
    "    \"Gender\" : \"Male\"\n",
    "}\n",
    "\n",
    "familydict[\"Children\"] = [child1, child2, child3]\n",
    "print(\"ชื่อของเขาคือ\",familydict[\"Children\"][1][\"Name\"],\"เกิดในปี ค.ศ.\",familydict[\"Children\"][1][\"Year\"])"
   ]
  },
  {
   "cell_type": "code",
   "execution_count": 9,
   "id": "e28f7a84-b3a7-4077-a411-28a9f441de1a",
   "metadata": {},
   "outputs": [
    {
     "name": "stdout",
     "output_type": "stream",
     "text": [
      "ชื่อของเขาคือ Piony เกิดในปี ค.ศ.2012\n"
     ]
    }
   ],
   "source": [
    "# 2.\n",
    "\n",
    "familydict = {\n",
    "    \"Name\" : \"John\",\n",
    "    \"Spouse\" : \"Marry\",\n",
    "    \"MarriageYear\" : 2008\n",
    "}\n",
    "\n",
    "child1 = {\n",
    "    \"Name\" : \"Francis\",\n",
    "    \"Year\" : 2010,\n",
    "    \"Gender\" : \"Male\"\n",
    "}\n",
    "\n",
    "child2 = {\n",
    "    \"Name\" : \"Piony\",\n",
    "    \"Year\" : 2012,\n",
    "    \"Gender\" : \"Female\"\n",
    "}\n",
    "\n",
    "child3 = {\n",
    "    \"Name\" : \"Leo\",\n",
    "    \"Year\" : 2015,\n",
    "    \"Gender\" : \"Male\"\n",
    "}\n",
    "\n",
    "familydict[\"Children\"] = [child1, child2, child3]\n",
    "output = \"ชื่อของเขาคือ {} เกิดในปี ค.ศ.{}\"\n",
    "print(output.format(familydict[\"Children\"][1][\"Name\"],familydict[\"Children\"][1][\"Year\"]))"
   ]
  },
  {
   "cell_type": "code",
   "execution_count": 4,
   "id": "b4272a11-a424-4f6c-950e-84742c6a65bf",
   "metadata": {},
   "outputs": [
    {
     "name": "stdin",
     "output_type": "stream",
     "text": [
      "Please enter the name of student #1 กกกกก\n",
      "Please enter the score of student #1 90\n",
      "Please enter the name of student #2 หหห\n",
      "Please enter the score of student #2 20\n",
      "Please enter the name of student #3 ฟฟฟฟ\n",
      "Please enter the score of student #3 90\n",
      "Please enter the name of student #4 กกกกกกกกกก\n",
      "Please enter the score of student #4 80\n",
      "Please enter the name of student #5 กฟหกหฟหกหฟ\n",
      "Please enter the score of student #5 70\n"
     ]
    },
    {
     "name": "stdout",
     "output_type": "stream",
     "text": [
      "[{'Name': 'กกกกก', 'Score': 90.0, 'Grade': 'A'}, {'Name': 'หหห', 'Score': 20.0, 'Grade': 'F'}, {'Name': 'ฟฟฟฟ', 'Score': 90.0, 'Grade': 'A'}, {'Name': 'กกกกกกกกกก', 'Score': 80.0, 'Grade': 'A'}, {'Name': 'กฟหกหฟหกหฟ', 'Score': 70.0, 'Grade': 'B'}]\n"
     ]
    }
   ],
   "source": [
    "def calculate_grade(score):\n",
    "    if score >= 80:\n",
    "        grade = \"A\"\n",
    "    elif score >= 70:\n",
    "        grade = \"B\"\n",
    "    elif score >= 60:\n",
    "        grade = \"C\"\n",
    "    elif score >= 50:\n",
    "        grade = \"D\"\n",
    "    elif score < 50:\n",
    "        grade = \"F\"\n",
    "    return grade\n",
    "\n",
    "stdlist = []\n",
    "for i in range(1,6):\n",
    "    name = input(\"Please enter the name of student #\"+str(i))\n",
    "    score = float(input(\"Please enter the score of student #\"+str(i)))\n",
    "    grade = calculate_grade(score)\n",
    "    student = {\n",
    "        \"Name\" : name,\n",
    "        \"Score\" : score,\n",
    "        \"Grade\" : grade\n",
    "    }\n",
    "    stdlist.append(student)\n",
    "print(stdlist)"
   ]
  },
  {
   "cell_type": "code",
   "execution_count": null,
   "id": "d06a5371-7a52-43a8-9341-b3856c0981ac",
   "metadata": {},
   "outputs": [],
   "source": []
  }
 ],
 "metadata": {
  "kernelspec": {
   "display_name": "Python 3",
   "language": "python",
   "name": "python3"
  },
  "language_info": {
   "codemirror_mode": {
    "name": "ipython",
    "version": 3
   },
   "file_extension": ".py",
   "mimetype": "text/x-python",
   "name": "python",
   "nbconvert_exporter": "python",
   "pygments_lexer": "ipython3",
   "version": "3.8.8"
  }
 },
 "nbformat": 4,
 "nbformat_minor": 5
}
