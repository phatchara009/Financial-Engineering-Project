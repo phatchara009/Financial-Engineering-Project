{
 "cells": [
  {
   "cell_type": "code",
   "execution_count": 3,
   "id": "204ab1dd-f780-4d0f-b0a8-03fac018dfd7",
   "metadata": {},
   "outputs": [
    {
     "name": "stdin",
     "output_type": "stream",
     "text": [
      "กรอกเงินที่ต้องการจะฝาก คือ : 10000\n",
      "จำนวนปีที่ต้องการจะฝากเงิน คือ : 2\n"
     ]
    },
    {
     "name": "stdout",
     "output_type": "stream",
     "text": [
      "จำนวนเงินของคุณเมื่อฝากเงินครบ 2 ปี ก็คือ 10302.249999999996 บาท\n"
     ]
    }
   ],
   "source": [
    "# 1.\n",
    "\n",
    "balance = float(input(\"กรอกเงินที่ต้องการจะฝาก คือ :\"))\n",
    "years = int(input(\"จำนวนปีที่ต้องการจะฝากเงิน คือ :\"))\n",
    "for i in range(years):\n",
    "    balance = balance * (1+1.5/100)\n",
    "\n",
    "output = \"จำนวนเงินของคุณเมื่อฝากเงินครบ {} ปี ก็คือ {} บาท\"\n",
    "print(output.format(years,balance))"
   ]
  },
  {
   "cell_type": "code",
   "execution_count": 4,
   "id": "9b916e85-399f-452b-b5ca-e1ddb23a8209",
   "metadata": {},
   "outputs": [
    {
     "name": "stdin",
     "output_type": "stream",
     "text": [
      "กรอกเงินที่ต้องการจะฝาก คือ : 10000\n",
      "จำนวนปีที่ต้องการจะฝากเงิน คือ : 10\n"
     ]
    },
    {
     "name": "stdout",
     "output_type": "stream",
     "text": [
      "จำนวนเงินของคุณเมื่อฝากเงินครบ 10 ปี ก็คือ 10935.509949964373 บาท\n"
     ]
    }
   ],
   "source": [
    "# 2.\n",
    "\n",
    "balance = float(input(\"กรอกเงินที่ต้องการจะฝาก คือ :\"))\n",
    "years = int(input(\"จำนวนปีที่ต้องการจะฝากเงิน คือ :\"))\n",
    "for i in range(years):\n",
    "    if i < 2:\n",
    "        balance = balance * (1+0.5/100)\n",
    "    elif i < 4:\n",
    "        balance = balance * (1+1/100)\n",
    "    elif i >= 4:\n",
    "        balance = balance * (1+1.5/100)\n",
    "output = \"จำนวนเงินของคุณเมื่อฝากเงินครบ {} ปี ก็คือ {:.2f} บาท\"\n",
    "print(output.format(years,balance))"
   ]
  },
  {
   "cell_type": "code",
   "execution_count": 1,
   "id": "e1694503-73fb-41b7-927f-c3e303338c79",
   "metadata": {},
   "outputs": [
    {
     "name": "stdin",
     "output_type": "stream",
     "text": [
      "โปรดกรอกตัวเลขที่มึงอยากจะกรอกอะสัส 5555 : 5\n",
      "โปรดกรอกตัวเลขที่มึงอยากจะกรอกอะสัส 5555 : 5\n",
      "โปรดกรอกตัวเลขที่มึงอยากจะกรอกอะสัส 5555 : 5\n",
      "โปรดกรอกตัวเลขที่มึงอยากจะกรอกอะสัส 5555 : 5\n",
      "โปรดกรอกตัวเลขที่มึงอยากจะกรอกอะสัส 5555 : 3\n",
      "โปรดกรอกตัวเลขที่มึงอยากจะกรอกอะสัส 5555 : 1\n",
      "โปรดกรอกตัวเลขที่มึงอยากจะกรอกอะสัส 5555 : 0\n"
     ]
    },
    {
     "name": "stdout",
     "output_type": "stream",
     "text": [
      "1.0\n",
      "4.00\n",
      "5.0\n"
     ]
    }
   ],
   "source": [
    "# 3.\n",
    "\n",
    "number = float(input(\"โปรดกรอกตัวเลขที่มึงอยากจะกรอกอะสัส 5555 :\"))\n",
    "max = number\n",
    "min = number\n",
    "sum = 0\n",
    "n = 0\n",
    "while number != 0:\n",
    "    if number > max:\n",
    "        max = number\n",
    "    elif number < min:\n",
    "        min = number\n",
    "    sum = sum + number\n",
    "    n = n + 1\n",
    "    number = float(input(\"โปรดกรอกตัวเลขที่มึงอยากจะกรอกอะสัส 5555 :\"))\n",
    "\n",
    "avg = sum / n\n",
    "print(min)\n",
    "print(\"%.2f\" % avg)\n",
    "print(max)"
   ]
  },
  {
   "cell_type": "code",
   "execution_count": 7,
   "id": "80dd2ce3-c85d-4663-83ec-86d3940a6c76",
   "metadata": {},
   "outputs": [
    {
     "name": "stdout",
     "output_type": "stream",
     "text": [
      "The minimum number is 7\n",
      "The average number is 25.00\n",
      "The maximum number is 49\n"
     ]
    }
   ],
   "source": [
    "# 4.\n",
    "\n",
    "A = [21,15,7,33,49]\n",
    "max = A[0]\n",
    "min = A[0]\n",
    "sum = 0\n",
    "n = 0\n",
    "for i in A:\n",
    "    if i < min:\n",
    "        min = i\n",
    "    elif i > max:\n",
    "        max = i\n",
    "    n = n + 1\n",
    "    sum = sum + i\n",
    "avg = sum / n\n",
    "\n",
    "print(\"The minimum number is\", min)\n",
    "print(\"The average number is\", \"%.2f\" % avg)\n",
    "print(\"The maximum number is\", max)  "
   ]
  }
 ],
 "metadata": {
  "kernelspec": {
   "display_name": "Python 3",
   "language": "python",
   "name": "python3"
  },
  "language_info": {
   "codemirror_mode": {
    "name": "ipython",
    "version": 3
   },
   "file_extension": ".py",
   "mimetype": "text/x-python",
   "name": "python",
   "nbconvert_exporter": "python",
   "pygments_lexer": "ipython3",
   "version": "3.8.8"
  }
 },
 "nbformat": 4,
 "nbformat_minor": 5
}
