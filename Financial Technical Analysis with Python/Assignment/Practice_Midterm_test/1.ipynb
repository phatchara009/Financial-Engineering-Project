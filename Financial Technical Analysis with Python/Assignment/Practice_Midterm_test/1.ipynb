{
 "cells": [
  {
   "cell_type": "code",
   "execution_count": 1,
   "id": "f30c46fc-28b7-44d3-9366-f58ed66914e2",
   "metadata": {},
   "outputs": [
    {
     "name": "stdin",
     "output_type": "stream",
     "text": [
      "จงกรอกข้อมูลปีเกิดของท่าน(เป็นปี พ.ศ.) : 2545\n"
     ]
    },
    {
     "name": "stdout",
     "output_type": "stream",
     "text": [
      "คุณเกิดปี 2545 ดังนั้นอายุของคุณ คือ 19 ปี\n"
     ]
    }
   ],
   "source": [
    "x = int(input(\"จงกรอกข้อมูลปีเกิดของท่าน(เป็นปี พ.ศ.) :\"))\n",
    "age = 2564 - x\n",
    "output = \"คุณเกิดปี {} ดังนั้นอายุของคุณ คือ {} ปี\"\n",
    "print(output.format(x,age))"
   ]
  },
  {
   "cell_type": "code",
   "execution_count": 3,
   "id": "9ab26f74-78d6-4fbb-b1e7-83d4f78a7579",
   "metadata": {},
   "outputs": [
    {
     "name": "stdin",
     "output_type": "stream",
     "text": [
      "กรอกเงินต้นที่ต้องการจะฝาก : 20000\n",
      "กรอกอัตราดอกเบี้ยที่เป็นร้อยละ : 1\n"
     ]
    },
    {
     "name": "stdout",
     "output_type": "stream",
     "text": [
      "ยอดเงินเก็บเมื่อเก็บครบ 1 ปี คือ!! 20200.00\n"
     ]
    }
   ],
   "source": [
    "principle = float(input(\"กรอกเงินต้นที่ต้องการจะฝาก :\"))\n",
    "interest_rate = float(input(\"กรอกอัตราดอกเบี้ยที่เป็นร้อยละ :\"))\n",
    "balance = principle * (1 + interest_rate/100)\n",
    "output = \"ยอดเงินเก็บเมื่อเก็บครบ 1 ปี คือ!! {:.2f}\"\n",
    "print(output.format(balance))"
   ]
  },
  {
   "cell_type": "code",
   "execution_count": 4,
   "id": "505c8af0-1ca2-4f39-adef-9b7056421739",
   "metadata": {},
   "outputs": [
    {
     "name": "stdin",
     "output_type": "stream",
     "text": [
      "โปรดกรอกคะแนนสอบของคุณ : 90\n"
     ]
    },
    {
     "name": "stdout",
     "output_type": "stream",
     "text": [
      "เกรดของคุณ คือ A\n"
     ]
    }
   ],
   "source": [
    "student_score = float(input(\"โปรดกรอกคะแนนสอบของคุณ :\"))\n",
    "if student_score >= 80:\n",
    "    grade = \"A\"\n",
    "elif student_score >= 70:\n",
    "    grade = \"B\"\n",
    "elif student_score >= 60:\n",
    "    grade = \"C\"\n",
    "elif student_score >= 50:\n",
    "    grade = \"D\"\n",
    "elif student_score < 50:\n",
    "    grade = \"F\"\n",
    "output = \"เกรดของคุณ คือ {}\"\n",
    "print(output.format(grade))"
   ]
  },
  {
   "cell_type": "code",
   "execution_count": 7,
   "id": "11171010-c489-4abe-9ed6-ff8bcd2cacf1",
   "metadata": {},
   "outputs": [
    {
     "name": "stdin",
     "output_type": "stream",
     "text": [
      "เพศของคุณคืออะไร (M หรือ F) : M\n"
     ]
    },
    {
     "name": "stdout",
     "output_type": "stream",
     "text": [
      "You are a male.\n"
     ]
    }
   ],
   "source": [
    "gender = str(input(\"เพศของคุณคืออะไร (M หรือ F) :\"))\n",
    "if gender == \"M\":\n",
    "    print(\"You are a male.\")\n",
    "elif gender == \"F\":\n",
    "    print(\"You are a female.\")"
   ]
  },
  {
   "cell_type": "code",
   "execution_count": 8,
   "id": "9ca6cbf6-35ac-47d2-8bc2-d774d08ee60d",
   "metadata": {},
   "outputs": [
    {
     "name": "stdin",
     "output_type": "stream",
     "text": [
      "จงกรอกชั่วโมงการทำงานต่อสัปดาห์ของคุณ : 50\n"
     ]
    },
    {
     "name": "stdout",
     "output_type": "stream",
     "text": [
      "ค่าแรงในสัปดาห์นี้ของคุณคือ 1700 บาท\n"
     ]
    }
   ],
   "source": [
    "hours = int(input(\"จงกรอกชั่วโมงการทำงานต่อสัปดาห์ของคุณ :\"))\n",
    "if hours < 40:\n",
    "    wage = hours * 30\n",
    "elif hours >= 40:\n",
    "    wage = 40*30 + (hours-40)*50\n",
    "output = \"ค่าแรงในสัปดาห์นี้ของคุณคือ {} บาท\"\n",
    "print(output.format(wage))"
   ]
  },
  {
   "cell_type": "code",
   "execution_count": null,
   "id": "411a05bf-3f0e-44a8-b911-48ecc91d3a32",
   "metadata": {},
   "outputs": [],
   "source": []
  }
 ],
 "metadata": {
  "kernelspec": {
   "display_name": "Python 3",
   "language": "python",
   "name": "python3"
  },
  "language_info": {
   "codemirror_mode": {
    "name": "ipython",
    "version": 3
   },
   "file_extension": ".py",
   "mimetype": "text/x-python",
   "name": "python",
   "nbconvert_exporter": "python",
   "pygments_lexer": "ipython3",
   "version": "3.8.8"
  }
 },
 "nbformat": 4,
 "nbformat_minor": 5
}
