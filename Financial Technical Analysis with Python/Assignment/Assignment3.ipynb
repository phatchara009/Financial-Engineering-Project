{
 "cells": [
  {
   "cell_type": "markdown",
   "id": "b4c69022-e151-4fc7-a0f5-bf5ee6b79781",
   "metadata": {},
   "source": [
    "# Assignment 3"
   ]
  },
  {
   "cell_type": "markdown",
   "id": "e9f3c54e-0d7f-4b2a-a967-1421617b0071",
   "metadata": {},
   "source": [
    "### 1."
   ]
  },
  {
   "cell_type": "code",
   "execution_count": 7,
   "id": "acbd7e4f-03ac-4e7b-a273-d78b14e6b0eb",
   "metadata": {},
   "outputs": [],
   "source": [
    "def multiply(x,y):\n",
    "    for i in range(x,y+1):\n",
    "        result = 3*i\n",
    "        print(\"%d x %d = %d\"%(3,i,result))\n",
    "        "
   ]
  },
  {
   "cell_type": "code",
   "execution_count": 8,
   "id": "78315922-4f48-4a3d-b168-a548b1462017",
   "metadata": {},
   "outputs": [
    {
     "name": "stdout",
     "output_type": "stream",
     "text": [
      "3 x 12 = 36\n"
     ]
    }
   ],
   "source": [
    "def multiply(x,y):\n",
    "     while y <= 12:\n",
    "        result = x*y\n",
    "        print(\"%d x %d = %d\"%(x,y,result))\n",
    "        y = y + 1\n",
    "multiply(3,12)"
   ]
  },
  {
   "cell_type": "code",
   "execution_count": 7,
   "id": "c6c1d176-d803-4779-8c01-6a80ec257565",
   "metadata": {},
   "outputs": [
    {
     "name": "stdout",
     "output_type": "stream",
     "text": [
      "3 x 12 = 36\n"
     ]
    }
   ],
   "source": [
    "multiply(3,12)"
   ]
  },
  {
   "cell_type": "code",
   "execution_count": 5,
   "id": "19e82db0-ce53-4bbf-bbe6-c2ccb5f43a36",
   "metadata": {},
   "outputs": [
    {
     "name": "stdout",
     "output_type": "stream",
     "text": [
      "3 * 1 = 3\n",
      "3 * 2 = 6\n",
      "3 * 3 = 9\n",
      "3 * 4 = 12\n",
      "3 * 5 = 15\n",
      "3 * 6 = 18\n",
      "3 * 7 = 21\n",
      "3 * 8 = 24\n",
      "3 * 9 = 27\n",
      "3 * 10 = 30\n",
      "3 * 11 = 33\n",
      "3 * 12 = 36\n"
     ]
    }
   ],
   "source": [
    "def multiply(x,y):  # กำหนดค่าเฉยๆ\n",
    "    return x*y      # ส่งผลรับการคูณมา\n",
    "# ผลรับที่ออกมาแต่ละบรรทัดเรียกว่า place holder\n",
    "for y in range(1,13):        # เริ่มตรงนี้\n",
    "    output = \"3 * {} = {}\"   # ลูปตัวแรกบรรทัดนี้กำหนดค่า\n",
    "    print(output.format(y,multiply(3,y))) "
   ]
  },
  {
   "cell_type": "markdown",
   "id": "656ada08-0584-4594-aea0-36217b063216",
   "metadata": {},
   "source": [
    "### 2."
   ]
  },
  {
   "cell_type": "code",
   "execution_count": 46,
   "id": "80d3444b-a9bd-441f-ba3e-392137cf3254",
   "metadata": {},
   "outputs": [
    {
     "name": "stdout",
     "output_type": "stream",
     "text": [
      "สูตรคูณแม่ 3\n",
      "3 * 1 = 3\n",
      "3 * 2 = 6\n",
      "3 * 3 = 9\n",
      "3 * 4 = 12\n",
      "3 * 5 = 15\n",
      "3 * 6 = 18\n",
      "3 * 7 = 21\n",
      "3 * 8 = 24\n",
      "3 * 9 = 27\n",
      "3 * 10 = 30\n",
      "3 * 11 = 33\n",
      "3 * 12 = 36\n",
      "สูตรคูณแม่ 4\n",
      "4 * 1 = 4\n",
      "4 * 2 = 8\n",
      "4 * 3 = 12\n",
      "4 * 4 = 16\n",
      "4 * 5 = 20\n",
      "4 * 6 = 24\n",
      "4 * 7 = 28\n",
      "4 * 8 = 32\n",
      "4 * 9 = 36\n",
      "4 * 10 = 40\n",
      "4 * 11 = 44\n",
      "4 * 12 = 48\n",
      "สูตรคูณแม่ 5\n",
      "5 * 1 = 5\n",
      "5 * 2 = 10\n",
      "5 * 3 = 15\n",
      "5 * 4 = 20\n",
      "5 * 5 = 25\n",
      "5 * 6 = 30\n",
      "5 * 7 = 35\n",
      "5 * 8 = 40\n",
      "5 * 9 = 45\n",
      "5 * 10 = 50\n",
      "5 * 11 = 55\n",
      "5 * 12 = 60\n"
     ]
    }
   ],
   "source": [
    "def multiply(x,y):  \n",
    "    return x*y      \n",
    "for x in range(3,6):\n",
    "    for y in range(1,13):        \n",
    "        output = \"{} * {} = {}\"   \n",
    "        print(output.format(x,y,multiply(x,y))) "
   ]
  },
  {
   "cell_type": "markdown",
   "id": "ff2acef0-4e66-4e1f-90b9-91a274977b83",
   "metadata": {},
   "source": [
    "#### อธิบายการลูป :\n",
    "- ลูปจะเริ่มจากลูป x แล้วไปต่อที่ลูป y\n",
    "- ทีนี้ สมมติเริ่มจาก x = 3 ก็จะไปทำลูป y ที่ x = 3 อยู่\n",
    "- ก็จะวนลูป y ตั้งแต่ 1 จนถึง 12 (13 คือ stop value)\n",
    "- พอวนครบ 12 ก็จะถือว่าจบลูป x = 3 และ y ตั้งแต่ 1-12\n",
    "- หมายความว่า จะจบ 1 ลูปใหญ่(ก็คือลูป x) เมื่อ เริ่มลูปด้วย x วนลูป y จนจบ\n",
    "- หลังจากนั้นจะเริ่มลูป x ตัวต่อไป คือ 4 ต่อไปเรื่อยๆ จนจบ"
   ]
  },
  {
   "cell_type": "code",
   "execution_count": 47,
   "id": "4e0c616a-dd39-4a27-95c2-b658baebc9e0",
   "metadata": {},
   "outputs": [
    {
     "name": "stdout",
     "output_type": "stream",
     "text": [
      "สูตรคูณแม่ 3 นะจ๊ะ\n",
      "3 * 1 = 3\n",
      "3 * 2 = 6\n",
      "3 * 3 = 9\n",
      "3 * 4 = 12\n",
      "3 * 5 = 15\n",
      "3 * 6 = 18\n",
      "3 * 7 = 21\n",
      "3 * 8 = 24\n",
      "3 * 9 = 27\n",
      "3 * 10 = 30\n",
      "3 * 11 = 33\n",
      "3 * 12 = 36\n",
      "สูตรคูณแม่ 4 นะจ๊ะ\n",
      "4 * 1 = 4\n",
      "4 * 2 = 8\n",
      "4 * 3 = 12\n",
      "4 * 4 = 16\n",
      "4 * 5 = 20\n",
      "4 * 6 = 24\n",
      "4 * 7 = 28\n",
      "4 * 8 = 32\n",
      "4 * 9 = 36\n",
      "4 * 10 = 40\n",
      "4 * 11 = 44\n",
      "4 * 12 = 48\n",
      "สูตรคูณแม่ 5 นะจ๊ะ\n",
      "5 * 1 = 5\n",
      "5 * 2 = 10\n",
      "5 * 3 = 15\n",
      "5 * 4 = 20\n",
      "5 * 5 = 25\n",
      "5 * 6 = 30\n",
      "5 * 7 = 35\n",
      "5 * 8 = 40\n",
      "5 * 9 = 45\n",
      "5 * 10 = 50\n",
      "5 * 11 = 55\n",
      "5 * 12 = 60\n"
     ]
    }
   ],
   "source": [
    "def multiply(x,y):  \n",
    "    return x*y      \n",
    "for x in range(3,6):\n",
    "    output = \"สูตรคูณแม่ {} นะจ๊ะ\"\n",
    "    print(output.format(x))\n",
    "    for y in range(1,13):        \n",
    "        output = \"{} * {} = {}\"   \n",
    "        print(output.format(x,y,multiply(x,y))) "
   ]
  },
  {
   "cell_type": "code",
   "execution_count": 12,
   "id": "1aa3004a-ce6a-476f-8b17-214ad7279832",
   "metadata": {},
   "outputs": [
    {
     "name": "stdin",
     "output_type": "stream",
     "text": [
      "แม่สูตรคูณแม่แรกที่อยากได้คือ : 1\n",
      "แม่สูตรคูณแม่ที่สองที่อยากได้คือ : 12\n"
     ]
    },
    {
     "name": "stdout",
     "output_type": "stream",
     "text": [
      "สูตรคูณแม่ 1 นะจ๊ะ\n",
      "1 * 1 = 1\n",
      "1 * 2 = 2\n",
      "1 * 3 = 3\n",
      "1 * 4 = 4\n",
      "1 * 5 = 5\n",
      "1 * 6 = 6\n",
      "1 * 7 = 7\n",
      "1 * 8 = 8\n",
      "1 * 9 = 9\n",
      "1 * 10 = 10\n",
      "1 * 11 = 11\n",
      "1 * 12 = 12\n",
      "สูตรคูณแม่ 2 นะจ๊ะ\n",
      "2 * 1 = 2\n",
      "2 * 2 = 4\n",
      "2 * 3 = 6\n",
      "2 * 4 = 8\n",
      "2 * 5 = 10\n",
      "2 * 6 = 12\n",
      "2 * 7 = 14\n",
      "2 * 8 = 16\n",
      "2 * 9 = 18\n",
      "2 * 10 = 20\n",
      "2 * 11 = 22\n",
      "2 * 12 = 24\n",
      "สูตรคูณแม่ 3 นะจ๊ะ\n",
      "3 * 1 = 3\n",
      "3 * 2 = 6\n",
      "3 * 3 = 9\n",
      "3 * 4 = 12\n",
      "3 * 5 = 15\n",
      "3 * 6 = 18\n",
      "3 * 7 = 21\n",
      "3 * 8 = 24\n",
      "3 * 9 = 27\n",
      "3 * 10 = 30\n",
      "3 * 11 = 33\n",
      "3 * 12 = 36\n",
      "สูตรคูณแม่ 4 นะจ๊ะ\n",
      "4 * 1 = 4\n",
      "4 * 2 = 8\n",
      "4 * 3 = 12\n",
      "4 * 4 = 16\n",
      "4 * 5 = 20\n",
      "4 * 6 = 24\n",
      "4 * 7 = 28\n",
      "4 * 8 = 32\n",
      "4 * 9 = 36\n",
      "4 * 10 = 40\n",
      "4 * 11 = 44\n",
      "4 * 12 = 48\n",
      "สูตรคูณแม่ 5 นะจ๊ะ\n",
      "5 * 1 = 5\n",
      "5 * 2 = 10\n",
      "5 * 3 = 15\n",
      "5 * 4 = 20\n",
      "5 * 5 = 25\n",
      "5 * 6 = 30\n",
      "5 * 7 = 35\n",
      "5 * 8 = 40\n",
      "5 * 9 = 45\n",
      "5 * 10 = 50\n",
      "5 * 11 = 55\n",
      "5 * 12 = 60\n",
      "สูตรคูณแม่ 6 นะจ๊ะ\n",
      "6 * 1 = 6\n",
      "6 * 2 = 12\n",
      "6 * 3 = 18\n",
      "6 * 4 = 24\n",
      "6 * 5 = 30\n",
      "6 * 6 = 36\n",
      "6 * 7 = 42\n",
      "6 * 8 = 48\n",
      "6 * 9 = 54\n",
      "6 * 10 = 60\n",
      "6 * 11 = 66\n",
      "6 * 12 = 72\n",
      "สูตรคูณแม่ 7 นะจ๊ะ\n",
      "7 * 1 = 7\n",
      "7 * 2 = 14\n",
      "7 * 3 = 21\n",
      "7 * 4 = 28\n",
      "7 * 5 = 35\n",
      "7 * 6 = 42\n",
      "7 * 7 = 49\n",
      "7 * 8 = 56\n",
      "7 * 9 = 63\n",
      "7 * 10 = 70\n",
      "7 * 11 = 77\n",
      "7 * 12 = 84\n",
      "สูตรคูณแม่ 8 นะจ๊ะ\n",
      "8 * 1 = 8\n",
      "8 * 2 = 16\n",
      "8 * 3 = 24\n",
      "8 * 4 = 32\n",
      "8 * 5 = 40\n",
      "8 * 6 = 48\n",
      "8 * 7 = 56\n",
      "8 * 8 = 64\n",
      "8 * 9 = 72\n",
      "8 * 10 = 80\n",
      "8 * 11 = 88\n",
      "8 * 12 = 96\n",
      "สูตรคูณแม่ 9 นะจ๊ะ\n",
      "9 * 1 = 9\n",
      "9 * 2 = 18\n",
      "9 * 3 = 27\n",
      "9 * 4 = 36\n",
      "9 * 5 = 45\n",
      "9 * 6 = 54\n",
      "9 * 7 = 63\n",
      "9 * 8 = 72\n",
      "9 * 9 = 81\n",
      "9 * 10 = 90\n",
      "9 * 11 = 99\n",
      "9 * 12 = 108\n",
      "สูตรคูณแม่ 10 นะจ๊ะ\n",
      "10 * 1 = 10\n",
      "10 * 2 = 20\n",
      "10 * 3 = 30\n",
      "10 * 4 = 40\n",
      "10 * 5 = 50\n",
      "10 * 6 = 60\n",
      "10 * 7 = 70\n",
      "10 * 8 = 80\n",
      "10 * 9 = 90\n",
      "10 * 10 = 100\n",
      "10 * 11 = 110\n",
      "10 * 12 = 120\n",
      "สูตรคูณแม่ 11 นะจ๊ะ\n",
      "11 * 1 = 11\n",
      "11 * 2 = 22\n",
      "11 * 3 = 33\n",
      "11 * 4 = 44\n",
      "11 * 5 = 55\n",
      "11 * 6 = 66\n",
      "11 * 7 = 77\n",
      "11 * 8 = 88\n",
      "11 * 9 = 99\n",
      "11 * 10 = 110\n",
      "11 * 11 = 121\n",
      "11 * 12 = 132\n",
      "สูตรคูณแม่ 12 นะจ๊ะ\n",
      "12 * 1 = 12\n",
      "12 * 2 = 24\n",
      "12 * 3 = 36\n",
      "12 * 4 = 48\n",
      "12 * 5 = 60\n",
      "12 * 6 = 72\n",
      "12 * 7 = 84\n",
      "12 * 8 = 96\n",
      "12 * 9 = 108\n",
      "12 * 10 = 120\n",
      "12 * 11 = 132\n",
      "12 * 12 = 144\n"
     ]
    }
   ],
   "source": [
    "def multiply(x,y):  \n",
    "    return x*y\n",
    "\n",
    "multi1 = int(input(\"แม่สูตรคูณแม่แรกที่อยากได้คือ :\"))\n",
    "multi2 = int(input(\"แม่สูตรคูณแม่สุดท้ายที่อยากได้คือ :\"))\n",
    "for x in range(multi1,multi2+1):\n",
    "    output = \"สูตรคูณแม่ {} นะจ๊ะ\"\n",
    "    print(output.format(x))\n",
    "    for y in range(1,13):        \n",
    "        output = \"{} * {} = {}\"   \n",
    "        print(output.format(x,y,multiply(x,y))) "
   ]
  },
  {
   "cell_type": "code",
   "execution_count": 1,
   "id": "21153604-08fc-4028-a1f1-409bbb1d046f",
   "metadata": {},
   "outputs": [
    {
     "name": "stdout",
     "output_type": "stream",
     "text": [
      "สูตรคุณแม่ 3 ครับผม\n",
      "3 x 1 = 3\n",
      "3 x 2 = 6\n",
      "3 x 3 = 9\n",
      "3 x 4 = 12\n",
      "3 x 5 = 15\n",
      "3 x 6 = 18\n",
      "3 x 7 = 21\n",
      "3 x 8 = 24\n",
      "3 x 9 = 27\n",
      "3 x 10 = 30\n",
      "3 x 11 = 33\n",
      "3 x 12 = 36\n",
      "สูตรคุณแม่ 4 ครับผม\n",
      "4 x 1 = 4\n",
      "4 x 2 = 8\n",
      "4 x 3 = 12\n",
      "4 x 4 = 16\n",
      "4 x 5 = 20\n",
      "4 x 6 = 24\n",
      "4 x 7 = 28\n",
      "4 x 8 = 32\n",
      "4 x 9 = 36\n",
      "4 x 10 = 40\n",
      "4 x 11 = 44\n",
      "4 x 12 = 48\n",
      "สูตรคุณแม่ 5 ครับผม\n",
      "5 x 1 = 5\n",
      "5 x 2 = 10\n",
      "5 x 3 = 15\n",
      "5 x 4 = 20\n",
      "5 x 5 = 25\n",
      "5 x 6 = 30\n",
      "5 x 7 = 35\n",
      "5 x 8 = 40\n",
      "5 x 9 = 45\n",
      "5 x 10 = 50\n",
      "5 x 11 = 55\n",
      "5 x 12 = 60\n"
     ]
    }
   ],
   "source": [
    "def multiply(x,y):\n",
    "    for a in range(x,y+1):\n",
    "        output = \"สูตรคุณแม่ {} ครับผม\"\n",
    "        print(output.format(a))\n",
    "        for b in range(1,13):\n",
    "            result = a * b\n",
    "            print(\"%d x %d = %d\"%(a,b,result))\n",
    "multiply(3,5)"
   ]
  },
  {
   "cell_type": "markdown",
   "id": "c752f924-86a4-428f-9cb7-7f827ddccca2",
   "metadata": {},
   "source": [
    "### 3."
   ]
  },
  {
   "cell_type": "code",
   "execution_count": 3,
   "id": "ca682ac5-3a7f-48f7-81c0-6969686fa939",
   "metadata": {},
   "outputs": [
    {
     "name": "stdout",
     "output_type": "stream",
     "text": [
      "factorial of 5 is 120!!\n"
     ]
    }
   ],
   "source": [
    "def factorial(n): # ฟังก์ชันจะต้องมี block ดังนั้นมีเครื่องหมาย : ตามหลังด้วย\n",
    "    fac = 1\n",
    "    for i in range(1,n+1):\n",
    "        fac = fac * i\n",
    "    output = \"factorial of {} is {}!!\"\n",
    "    print(output.format(n,fac))\n",
    "factorial(5)"
   ]
  },
  {
   "cell_type": "code",
   "execution_count": 2,
   "id": "e81f970b-0010-4b92-aca4-3ac435f1dacc",
   "metadata": {},
   "outputs": [
    {
     "name": "stdin",
     "output_type": "stream",
     "text": [
      "Please enter an integer : 5\n"
     ]
    },
    {
     "name": "stdout",
     "output_type": "stream",
     "text": [
      "n = 5, factorrial(n) = 120\n"
     ]
    }
   ],
   "source": [
    "def factorial(n): # ฟังก์ชันจะต้องมี block ดังนั้นมีเครื่องหมาย : ตามหลังด้วย\n",
    "    fac = 1\n",
    "    for i in range(1,n+1):\n",
    "        fac = fac * i\n",
    "    return fac\n",
    "\n",
    "# script หลัก\n",
    "n = int(input(\"Please enter an integer :\"))\n",
    "output = \"n = {}, factorrial(n) = {}\"\n",
    "print(output.format(n,factorial(n)))"
   ]
  },
  {
   "cell_type": "code",
   "execution_count": 4,
   "id": "cf9c093d-8749-4efe-a6ac-55a235a6b661",
   "metadata": {},
   "outputs": [
    {
     "name": "stdin",
     "output_type": "stream",
     "text": [
      "Please enter an integer : 5\n"
     ]
    },
    {
     "name": "stdout",
     "output_type": "stream",
     "text": [
      "n = 5, factorrial(n) = 120\n"
     ]
    }
   ],
   "source": [
    "def factorial(n): # ฟังก์ชันจะต้องมี block ดังนั้นมีเครื่องหมาย : ตามหลังด้วย\n",
    "    fac = 1\n",
    "    for i in range(1,n+1):\n",
    "        fac *= i    # *= คือ fac = fac * i\n",
    "    return fac\n",
    "\n",
    "# script หลัก\n",
    "n = int(input(\"Please enter an integer :\"))\n",
    "output = \"n = {}, factorrial(n) = {}\"\n",
    "print(output.format(n,factorial(n)))"
   ]
  },
  {
   "cell_type": "markdown",
   "id": "bec8fb8e-4879-40e7-93c0-930fa8f520c1",
   "metadata": {},
   "source": [
    "### อธิบาย\n",
    "- factorial 3\n",
    "- fac = factorial(3-1)*3\n",
    "- fac = factorail(2-1)*2*3\n",
    "- fac = 1*2*3 เพราะเรากำหนดว่าถ้าไม่ใช่ไม่เท่ากับ 1 แล้วหรือ else คือ factorial(1) คือ 1"
   ]
  },
  {
   "cell_type": "code",
   "execution_count": 6,
   "id": "cd77ce5c-c35f-4fe0-9c95-b017b626db99",
   "metadata": {},
   "outputs": [
    {
     "name": "stdin",
     "output_type": "stream",
     "text": [
      "Please enter an integer : 5\n"
     ]
    },
    {
     "name": "stdout",
     "output_type": "stream",
     "text": [
      "n = 5, factorrial(n) = 120\n"
     ]
    }
   ],
   "source": [
    "# ฟังก์ชันแบบนี้เรียกว่า recursive คือฟังก์ชันย้อนตัวเองกลับไปหลายๆรอบ สังเกตจาก factorial(n-1)\n",
    "def factorial(n): \n",
    "    if n != 1:\n",
    "        fac = factorial(n-1) * n\n",
    "    else:\n",
    "        fac = 1\n",
    "    return fac\n",
    "# script หลัก\n",
    "n = int(input(\"Please enter an integer :\"))\n",
    "output = \"n = {}, factorrial(n) = {}\"\n",
    "print(output.format(n,factorial(n))) # เราใช้ฟังก์ชันตอนนี้"
   ]
  },
  {
   "cell_type": "markdown",
   "id": "8aaefc21-cd62-45d3-acc1-d6e767c00323",
   "metadata": {},
   "source": [
    "### 4."
   ]
  },
  {
   "cell_type": "code",
   "execution_count": 8,
   "id": "95c8945d-d933-4cc4-a1b9-99bf52b165cc",
   "metadata": {},
   "outputs": [
    {
     "name": "stdin",
     "output_type": "stream",
     "text": [
      "Please enter your choice (1 to 3) : 1\n",
      "Please enter the width of the regtangle : 2\n",
      "Please enter the length of the regtangle: 3\n"
     ]
    },
    {
     "name": "stdout",
     "output_type": "stream",
     "text": [
      "The area is 6.00\n"
     ]
    }
   ],
   "source": [
    "import math     # import module เข้ามา\n",
    "def regtangleArea(w,l):\n",
    "    area = w*l\n",
    "    return area\n",
    "\n",
    "def circleArea(r):\n",
    "    area = math.pi*r**2\n",
    "    return area\n",
    "\n",
    "def triangleArea(b,h):\n",
    "    area = 0.5*b*h\n",
    "    return area\n",
    "\n",
    "choice = str(input(\"Please enter your choice (1 to 3) :\"))\n",
    "if choice == \"1\":\n",
    "    w = float(input(\"Please enter the width of the regtangle :\"))\n",
    "    l = float(input(\"Please enter the length of the regtangle:\"))\n",
    "    area = regtangleArea(w,l)\n",
    "elif choice == \"2\":\n",
    "    r = float(input(\"Please enter the radius of the circle :\"))\n",
    "    area = circleArea(r)\n",
    "elif choice == \"3\":\n",
    "    w = float(input(\"Please enter the base of the triangle :\"))\n",
    "    l = float(input(\"Please enter the high of the triangle:\"))    \n",
    "    area = triangleArea(b,h)\n",
    "\n",
    "output = \"The area is {:.2f}.\"\n",
    "print(output.format(area))"
   ]
  },
  {
   "cell_type": "markdown",
   "id": "4d2f969d-87f8-423a-b7ba-7ea657205137",
   "metadata": {},
   "source": [
    "### 5."
   ]
  },
  {
   "cell_type": "code",
   "execution_count": 9,
   "id": "0e1419da-10cb-4705-87a9-8bb02723277a",
   "metadata": {},
   "outputs": [
    {
     "name": "stdin",
     "output_type": "stream",
     "text": [
      "Please enter your choice (1 to 3) : 1\n",
      "Please enter the width of the regtangle : 2\n",
      "Please enter the length of the regtangle: 2\n"
     ]
    },
    {
     "name": "stdout",
     "output_type": "stream",
     "text": [
      "The area is 4.00.\n"
     ]
    }
   ],
   "source": [
    "import Area\n",
    "\n",
    "choice = str(input(\"Please enter your choice (1 to 3) :\"))\n",
    "if choice == \"1\":\n",
    "    w = float(input(\"Please enter the width of the regtangle :\"))\n",
    "    l = float(input(\"Please enter the length of the regtangle:\"))\n",
    "    area = Area.regtangleArea(w,l)\n",
    "elif choice == \"2\":\n",
    "    r = float(input(\"Please enter the radius of the circle :\"))\n",
    "    area = Area.circleArea(r)\n",
    "elif choice == \"3\":\n",
    "    w = float(input(\"Please enter the base of the triangle :\"))\n",
    "    l = float(input(\"Please enter the high of the triangle:\"))    \n",
    "    area = Area.triangleArea(b,h)\n",
    "\n",
    "output = \"The area is {:.2f}.\"\n",
    "print(output.format(area))"
   ]
  },
  {
   "cell_type": "code",
   "execution_count": 3,
   "id": "c4d7c26c-ee97-4864-b730-38c14a2f0d28",
   "metadata": {},
   "outputs": [
    {
     "name": "stdout",
     "output_type": "stream",
     "text": [
      "3 x 1 = 3\n",
      "3 x 2 = 6\n",
      "3 x 3 = 9\n",
      "3 x 4 = 12\n",
      "3 x 5 = 15\n",
      "3 x 6 = 18\n",
      "3 x 7 = 21\n",
      "3 x 8 = 24\n",
      "3 x 9 = 27\n",
      "3 x 10 = 30\n",
      "3 x 11 = 33\n",
      "3 x 12 = 36\n",
      "4 x 1 = 4\n",
      "4 x 2 = 8\n",
      "4 x 3 = 12\n",
      "4 x 4 = 16\n",
      "4 x 5 = 20\n",
      "4 x 6 = 24\n",
      "4 x 7 = 28\n",
      "4 x 8 = 32\n",
      "4 x 9 = 36\n",
      "4 x 10 = 40\n",
      "4 x 11 = 44\n",
      "4 x 12 = 48\n",
      "5 x 1 = 5\n",
      "5 x 2 = 10\n",
      "5 x 3 = 15\n",
      "5 x 4 = 20\n",
      "5 x 5 = 25\n",
      "5 x 6 = 30\n",
      "5 x 7 = 35\n",
      "5 x 8 = 40\n",
      "5 x 9 = 45\n",
      "5 x 10 = 50\n",
      "5 x 11 = 55\n",
      "5 x 12 = 60\n"
     ]
    }
   ],
   "source": [
    "def multiply(x,y):\n",
    "    return x*y\n",
    "\n",
    "for x in range(3,6):\n",
    "    for y in range(1,13):\n",
    "        output = \"{} x {} = {}\"\n",
    "        print(output.format(x,y,multiply(x,y)))"
   ]
  },
  {
   "cell_type": "code",
   "execution_count": 6,
   "id": "2cb36e73-01c2-49c9-a212-7b61f167eb63",
   "metadata": {},
   "outputs": [
    {
     "name": "stdin",
     "output_type": "stream",
     "text": [
      "โปรดกรอกตัวเลขที่ต้องการหาค่าของ factorial : 5\n"
     ]
    },
    {
     "name": "stdout",
     "output_type": "stream",
     "text": [
      "n = 5, ดังนั้นค่าของ factorial คือ 120\n"
     ]
    }
   ],
   "source": [
    "def factorial(n):\n",
    "    x = 1\n",
    "    for i in range(1,n+1):\n",
    "        x = x * i\n",
    "    return x\n",
    "n = int(input(\"โปรดกรอกตัวเลขที่ต้องการหาค่าของ factorial :\"))\n",
    "output = \"n = {}, ดังนั้นค่าของ factorial คือ {}\"\n",
    "print(output.format(n,factorial(n)))"
   ]
  },
  {
   "cell_type": "code",
   "execution_count": 12,
   "id": "43704462-46b6-4f0e-82ba-6b742a422f98",
   "metadata": {},
   "outputs": [
    {
     "name": "stdin",
     "output_type": "stream",
     "text": [
      "โปรดกรอกข้อที่ต้องการจะเลือก 1 2 3 : 2\n",
      "โปรดกรอกรัศมี 9\n"
     ]
    },
    {
     "name": "stdout",
     "output_type": "stream",
     "text": [
      "พื้นที่ของ choice ที่คุณเลือก คือ 254.47\n"
     ]
    }
   ],
   "source": [
    "import math as m\n",
    "def regtangle(w,l):\n",
    "    area = w*l\n",
    "    return area\n",
    "def circle(r):\n",
    "    area = m.pi*r**2\n",
    "    return area\n",
    "def triangle(b,h):\n",
    "    area = 0.5*b*h\n",
    "    return area\n",
    "\n",
    "choice = str(input(\"โปรดกรอกข้อที่ต้องการจะเลือก 1 2 3 :\"))\n",
    "if choice == \"1\":\n",
    "    w = float(input(\"โปรดกรอกความกว้าง :\"))\n",
    "    l = float(input(\"โปรดกรอกความยาว\"))\n",
    "    area = regtangle(w,l)\n",
    "elif choice == \"2\":\n",
    "    r = float(input(\"โปรดกรอกรัศมี\"))\n",
    "    area = circle(r)\n",
    "elif choice == \"3\":\n",
    "    b = float(input(\"โปรดกรอกฐาน\"))\n",
    "    h = float(input(\"โปรดกรอกความสูง\"))\n",
    "    area = triangle(b,h)\n",
    "\n",
    "output = \"พื้นที่ของ choice ที่คุณเลือก คือ {:.2f}\"\n",
    "print(output.format(area))"
   ]
  },
  {
   "cell_type": "code",
   "execution_count": null,
   "id": "9a259c6c-ce3b-444f-a764-927d8cd1b0b4",
   "metadata": {},
   "outputs": [],
   "source": []
  }
 ],
 "metadata": {
  "kernelspec": {
   "display_name": "Python 3",
   "language": "python",
   "name": "python3"
  },
  "language_info": {
   "codemirror_mode": {
    "name": "ipython",
    "version": 3
   },
   "file_extension": ".py",
   "mimetype": "text/x-python",
   "name": "python",
   "nbconvert_exporter": "python",
   "pygments_lexer": "ipython3",
   "version": "3.8.8"
  }
 },
 "nbformat": 4,
 "nbformat_minor": 5
}
