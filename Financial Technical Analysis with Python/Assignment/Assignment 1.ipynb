{
 "cells": [
  {
   "cell_type": "markdown",
   "id": "f192c38e-5441-428e-aedd-d5a9e5455fd8",
   "metadata": {},
   "source": [
    "## Assginment 1"
   ]
  },
  {
   "cell_type": "markdown",
   "id": "9bdf8437-93d1-4cb5-a1cc-baea0d0e3741",
   "metadata": {},
   "source": [
    "### 1."
   ]
  },
  {
   "cell_type": "code",
   "execution_count": 1,
   "id": "e12e116f-88b7-4c30-9681-f7da3534cdf0",
   "metadata": {},
   "outputs": [
    {
     "name": "stdin",
     "output_type": "stream",
     "text": [
      "Please enter your birth year : 2564\n"
     ]
    },
    {
     "name": "stdout",
     "output_type": "stream",
     "text": [
      "Your age is 0 years old.\n"
     ]
    }
   ],
   "source": [
    "birth_year = input(\"Please enter your birth year :\")\n",
    "age = 2564 - int(birth_year)\n",
    "output = \"Your age is {} years old.\"\n",
    "print(output.format(age))"
   ]
  },
  {
   "cell_type": "code",
   "execution_count": 2,
   "id": "833fa7be-ab2d-498e-bf54-34baeca64f66",
   "metadata": {},
   "outputs": [
    {
     "name": "stdin",
     "output_type": "stream",
     "text": [
      "Please enter your birth year : 2565\n"
     ]
    },
    {
     "name": "stdout",
     "output_type": "stream",
     "text": [
      "ยังไม่เกิดปะเนี่ย 555\n"
     ]
    }
   ],
   "source": [
    "birth_year = int(input(\"Please enter your birth year :\"))\n",
    "if birth_year < 2564 and birth_year > 2464:    \n",
    "    age = 2564 - int(birth_year)\n",
    "    output = \"Your age is {} years old.\"\n",
    "    print(output.format(age))\n",
    "elif birth_year > 2564:\n",
    "    print(\"ยังไม่เกิดปะเนี่ย 555\")\n",
    "else:\n",
    "    print(\"อายุมึงเยอะไปละ กรอกอายุผิดป่าว\")"
   ]
  },
  {
   "cell_type": "markdown",
   "id": "3d6c20ee-a44a-42bb-8774-acc05a043388",
   "metadata": {},
   "source": [
    "### 2."
   ]
  },
  {
   "cell_type": "code",
   "execution_count": 3,
   "id": "eaa49a3d-41bf-41b2-9032-8034838c4ce8",
   "metadata": {},
   "outputs": [
    {
     "name": "stdin",
     "output_type": "stream",
     "text": [
      "Please enter the principle : 15000.73\n",
      "Please enter the interest rate : 2.759\n"
     ]
    },
    {
     "name": "stdout",
     "output_type": "stream",
     "text": [
      "The final balance after one year saving will be 15414.60 Baht\n"
     ]
    }
   ],
   "source": [
    "principle = float(input(\"Please enter the principle :\"))\n",
    "interest_rate = float(input(\"Please enter the interest rate :\"))\n",
    "balance = principle * (1+interest_rate/100)\n",
    "output = \"The final balance after one year saving will be {:.2f} Baht\"\n",
    "print(output.format(balance))"
   ]
  },
  {
   "cell_type": "markdown",
   "id": "50fc20cb-93d8-4fd0-b938-6b4b6c235cd0",
   "metadata": {},
   "source": [
    "### 3."
   ]
  },
  {
   "cell_type": "code",
   "execution_count": 1,
   "id": "ad1c41c5-ecee-4a2e-956b-98215bbe5aed",
   "metadata": {},
   "outputs": [
    {
     "name": "stdin",
     "output_type": "stream",
     "text": [
      "Please enter your score: 100\n"
     ]
    },
    {
     "name": "stdout",
     "output_type": "stream",
     "text": [
      "A\n"
     ]
    }
   ],
   "source": [
    "score = int(input(\"Please enter your score:\"))\n",
    "if score > 50 and score < 60:\n",
    "    print(\"D\")\n",
    "elif score > 60 and score < 70:\n",
    "    print(\"C\")\n",
    "elif score > 70 and score < 80:\n",
    "    print(\"B\")\n",
    "elif score >= 80 :\n",
    "    print(\"A\")\n",
    "else:\n",
    "    print(\"F\")"
   ]
  },
  {
   "cell_type": "code",
   "execution_count": 2,
   "id": "0acf2258-84ee-4d1e-9469-38f5f0102fca",
   "metadata": {},
   "outputs": [
    {
     "name": "stdin",
     "output_type": "stream",
     "text": [
      "Please enter your score: 100\n"
     ]
    },
    {
     "name": "stdout",
     "output_type": "stream",
     "text": [
      "A\n"
     ]
    }
   ],
   "source": [
    "score = int(input(\"Please enter your score:\"))\n",
    "if score >= 80:\n",
    "    print(\"A\")\n",
    "elif score >= 70:\n",
    "    print(\"B\")\n",
    "elif score >= 60:\n",
    "    print(\"C\")\n",
    "elif score >= 50 :\n",
    "    print(\"D\")\n",
    "else:\n",
    "    print(\"F\")"
   ]
  },
  {
   "cell_type": "code",
   "execution_count": 3,
   "id": "d7d2f0b6-0686-4644-b038-3eee1da1eeef",
   "metadata": {},
   "outputs": [
    {
     "name": "stdin",
     "output_type": "stream",
     "text": [
      "Please enter your score: 100\n"
     ]
    },
    {
     "name": "stdout",
     "output_type": "stream",
     "text": [
      "Nice!! Your get A!!!\n"
     ]
    }
   ],
   "source": [
    "score = int(input(\"Please enter your score:\"))\n",
    "if score >= 80:\n",
    "    grade = \"A\"\n",
    "elif score >= 70:\n",
    "    grade = \"B\"\n",
    "elif score >= 60:\n",
    "    grade = \"C\"\n",
    "elif score >= 50 :\n",
    "    grade = \"D\"\n",
    "else:\n",
    "    grade = \"F\"\n",
    "output = \"Nice!! Your get {}!!!\"\n",
    "print(output.format(grade))"
   ]
  },
  {
   "cell_type": "markdown",
   "id": "7ae47acf-932e-461f-9d18-4a6d16191410",
   "metadata": {},
   "source": [
    "### 4."
   ]
  },
  {
   "cell_type": "code",
   "execution_count": 6,
   "id": "49a5393b-b448-4362-90b8-580df2aa9234",
   "metadata": {},
   "outputs": [
    {
     "name": "stdin",
     "output_type": "stream",
     "text": [
      "Please enter your gender (M/F) : dsa\n"
     ]
    }
   ],
   "source": [
    "gender = input(\"Please enter your gender (M/F) :\")\n",
    "if gender.upper() == \"M\":\n",
    "    print(\"You are a male.\")\n",
    "elif gender.upper() == \"F\":\n",
    "    print(\"You are a female.\")"
   ]
  },
  {
   "cell_type": "markdown",
   "id": "3fe422bd-a50e-4a2a-9658-546ac66bd9d3",
   "metadata": {},
   "source": [
    "### 5."
   ]
  },
  {
   "cell_type": "code",
   "execution_count": 13,
   "id": "365f5ed1-c2aa-4d0c-889f-ba81fda83b33",
   "metadata": {},
   "outputs": [
    {
     "ename": "SyntaxError",
     "evalue": "unexpected EOF while parsing (<ipython-input-13-906fd45be891>, line 8)",
     "output_type": "error",
     "traceback": [
      "\u001b[1;36m  File \u001b[1;32m\"<ipython-input-13-906fd45be891>\"\u001b[1;36m, line \u001b[1;32m8\u001b[0m\n\u001b[1;33m    print(output.format(float(wage))\u001b[0m\n\u001b[1;37m                                    ^\u001b[0m\n\u001b[1;31mSyntaxError\u001b[0m\u001b[1;31m:\u001b[0m unexpected EOF while parsing\n"
     ]
    }
   ],
   "source": [
    "#เขียนไม่ได้เป็นฟังก์ชัน ถือว่าเป็น script\n",
    "hours = int(input(\"Please enter your working hours per weak: \"))\n",
    "if hours > 40:\n",
    "    wage = 40*30 + (hours-40)*50\n",
    "else:\n",
    "    wage = hours*30\n",
    "output = \"You are earning {} Baht\"\n",
    "print(output.format(wage))"
   ]
  },
  {
   "cell_type": "code",
   "execution_count": 14,
   "id": "c49fa274-5df6-4c60-bce6-594cc3e84569",
   "metadata": {},
   "outputs": [
    {
     "name": "stdin",
     "output_type": "stream",
     "text": [
      "Please enter your working hours per weak:  10\n"
     ]
    },
    {
     "name": "stdout",
     "output_type": "stream",
     "text": [
      "You weakly wage is 300.00 Baht\n"
     ]
    }
   ],
   "source": [
    "#เขียนไม่ได้เป็นฟังก์ชัน ถือว่าเป็น script\n",
    "hours = int(input(\"Please enter your working hours per weak: \"))\n",
    "if hours > 40:\n",
    "    wage = 40*30 + (hours-40)*50\n",
    "else:\n",
    "    wage = hours*30\n",
    "output = \"You weakly wage is {:.2f} Baht\"\n",
    "print(output.format(float(wage)))"
   ]
  },
  {
   "cell_type": "code",
   "execution_count": null,
   "id": "255da2eb-7658-4afe-a89b-73f998a3a007",
   "metadata": {},
   "outputs": [],
   "source": []
  }
 ],
 "metadata": {
  "kernelspec": {
   "display_name": "Python 3",
   "language": "python",
   "name": "python3"
  },
  "language_info": {
   "codemirror_mode": {
    "name": "ipython",
    "version": 3
   },
   "file_extension": ".py",
   "mimetype": "text/x-python",
   "name": "python",
   "nbconvert_exporter": "python",
   "pygments_lexer": "ipython3",
   "version": "3.8.8"
  }
 },
 "nbformat": 4,
 "nbformat_minor": 5
}
